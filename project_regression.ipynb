{
  "cells": [
    {
      "cell_type": "markdown",
      "metadata": {
        "id": "LpLqHuoyrGMc"
      },
      "source": [
        "## 1. Regression - Supervised Machine Learning"
      ]
    },
    {
      "cell_type": "markdown",
      "metadata": {
        "id": "q1TqxeVlVsO4"
      },
      "source": [
        "## 1.1 Business Problem - Regression\n",
        "\n",
        "In this project, we have implemented Supervised Machine learning algorithm for Regression problem in the Hotel Industry.\n",
        "\n",
        "**Problem Statement** : Predicting the Cost/Price of a Hotel Booking made by the Hotel Guest/Customer.\n"
      ]
    },
    {
      "cell_type": "markdown",
      "metadata": {
        "id": "NWqJ4F9TbWpu"
      },
      "source": [
        "## 1.2 Data Collection\n",
        "\n",
        "For this project, we have selected a data set containing hotel booking information that was uploaded to Kaggle, an online community of data scientists, by user Jesse Mostipak.\n",
        "\n",
        "This dataset is available at Kaggle in the link: [Hotel Booking Demand Kaggle Dataset](https://www.kaggle.com/jessemostipak/hotel-booking-demand)\n"
      ]
    },
    {
      "cell_type": "code",
      "execution_count": 1,
      "metadata": {
        "colab": {
          "base_uri": "https://localhost:8080/",
          "height": 35
        },
        "id": "JDxP-ul9bvd-",
        "outputId": "d3cb91e8-f938-45ea-9339-4855e96d73f8"
      },
      "outputs": [
        {
          "data": {
            "text/plain": [
              "<Figure size 864x432 with 0 Axes>"
            ]
          },
          "metadata": {},
          "output_type": "display_data"
        }
      ],
      "source": [
        "import pandas as pd\n",
        "import numpy as np\n",
        "import matplotlib.pyplot as plt\n",
        "%matplotlib inline\n",
        "#plt.style.use('fivethirtyeight')\n",
        "plt.figure(figsize=(12,6))\n",
        "import seaborn as sns\n",
        "from warnings import filterwarnings\n",
        "filterwarnings('ignore')"
      ]
    },
    {
      "cell_type": "markdown",
      "metadata": {
        "id": "WLP1nI4e12mP"
      },
      "source": [
        "## 1.3 Data Exploration\n",
        "\n",
        "### 1.3.1 Understanding Data Set"
      ]
    },
    {
      "cell_type": "code",
      "execution_count": 2,
      "metadata": {
        "colab": {
          "base_uri": "https://localhost:8080/",
          "height": 357
        },
        "id": "tderUAgVcKwX",
        "outputId": "9fe6a897-d69d-45cd-cdbd-0101b0f3a15e"
      },
      "outputs": [
        {
          "data": {
            "text/html": [
              "<div>\n",
              "<style scoped>\n",
              "    .dataframe tbody tr th:only-of-type {\n",
              "        vertical-align: middle;\n",
              "    }\n",
              "\n",
              "    .dataframe tbody tr th {\n",
              "        vertical-align: top;\n",
              "    }\n",
              "\n",
              "    .dataframe thead th {\n",
              "        text-align: right;\n",
              "    }\n",
              "</style>\n",
              "<table border=\"1\" class=\"dataframe\">\n",
              "  <thead>\n",
              "    <tr style=\"text-align: right;\">\n",
              "      <th></th>\n",
              "      <th>hotel</th>\n",
              "      <th>is_canceled</th>\n",
              "      <th>lead_time</th>\n",
              "      <th>arrival_date_year</th>\n",
              "      <th>arrival_date_month</th>\n",
              "      <th>arrival_date_week_number</th>\n",
              "      <th>arrival_date_day_of_month</th>\n",
              "      <th>stays_in_weekend_nights</th>\n",
              "      <th>stays_in_week_nights</th>\n",
              "      <th>adults</th>\n",
              "      <th>children</th>\n",
              "      <th>babies</th>\n",
              "      <th>meal</th>\n",
              "      <th>country</th>\n",
              "      <th>market_segment</th>\n",
              "      <th>distribution_channel</th>\n",
              "      <th>is_repeated_guest</th>\n",
              "      <th>previous_cancellations</th>\n",
              "      <th>previous_bookings_not_canceled</th>\n",
              "      <th>reserved_room_type</th>\n",
              "      <th>assigned_room_type</th>\n",
              "      <th>booking_changes</th>\n",
              "      <th>deposit_type</th>\n",
              "      <th>agent</th>\n",
              "      <th>company</th>\n",
              "      <th>days_in_waiting_list</th>\n",
              "      <th>customer_type</th>\n",
              "      <th>adr</th>\n",
              "      <th>required_car_parking_spaces</th>\n",
              "      <th>total_of_special_requests</th>\n",
              "      <th>reservation_status</th>\n",
              "      <th>reservation_status_date</th>\n",
              "    </tr>\n",
              "  </thead>\n",
              "  <tbody>\n",
              "    <tr>\n",
              "      <th>0</th>\n",
              "      <td>Resort Hotel</td>\n",
              "      <td>0</td>\n",
              "      <td>342</td>\n",
              "      <td>2015</td>\n",
              "      <td>July</td>\n",
              "      <td>27</td>\n",
              "      <td>1</td>\n",
              "      <td>0</td>\n",
              "      <td>0</td>\n",
              "      <td>2</td>\n",
              "      <td>0.0</td>\n",
              "      <td>0</td>\n",
              "      <td>BB</td>\n",
              "      <td>PRT</td>\n",
              "      <td>Direct</td>\n",
              "      <td>Direct</td>\n",
              "      <td>0</td>\n",
              "      <td>0</td>\n",
              "      <td>0</td>\n",
              "      <td>C</td>\n",
              "      <td>C</td>\n",
              "      <td>3</td>\n",
              "      <td>No Deposit</td>\n",
              "      <td>NaN</td>\n",
              "      <td>NaN</td>\n",
              "      <td>0</td>\n",
              "      <td>Transient</td>\n",
              "      <td>0.0</td>\n",
              "      <td>0</td>\n",
              "      <td>0</td>\n",
              "      <td>Check-Out</td>\n",
              "      <td>01/07/2015</td>\n",
              "    </tr>\n",
              "    <tr>\n",
              "      <th>1</th>\n",
              "      <td>Resort Hotel</td>\n",
              "      <td>0</td>\n",
              "      <td>737</td>\n",
              "      <td>2015</td>\n",
              "      <td>July</td>\n",
              "      <td>27</td>\n",
              "      <td>1</td>\n",
              "      <td>0</td>\n",
              "      <td>0</td>\n",
              "      <td>2</td>\n",
              "      <td>0.0</td>\n",
              "      <td>0</td>\n",
              "      <td>BB</td>\n",
              "      <td>PRT</td>\n",
              "      <td>Direct</td>\n",
              "      <td>Direct</td>\n",
              "      <td>0</td>\n",
              "      <td>0</td>\n",
              "      <td>0</td>\n",
              "      <td>C</td>\n",
              "      <td>C</td>\n",
              "      <td>4</td>\n",
              "      <td>No Deposit</td>\n",
              "      <td>NaN</td>\n",
              "      <td>NaN</td>\n",
              "      <td>0</td>\n",
              "      <td>Transient</td>\n",
              "      <td>0.0</td>\n",
              "      <td>0</td>\n",
              "      <td>0</td>\n",
              "      <td>Check-Out</td>\n",
              "      <td>01/07/2015</td>\n",
              "    </tr>\n",
              "    <tr>\n",
              "      <th>2</th>\n",
              "      <td>Resort Hotel</td>\n",
              "      <td>0</td>\n",
              "      <td>7</td>\n",
              "      <td>2015</td>\n",
              "      <td>July</td>\n",
              "      <td>27</td>\n",
              "      <td>1</td>\n",
              "      <td>0</td>\n",
              "      <td>1</td>\n",
              "      <td>1</td>\n",
              "      <td>0.0</td>\n",
              "      <td>0</td>\n",
              "      <td>BB</td>\n",
              "      <td>GBR</td>\n",
              "      <td>Direct</td>\n",
              "      <td>Direct</td>\n",
              "      <td>0</td>\n",
              "      <td>0</td>\n",
              "      <td>0</td>\n",
              "      <td>A</td>\n",
              "      <td>C</td>\n",
              "      <td>0</td>\n",
              "      <td>No Deposit</td>\n",
              "      <td>NaN</td>\n",
              "      <td>NaN</td>\n",
              "      <td>0</td>\n",
              "      <td>Transient</td>\n",
              "      <td>75.0</td>\n",
              "      <td>0</td>\n",
              "      <td>0</td>\n",
              "      <td>Check-Out</td>\n",
              "      <td>02/07/2015</td>\n",
              "    </tr>\n",
              "    <tr>\n",
              "      <th>3</th>\n",
              "      <td>Resort Hotel</td>\n",
              "      <td>0</td>\n",
              "      <td>13</td>\n",
              "      <td>2015</td>\n",
              "      <td>July</td>\n",
              "      <td>27</td>\n",
              "      <td>1</td>\n",
              "      <td>0</td>\n",
              "      <td>1</td>\n",
              "      <td>1</td>\n",
              "      <td>0.0</td>\n",
              "      <td>0</td>\n",
              "      <td>BB</td>\n",
              "      <td>GBR</td>\n",
              "      <td>Corporate</td>\n",
              "      <td>Corporate</td>\n",
              "      <td>0</td>\n",
              "      <td>0</td>\n",
              "      <td>0</td>\n",
              "      <td>A</td>\n",
              "      <td>A</td>\n",
              "      <td>0</td>\n",
              "      <td>No Deposit</td>\n",
              "      <td>304.0</td>\n",
              "      <td>NaN</td>\n",
              "      <td>0</td>\n",
              "      <td>Transient</td>\n",
              "      <td>75.0</td>\n",
              "      <td>0</td>\n",
              "      <td>0</td>\n",
              "      <td>Check-Out</td>\n",
              "      <td>02/07/2015</td>\n",
              "    </tr>\n",
              "    <tr>\n",
              "      <th>4</th>\n",
              "      <td>Resort Hotel</td>\n",
              "      <td>0</td>\n",
              "      <td>14</td>\n",
              "      <td>2015</td>\n",
              "      <td>July</td>\n",
              "      <td>27</td>\n",
              "      <td>1</td>\n",
              "      <td>0</td>\n",
              "      <td>2</td>\n",
              "      <td>2</td>\n",
              "      <td>0.0</td>\n",
              "      <td>0</td>\n",
              "      <td>BB</td>\n",
              "      <td>GBR</td>\n",
              "      <td>Online TA</td>\n",
              "      <td>TA/TO</td>\n",
              "      <td>0</td>\n",
              "      <td>0</td>\n",
              "      <td>0</td>\n",
              "      <td>A</td>\n",
              "      <td>A</td>\n",
              "      <td>0</td>\n",
              "      <td>No Deposit</td>\n",
              "      <td>240.0</td>\n",
              "      <td>NaN</td>\n",
              "      <td>0</td>\n",
              "      <td>Transient</td>\n",
              "      <td>98.0</td>\n",
              "      <td>0</td>\n",
              "      <td>1</td>\n",
              "      <td>Check-Out</td>\n",
              "      <td>03/07/2015</td>\n",
              "    </tr>\n",
              "  </tbody>\n",
              "</table>\n",
              "</div>"
            ],
            "text/plain": [
              "          hotel  is_canceled  lead_time  arrival_date_year arrival_date_month  \\\n",
              "0  Resort Hotel            0        342               2015               July   \n",
              "1  Resort Hotel            0        737               2015               July   \n",
              "2  Resort Hotel            0          7               2015               July   \n",
              "3  Resort Hotel            0         13               2015               July   \n",
              "4  Resort Hotel            0         14               2015               July   \n",
              "\n",
              "   arrival_date_week_number  arrival_date_day_of_month  \\\n",
              "0                        27                          1   \n",
              "1                        27                          1   \n",
              "2                        27                          1   \n",
              "3                        27                          1   \n",
              "4                        27                          1   \n",
              "\n",
              "   stays_in_weekend_nights  stays_in_week_nights  adults  children  babies  \\\n",
              "0                        0                     0       2       0.0       0   \n",
              "1                        0                     0       2       0.0       0   \n",
              "2                        0                     1       1       0.0       0   \n",
              "3                        0                     1       1       0.0       0   \n",
              "4                        0                     2       2       0.0       0   \n",
              "\n",
              "  meal country market_segment distribution_channel  is_repeated_guest  \\\n",
              "0   BB     PRT         Direct               Direct                  0   \n",
              "1   BB     PRT         Direct               Direct                  0   \n",
              "2   BB     GBR         Direct               Direct                  0   \n",
              "3   BB     GBR      Corporate            Corporate                  0   \n",
              "4   BB     GBR      Online TA                TA/TO                  0   \n",
              "\n",
              "   previous_cancellations  previous_bookings_not_canceled reserved_room_type  \\\n",
              "0                       0                               0                  C   \n",
              "1                       0                               0                  C   \n",
              "2                       0                               0                  A   \n",
              "3                       0                               0                  A   \n",
              "4                       0                               0                  A   \n",
              "\n",
              "  assigned_room_type  booking_changes deposit_type  agent  company  \\\n",
              "0                  C                3   No Deposit    NaN      NaN   \n",
              "1                  C                4   No Deposit    NaN      NaN   \n",
              "2                  C                0   No Deposit    NaN      NaN   \n",
              "3                  A                0   No Deposit  304.0      NaN   \n",
              "4                  A                0   No Deposit  240.0      NaN   \n",
              "\n",
              "   days_in_waiting_list customer_type   adr  required_car_parking_spaces  \\\n",
              "0                     0     Transient   0.0                            0   \n",
              "1                     0     Transient   0.0                            0   \n",
              "2                     0     Transient  75.0                            0   \n",
              "3                     0     Transient  75.0                            0   \n",
              "4                     0     Transient  98.0                            0   \n",
              "\n",
              "   total_of_special_requests reservation_status reservation_status_date  \n",
              "0                          0          Check-Out              01/07/2015  \n",
              "1                          0          Check-Out              01/07/2015  \n",
              "2                          0          Check-Out              02/07/2015  \n",
              "3                          0          Check-Out              02/07/2015  \n",
              "4                          1          Check-Out              03/07/2015  "
            ]
          },
          "execution_count": 2,
          "metadata": {},
          "output_type": "execute_result"
        }
      ],
      "source": [
        "df = pd.read_csv('hotel_bookings.csv')\n",
        "pd.set_option('display.max_columns',None)\n",
        "df.head()"
      ]
    },
    {
      "cell_type": "markdown",
      "metadata": {
        "id": "m-lF7dBkMKfA"
      },
      "source": [
        "### 1.3.2 Shape of the dataset"
      ]
    },
    {
      "cell_type": "code",
      "execution_count": 3,
      "metadata": {
        "colab": {
          "base_uri": "https://localhost:8080/"
        },
        "id": "bh-_R0HoKWLb",
        "outputId": "8ac8fa02-a9b2-46e8-d72e-5ada39fc6d5c"
      },
      "outputs": [
        {
          "data": {
            "text/plain": [
              "(119390, 32)"
            ]
          },
          "execution_count": 3,
          "metadata": {},
          "output_type": "execute_result"
        }
      ],
      "source": [
        "df.shape"
      ]
    },
    {
      "cell_type": "markdown",
      "metadata": {
        "id": "mWIdHTPPMRsI"
      },
      "source": [
        "### 1.3.3 Checking Data Type of each Column"
      ]
    },
    {
      "cell_type": "code",
      "execution_count": 4,
      "metadata": {
        "colab": {
          "base_uri": "https://localhost:8080/"
        },
        "id": "gDviOCQpKWUg",
        "outputId": "a8a95a9e-de4e-499e-9741-9ad58d6a7b1f"
      },
      "outputs": [
        {
          "name": "stdout",
          "output_type": "stream",
          "text": [
            "<class 'pandas.core.frame.DataFrame'>\n",
            "RangeIndex: 119390 entries, 0 to 119389\n",
            "Data columns (total 32 columns):\n",
            " #   Column                          Non-Null Count   Dtype  \n",
            "---  ------                          --------------   -----  \n",
            " 0   hotel                           119390 non-null  object \n",
            " 1   is_canceled                     119390 non-null  int64  \n",
            " 2   lead_time                       119390 non-null  int64  \n",
            " 3   arrival_date_year               119390 non-null  int64  \n",
            " 4   arrival_date_month              119390 non-null  object \n",
            " 5   arrival_date_week_number        119390 non-null  int64  \n",
            " 6   arrival_date_day_of_month       119390 non-null  int64  \n",
            " 7   stays_in_weekend_nights         119390 non-null  int64  \n",
            " 8   stays_in_week_nights            119390 non-null  int64  \n",
            " 9   adults                          119390 non-null  int64  \n",
            " 10  children                        119386 non-null  float64\n",
            " 11  babies                          119390 non-null  int64  \n",
            " 12  meal                            119390 non-null  object \n",
            " 13  country                         118902 non-null  object \n",
            " 14  market_segment                  119390 non-null  object \n",
            " 15  distribution_channel            119390 non-null  object \n",
            " 16  is_repeated_guest               119390 non-null  int64  \n",
            " 17  previous_cancellations          119390 non-null  int64  \n",
            " 18  previous_bookings_not_canceled  119390 non-null  int64  \n",
            " 19  reserved_room_type              119390 non-null  object \n",
            " 20  assigned_room_type              119390 non-null  object \n",
            " 21  booking_changes                 119390 non-null  int64  \n",
            " 22  deposit_type                    119390 non-null  object \n",
            " 23  agent                           103050 non-null  float64\n",
            " 24  company                         6797 non-null    float64\n",
            " 25  days_in_waiting_list            119390 non-null  int64  \n",
            " 26  customer_type                   119390 non-null  object \n",
            " 27  adr                             119390 non-null  float64\n",
            " 28  required_car_parking_spaces     119390 non-null  int64  \n",
            " 29  total_of_special_requests       119390 non-null  int64  \n",
            " 30  reservation_status              119390 non-null  object \n",
            " 31  reservation_status_date         119390 non-null  object \n",
            "dtypes: float64(4), int64(16), object(12)\n",
            "memory usage: 29.1+ MB\n"
          ]
        }
      ],
      "source": [
        "df.info()"
      ]
    },
    {
      "cell_type": "markdown",
      "metadata": {
        "id": "cj3IJ8-TMAyL"
      },
      "source": [
        "### 1.3.4 Exploring Numerical Features"
      ]
    },
    {
      "cell_type": "code",
      "execution_count": 5,
      "metadata": {
        "colab": {
          "base_uri": "https://localhost:8080/"
        },
        "id": "nkVkSolgMfnG",
        "outputId": "f048afa3-6313-4af4-dacf-1356dd9b53ad"
      },
      "outputs": [
        {
          "name": "stdout",
          "output_type": "stream",
          "text": [
            "Number of Numerical Features are :  20\n"
          ]
        }
      ],
      "source": [
        "num_feature = [feature for feature in df.columns if df[feature].dtype != 'object']\n",
        "print(\"Number of Numerical Features are : \",len(num_feature))"
      ]
    },
    {
      "cell_type": "code",
      "execution_count": 6,
      "metadata": {
        "colab": {
          "base_uri": "https://localhost:8080/"
        },
        "id": "Es1oXTXbM_Pe",
        "outputId": "94b5eec2-3c79-4950-8e99-3b874bde7951"
      },
      "outputs": [
        {
          "name": "stdout",
          "output_type": "stream",
          "text": [
            "['is_canceled', 'lead_time', 'arrival_date_year', 'arrival_date_week_number', 'arrival_date_day_of_month', 'stays_in_weekend_nights', 'stays_in_week_nights', 'adults', 'children', 'babies', 'is_repeated_guest', 'previous_cancellations', 'previous_bookings_not_canceled', 'booking_changes', 'agent', 'company', 'days_in_waiting_list', 'adr', 'required_car_parking_spaces', 'total_of_special_requests']\n"
          ]
        }
      ],
      "source": [
        "print(num_feature)"
      ]
    },
    {
      "cell_type": "code",
      "execution_count": 7,
      "metadata": {
        "colab": {
          "base_uri": "https://localhost:8080/",
          "height": 207
        },
        "id": "V-fp41iRMpwR",
        "outputId": "0a7974e4-04aa-432b-ee3b-c6064b9c42cc"
      },
      "outputs": [
        {
          "data": {
            "text/html": [
              "<div>\n",
              "<style scoped>\n",
              "    .dataframe tbody tr th:only-of-type {\n",
              "        vertical-align: middle;\n",
              "    }\n",
              "\n",
              "    .dataframe tbody tr th {\n",
              "        vertical-align: top;\n",
              "    }\n",
              "\n",
              "    .dataframe thead th {\n",
              "        text-align: right;\n",
              "    }\n",
              "</style>\n",
              "<table border=\"1\" class=\"dataframe\">\n",
              "  <thead>\n",
              "    <tr style=\"text-align: right;\">\n",
              "      <th></th>\n",
              "      <th>is_canceled</th>\n",
              "      <th>lead_time</th>\n",
              "      <th>arrival_date_year</th>\n",
              "      <th>arrival_date_week_number</th>\n",
              "      <th>arrival_date_day_of_month</th>\n",
              "      <th>stays_in_weekend_nights</th>\n",
              "      <th>stays_in_week_nights</th>\n",
              "      <th>adults</th>\n",
              "      <th>children</th>\n",
              "      <th>babies</th>\n",
              "      <th>is_repeated_guest</th>\n",
              "      <th>previous_cancellations</th>\n",
              "      <th>previous_bookings_not_canceled</th>\n",
              "      <th>booking_changes</th>\n",
              "      <th>agent</th>\n",
              "      <th>company</th>\n",
              "      <th>days_in_waiting_list</th>\n",
              "      <th>adr</th>\n",
              "      <th>required_car_parking_spaces</th>\n",
              "      <th>total_of_special_requests</th>\n",
              "    </tr>\n",
              "  </thead>\n",
              "  <tbody>\n",
              "    <tr>\n",
              "      <th>0</th>\n",
              "      <td>0</td>\n",
              "      <td>342</td>\n",
              "      <td>2015</td>\n",
              "      <td>27</td>\n",
              "      <td>1</td>\n",
              "      <td>0</td>\n",
              "      <td>0</td>\n",
              "      <td>2</td>\n",
              "      <td>0.0</td>\n",
              "      <td>0</td>\n",
              "      <td>0</td>\n",
              "      <td>0</td>\n",
              "      <td>0</td>\n",
              "      <td>3</td>\n",
              "      <td>NaN</td>\n",
              "      <td>NaN</td>\n",
              "      <td>0</td>\n",
              "      <td>0.0</td>\n",
              "      <td>0</td>\n",
              "      <td>0</td>\n",
              "    </tr>\n",
              "    <tr>\n",
              "      <th>1</th>\n",
              "      <td>0</td>\n",
              "      <td>737</td>\n",
              "      <td>2015</td>\n",
              "      <td>27</td>\n",
              "      <td>1</td>\n",
              "      <td>0</td>\n",
              "      <td>0</td>\n",
              "      <td>2</td>\n",
              "      <td>0.0</td>\n",
              "      <td>0</td>\n",
              "      <td>0</td>\n",
              "      <td>0</td>\n",
              "      <td>0</td>\n",
              "      <td>4</td>\n",
              "      <td>NaN</td>\n",
              "      <td>NaN</td>\n",
              "      <td>0</td>\n",
              "      <td>0.0</td>\n",
              "      <td>0</td>\n",
              "      <td>0</td>\n",
              "    </tr>\n",
              "    <tr>\n",
              "      <th>2</th>\n",
              "      <td>0</td>\n",
              "      <td>7</td>\n",
              "      <td>2015</td>\n",
              "      <td>27</td>\n",
              "      <td>1</td>\n",
              "      <td>0</td>\n",
              "      <td>1</td>\n",
              "      <td>1</td>\n",
              "      <td>0.0</td>\n",
              "      <td>0</td>\n",
              "      <td>0</td>\n",
              "      <td>0</td>\n",
              "      <td>0</td>\n",
              "      <td>0</td>\n",
              "      <td>NaN</td>\n",
              "      <td>NaN</td>\n",
              "      <td>0</td>\n",
              "      <td>75.0</td>\n",
              "      <td>0</td>\n",
              "      <td>0</td>\n",
              "    </tr>\n",
              "  </tbody>\n",
              "</table>\n",
              "</div>"
            ],
            "text/plain": [
              "   is_canceled  lead_time  arrival_date_year  arrival_date_week_number  \\\n",
              "0            0        342               2015                        27   \n",
              "1            0        737               2015                        27   \n",
              "2            0          7               2015                        27   \n",
              "\n",
              "   arrival_date_day_of_month  stays_in_weekend_nights  stays_in_week_nights  \\\n",
              "0                          1                        0                     0   \n",
              "1                          1                        0                     0   \n",
              "2                          1                        0                     1   \n",
              "\n",
              "   adults  children  babies  is_repeated_guest  previous_cancellations  \\\n",
              "0       2       0.0       0                  0                       0   \n",
              "1       2       0.0       0                  0                       0   \n",
              "2       1       0.0       0                  0                       0   \n",
              "\n",
              "   previous_bookings_not_canceled  booking_changes  agent  company  \\\n",
              "0                               0                3    NaN      NaN   \n",
              "1                               0                4    NaN      NaN   \n",
              "2                               0                0    NaN      NaN   \n",
              "\n",
              "   days_in_waiting_list   adr  required_car_parking_spaces  \\\n",
              "0                     0   0.0                            0   \n",
              "1                     0   0.0                            0   \n",
              "2                     0  75.0                            0   \n",
              "\n",
              "   total_of_special_requests  \n",
              "0                          0  \n",
              "1                          0  \n",
              "2                          0  "
            ]
          },
          "execution_count": 7,
          "metadata": {},
          "output_type": "execute_result"
        }
      ],
      "source": [
        "df[num_feature][:3]"
      ]
    },
    {
      "cell_type": "markdown",
      "metadata": {
        "id": "yMbkuCEuMu9d"
      },
      "source": [
        "### 1.3.5 Exploring Categorical Features"
      ]
    },
    {
      "cell_type": "code",
      "execution_count": 8,
      "metadata": {
        "colab": {
          "base_uri": "https://localhost:8080/"
        },
        "id": "cehtXzf7MqZc",
        "outputId": "e358b358-2245-414b-c26a-90607fc116b3"
      },
      "outputs": [
        {
          "name": "stdout",
          "output_type": "stream",
          "text": [
            "Number of Categorical Features are :  12\n"
          ]
        }
      ],
      "source": [
        "cat_feature = [feature for feature in df.columns if df[feature].dtype == 'object']\n",
        "print(\"Number of Categorical Features are : \",len(cat_feature))"
      ]
    },
    {
      "cell_type": "code",
      "execution_count": 9,
      "metadata": {
        "colab": {
          "base_uri": "https://localhost:8080/"
        },
        "id": "WZpR5IO3NqUa",
        "outputId": "a812880c-7f95-4e11-8eb0-cb13bacd2565"
      },
      "outputs": [
        {
          "name": "stdout",
          "output_type": "stream",
          "text": [
            "['hotel', 'arrival_date_month', 'meal', 'country', 'market_segment', 'distribution_channel', 'reserved_room_type', 'assigned_room_type', 'deposit_type', 'customer_type', 'reservation_status', 'reservation_status_date']\n"
          ]
        }
      ],
      "source": [
        "print(cat_feature)"
      ]
    },
    {
      "cell_type": "code",
      "execution_count": 10,
      "metadata": {
        "colab": {
          "base_uri": "https://localhost:8080/",
          "height": 259
        },
        "id": "u2F67KeyM3e7",
        "outputId": "38f33ed6-77cd-45da-b477-b88fda6da128"
      },
      "outputs": [
        {
          "data": {
            "text/html": [
              "<div>\n",
              "<style scoped>\n",
              "    .dataframe tbody tr th:only-of-type {\n",
              "        vertical-align: middle;\n",
              "    }\n",
              "\n",
              "    .dataframe tbody tr th {\n",
              "        vertical-align: top;\n",
              "    }\n",
              "\n",
              "    .dataframe thead th {\n",
              "        text-align: right;\n",
              "    }\n",
              "</style>\n",
              "<table border=\"1\" class=\"dataframe\">\n",
              "  <thead>\n",
              "    <tr style=\"text-align: right;\">\n",
              "      <th></th>\n",
              "      <th>hotel</th>\n",
              "      <th>arrival_date_month</th>\n",
              "      <th>meal</th>\n",
              "      <th>country</th>\n",
              "      <th>market_segment</th>\n",
              "      <th>distribution_channel</th>\n",
              "      <th>reserved_room_type</th>\n",
              "      <th>assigned_room_type</th>\n",
              "      <th>deposit_type</th>\n",
              "      <th>customer_type</th>\n",
              "      <th>reservation_status</th>\n",
              "      <th>reservation_status_date</th>\n",
              "    </tr>\n",
              "  </thead>\n",
              "  <tbody>\n",
              "    <tr>\n",
              "      <th>0</th>\n",
              "      <td>Resort Hotel</td>\n",
              "      <td>July</td>\n",
              "      <td>BB</td>\n",
              "      <td>PRT</td>\n",
              "      <td>Direct</td>\n",
              "      <td>Direct</td>\n",
              "      <td>C</td>\n",
              "      <td>C</td>\n",
              "      <td>No Deposit</td>\n",
              "      <td>Transient</td>\n",
              "      <td>Check-Out</td>\n",
              "      <td>01/07/2015</td>\n",
              "    </tr>\n",
              "    <tr>\n",
              "      <th>1</th>\n",
              "      <td>Resort Hotel</td>\n",
              "      <td>July</td>\n",
              "      <td>BB</td>\n",
              "      <td>PRT</td>\n",
              "      <td>Direct</td>\n",
              "      <td>Direct</td>\n",
              "      <td>C</td>\n",
              "      <td>C</td>\n",
              "      <td>No Deposit</td>\n",
              "      <td>Transient</td>\n",
              "      <td>Check-Out</td>\n",
              "      <td>01/07/2015</td>\n",
              "    </tr>\n",
              "    <tr>\n",
              "      <th>2</th>\n",
              "      <td>Resort Hotel</td>\n",
              "      <td>July</td>\n",
              "      <td>BB</td>\n",
              "      <td>GBR</td>\n",
              "      <td>Direct</td>\n",
              "      <td>Direct</td>\n",
              "      <td>A</td>\n",
              "      <td>C</td>\n",
              "      <td>No Deposit</td>\n",
              "      <td>Transient</td>\n",
              "      <td>Check-Out</td>\n",
              "      <td>02/07/2015</td>\n",
              "    </tr>\n",
              "  </tbody>\n",
              "</table>\n",
              "</div>"
            ],
            "text/plain": [
              "          hotel arrival_date_month meal country market_segment  \\\n",
              "0  Resort Hotel               July   BB     PRT         Direct   \n",
              "1  Resort Hotel               July   BB     PRT         Direct   \n",
              "2  Resort Hotel               July   BB     GBR         Direct   \n",
              "\n",
              "  distribution_channel reserved_room_type assigned_room_type deposit_type  \\\n",
              "0               Direct                  C                  C   No Deposit   \n",
              "1               Direct                  C                  C   No Deposit   \n",
              "2               Direct                  A                  C   No Deposit   \n",
              "\n",
              "  customer_type reservation_status reservation_status_date  \n",
              "0     Transient          Check-Out              01/07/2015  \n",
              "1     Transient          Check-Out              01/07/2015  \n",
              "2     Transient          Check-Out              02/07/2015  "
            ]
          },
          "execution_count": 10,
          "metadata": {},
          "output_type": "execute_result"
        }
      ],
      "source": [
        "df[cat_feature][:3]"
      ]
    },
    {
      "cell_type": "markdown",
      "metadata": {
        "id": "SoYQNsw5OalY"
      },
      "source": [
        "### 1.3.6 Checking Missing Values (NaN) in Dataset "
      ]
    },
    {
      "cell_type": "code",
      "execution_count": 11,
      "metadata": {
        "colab": {
          "base_uri": "https://localhost:8080/"
        },
        "id": "CFon23uGM4Gx",
        "outputId": "c199323b-17a9-4f1d-c9ec-f88b7053c5e8"
      },
      "outputs": [
        {
          "data": {
            "text/plain": [
              "hotel                                  0\n",
              "is_canceled                            0\n",
              "lead_time                              0\n",
              "arrival_date_year                      0\n",
              "arrival_date_month                     0\n",
              "arrival_date_week_number               0\n",
              "arrival_date_day_of_month              0\n",
              "stays_in_weekend_nights                0\n",
              "stays_in_week_nights                   0\n",
              "adults                                 0\n",
              "children                               4\n",
              "babies                                 0\n",
              "meal                                   0\n",
              "country                              488\n",
              "market_segment                         0\n",
              "distribution_channel                   0\n",
              "is_repeated_guest                      0\n",
              "previous_cancellations                 0\n",
              "previous_bookings_not_canceled         0\n",
              "reserved_room_type                     0\n",
              "assigned_room_type                     0\n",
              "booking_changes                        0\n",
              "deposit_type                           0\n",
              "agent                              16340\n",
              "company                           112593\n",
              "days_in_waiting_list                   0\n",
              "customer_type                          0\n",
              "adr                                    0\n",
              "required_car_parking_spaces            0\n",
              "total_of_special_requests              0\n",
              "reservation_status                     0\n",
              "reservation_status_date                0\n",
              "dtype: int64"
            ]
          },
          "execution_count": 11,
          "metadata": {},
          "output_type": "execute_result"
        }
      ],
      "source": [
        "df.isnull().sum()"
      ]
    },
    {
      "cell_type": "markdown",
      "metadata": {
        "id": "ooVRSQ0dOrZl"
      },
      "source": [
        "Checking % of Missing Values in the Data set"
      ]
    },
    {
      "cell_type": "code",
      "execution_count": 12,
      "metadata": {
        "colab": {
          "base_uri": "https://localhost:8080/"
        },
        "id": "fAO6zGS1Okod",
        "outputId": "3d4390ab-bf39-4535-d768-ad69e04e3450"
      },
      "outputs": [
        {
          "name": "stdout",
          "output_type": "stream",
          "text": [
            "children : 0.0 % Missing values\n",
            "country : 0.0041 % Missing values\n",
            "agent : 0.1369 % Missing values\n",
            "company : 0.9431 % Missing values\n"
          ]
        }
      ],
      "source": [
        "feature_nan = [feature for feature in df.columns if df[feature].isnull().sum()>1]\n",
        "for feature in feature_nan:\n",
        "    print('{} : {} % Missing values'.format(feature,np.around(df[feature].isnull().mean(),4)))"
      ]
    },
    {
      "cell_type": "markdown",
      "metadata": {
        "id": "2xJCktuyTSQw"
      },
      "source": [
        "### 1.3.7 Statistical Summary of the dataset - Descriptive Statistics"
      ]
    },
    {
      "cell_type": "code",
      "execution_count": 13,
      "metadata": {
        "colab": {
          "base_uri": "https://localhost:8080/",
          "height": 364
        },
        "id": "MjIhBvwgTdUJ",
        "outputId": "af51319b-8974-44b0-f136-22a6f1d47722"
      },
      "outputs": [
        {
          "data": {
            "text/html": [
              "<div>\n",
              "<style scoped>\n",
              "    .dataframe tbody tr th:only-of-type {\n",
              "        vertical-align: middle;\n",
              "    }\n",
              "\n",
              "    .dataframe tbody tr th {\n",
              "        vertical-align: top;\n",
              "    }\n",
              "\n",
              "    .dataframe thead th {\n",
              "        text-align: right;\n",
              "    }\n",
              "</style>\n",
              "<table border=\"1\" class=\"dataframe\">\n",
              "  <thead>\n",
              "    <tr style=\"text-align: right;\">\n",
              "      <th></th>\n",
              "      <th>is_canceled</th>\n",
              "      <th>lead_time</th>\n",
              "      <th>arrival_date_year</th>\n",
              "      <th>arrival_date_week_number</th>\n",
              "      <th>arrival_date_day_of_month</th>\n",
              "      <th>stays_in_weekend_nights</th>\n",
              "      <th>stays_in_week_nights</th>\n",
              "      <th>adults</th>\n",
              "      <th>children</th>\n",
              "      <th>babies</th>\n",
              "      <th>is_repeated_guest</th>\n",
              "      <th>previous_cancellations</th>\n",
              "      <th>previous_bookings_not_canceled</th>\n",
              "      <th>booking_changes</th>\n",
              "      <th>agent</th>\n",
              "      <th>company</th>\n",
              "      <th>days_in_waiting_list</th>\n",
              "      <th>adr</th>\n",
              "      <th>required_car_parking_spaces</th>\n",
              "      <th>total_of_special_requests</th>\n",
              "    </tr>\n",
              "  </thead>\n",
              "  <tbody>\n",
              "    <tr>\n",
              "      <th>count</th>\n",
              "      <td>119390.000000</td>\n",
              "      <td>119390.000000</td>\n",
              "      <td>119390.000000</td>\n",
              "      <td>119390.000000</td>\n",
              "      <td>119390.000000</td>\n",
              "      <td>119390.000000</td>\n",
              "      <td>119390.000000</td>\n",
              "      <td>119390.000000</td>\n",
              "      <td>119386.000000</td>\n",
              "      <td>119390.000000</td>\n",
              "      <td>119390.000000</td>\n",
              "      <td>119390.000000</td>\n",
              "      <td>119390.000000</td>\n",
              "      <td>119390.000000</td>\n",
              "      <td>103050.000000</td>\n",
              "      <td>6797.000000</td>\n",
              "      <td>119390.000000</td>\n",
              "      <td>119390.000000</td>\n",
              "      <td>119390.000000</td>\n",
              "      <td>119390.000000</td>\n",
              "    </tr>\n",
              "    <tr>\n",
              "      <th>mean</th>\n",
              "      <td>0.370416</td>\n",
              "      <td>104.011416</td>\n",
              "      <td>2016.156554</td>\n",
              "      <td>27.165173</td>\n",
              "      <td>15.798241</td>\n",
              "      <td>0.927599</td>\n",
              "      <td>2.500302</td>\n",
              "      <td>1.856403</td>\n",
              "      <td>0.103890</td>\n",
              "      <td>0.007949</td>\n",
              "      <td>0.031912</td>\n",
              "      <td>0.087118</td>\n",
              "      <td>0.137097</td>\n",
              "      <td>0.221124</td>\n",
              "      <td>86.693382</td>\n",
              "      <td>189.266735</td>\n",
              "      <td>2.321149</td>\n",
              "      <td>101.831122</td>\n",
              "      <td>0.062518</td>\n",
              "      <td>0.571363</td>\n",
              "    </tr>\n",
              "    <tr>\n",
              "      <th>std</th>\n",
              "      <td>0.482918</td>\n",
              "      <td>106.863097</td>\n",
              "      <td>0.707476</td>\n",
              "      <td>13.605138</td>\n",
              "      <td>8.780829</td>\n",
              "      <td>0.998613</td>\n",
              "      <td>1.908286</td>\n",
              "      <td>0.579261</td>\n",
              "      <td>0.398561</td>\n",
              "      <td>0.097436</td>\n",
              "      <td>0.175767</td>\n",
              "      <td>0.844336</td>\n",
              "      <td>1.497437</td>\n",
              "      <td>0.652306</td>\n",
              "      <td>110.774548</td>\n",
              "      <td>131.655015</td>\n",
              "      <td>17.594721</td>\n",
              "      <td>50.535790</td>\n",
              "      <td>0.245291</td>\n",
              "      <td>0.792798</td>\n",
              "    </tr>\n",
              "    <tr>\n",
              "      <th>min</th>\n",
              "      <td>0.000000</td>\n",
              "      <td>0.000000</td>\n",
              "      <td>2015.000000</td>\n",
              "      <td>1.000000</td>\n",
              "      <td>1.000000</td>\n",
              "      <td>0.000000</td>\n",
              "      <td>0.000000</td>\n",
              "      <td>0.000000</td>\n",
              "      <td>0.000000</td>\n",
              "      <td>0.000000</td>\n",
              "      <td>0.000000</td>\n",
              "      <td>0.000000</td>\n",
              "      <td>0.000000</td>\n",
              "      <td>0.000000</td>\n",
              "      <td>1.000000</td>\n",
              "      <td>6.000000</td>\n",
              "      <td>0.000000</td>\n",
              "      <td>-6.380000</td>\n",
              "      <td>0.000000</td>\n",
              "      <td>0.000000</td>\n",
              "    </tr>\n",
              "    <tr>\n",
              "      <th>25%</th>\n",
              "      <td>0.000000</td>\n",
              "      <td>18.000000</td>\n",
              "      <td>2016.000000</td>\n",
              "      <td>16.000000</td>\n",
              "      <td>8.000000</td>\n",
              "      <td>0.000000</td>\n",
              "      <td>1.000000</td>\n",
              "      <td>2.000000</td>\n",
              "      <td>0.000000</td>\n",
              "      <td>0.000000</td>\n",
              "      <td>0.000000</td>\n",
              "      <td>0.000000</td>\n",
              "      <td>0.000000</td>\n",
              "      <td>0.000000</td>\n",
              "      <td>9.000000</td>\n",
              "      <td>62.000000</td>\n",
              "      <td>0.000000</td>\n",
              "      <td>69.290000</td>\n",
              "      <td>0.000000</td>\n",
              "      <td>0.000000</td>\n",
              "    </tr>\n",
              "    <tr>\n",
              "      <th>50%</th>\n",
              "      <td>0.000000</td>\n",
              "      <td>69.000000</td>\n",
              "      <td>2016.000000</td>\n",
              "      <td>28.000000</td>\n",
              "      <td>16.000000</td>\n",
              "      <td>1.000000</td>\n",
              "      <td>2.000000</td>\n",
              "      <td>2.000000</td>\n",
              "      <td>0.000000</td>\n",
              "      <td>0.000000</td>\n",
              "      <td>0.000000</td>\n",
              "      <td>0.000000</td>\n",
              "      <td>0.000000</td>\n",
              "      <td>0.000000</td>\n",
              "      <td>14.000000</td>\n",
              "      <td>179.000000</td>\n",
              "      <td>0.000000</td>\n",
              "      <td>94.575000</td>\n",
              "      <td>0.000000</td>\n",
              "      <td>0.000000</td>\n",
              "    </tr>\n",
              "    <tr>\n",
              "      <th>75%</th>\n",
              "      <td>1.000000</td>\n",
              "      <td>160.000000</td>\n",
              "      <td>2017.000000</td>\n",
              "      <td>38.000000</td>\n",
              "      <td>23.000000</td>\n",
              "      <td>2.000000</td>\n",
              "      <td>3.000000</td>\n",
              "      <td>2.000000</td>\n",
              "      <td>0.000000</td>\n",
              "      <td>0.000000</td>\n",
              "      <td>0.000000</td>\n",
              "      <td>0.000000</td>\n",
              "      <td>0.000000</td>\n",
              "      <td>0.000000</td>\n",
              "      <td>229.000000</td>\n",
              "      <td>270.000000</td>\n",
              "      <td>0.000000</td>\n",
              "      <td>126.000000</td>\n",
              "      <td>0.000000</td>\n",
              "      <td>1.000000</td>\n",
              "    </tr>\n",
              "    <tr>\n",
              "      <th>max</th>\n",
              "      <td>1.000000</td>\n",
              "      <td>737.000000</td>\n",
              "      <td>2017.000000</td>\n",
              "      <td>53.000000</td>\n",
              "      <td>31.000000</td>\n",
              "      <td>19.000000</td>\n",
              "      <td>50.000000</td>\n",
              "      <td>55.000000</td>\n",
              "      <td>10.000000</td>\n",
              "      <td>10.000000</td>\n",
              "      <td>1.000000</td>\n",
              "      <td>26.000000</td>\n",
              "      <td>72.000000</td>\n",
              "      <td>21.000000</td>\n",
              "      <td>535.000000</td>\n",
              "      <td>543.000000</td>\n",
              "      <td>391.000000</td>\n",
              "      <td>5400.000000</td>\n",
              "      <td>8.000000</td>\n",
              "      <td>5.000000</td>\n",
              "    </tr>\n",
              "  </tbody>\n",
              "</table>\n",
              "</div>"
            ],
            "text/plain": [
              "         is_canceled      lead_time  arrival_date_year  \\\n",
              "count  119390.000000  119390.000000      119390.000000   \n",
              "mean        0.370416     104.011416        2016.156554   \n",
              "std         0.482918     106.863097           0.707476   \n",
              "min         0.000000       0.000000        2015.000000   \n",
              "25%         0.000000      18.000000        2016.000000   \n",
              "50%         0.000000      69.000000        2016.000000   \n",
              "75%         1.000000     160.000000        2017.000000   \n",
              "max         1.000000     737.000000        2017.000000   \n",
              "\n",
              "       arrival_date_week_number  arrival_date_day_of_month  \\\n",
              "count             119390.000000              119390.000000   \n",
              "mean                  27.165173                  15.798241   \n",
              "std                   13.605138                   8.780829   \n",
              "min                    1.000000                   1.000000   \n",
              "25%                   16.000000                   8.000000   \n",
              "50%                   28.000000                  16.000000   \n",
              "75%                   38.000000                  23.000000   \n",
              "max                   53.000000                  31.000000   \n",
              "\n",
              "       stays_in_weekend_nights  stays_in_week_nights         adults  \\\n",
              "count            119390.000000         119390.000000  119390.000000   \n",
              "mean                  0.927599              2.500302       1.856403   \n",
              "std                   0.998613              1.908286       0.579261   \n",
              "min                   0.000000              0.000000       0.000000   \n",
              "25%                   0.000000              1.000000       2.000000   \n",
              "50%                   1.000000              2.000000       2.000000   \n",
              "75%                   2.000000              3.000000       2.000000   \n",
              "max                  19.000000             50.000000      55.000000   \n",
              "\n",
              "            children         babies  is_repeated_guest  \\\n",
              "count  119386.000000  119390.000000      119390.000000   \n",
              "mean        0.103890       0.007949           0.031912   \n",
              "std         0.398561       0.097436           0.175767   \n",
              "min         0.000000       0.000000           0.000000   \n",
              "25%         0.000000       0.000000           0.000000   \n",
              "50%         0.000000       0.000000           0.000000   \n",
              "75%         0.000000       0.000000           0.000000   \n",
              "max        10.000000      10.000000           1.000000   \n",
              "\n",
              "       previous_cancellations  previous_bookings_not_canceled  \\\n",
              "count           119390.000000                   119390.000000   \n",
              "mean                 0.087118                        0.137097   \n",
              "std                  0.844336                        1.497437   \n",
              "min                  0.000000                        0.000000   \n",
              "25%                  0.000000                        0.000000   \n",
              "50%                  0.000000                        0.000000   \n",
              "75%                  0.000000                        0.000000   \n",
              "max                 26.000000                       72.000000   \n",
              "\n",
              "       booking_changes          agent      company  days_in_waiting_list  \\\n",
              "count    119390.000000  103050.000000  6797.000000         119390.000000   \n",
              "mean          0.221124      86.693382   189.266735              2.321149   \n",
              "std           0.652306     110.774548   131.655015             17.594721   \n",
              "min           0.000000       1.000000     6.000000              0.000000   \n",
              "25%           0.000000       9.000000    62.000000              0.000000   \n",
              "50%           0.000000      14.000000   179.000000              0.000000   \n",
              "75%           0.000000     229.000000   270.000000              0.000000   \n",
              "max          21.000000     535.000000   543.000000            391.000000   \n",
              "\n",
              "                 adr  required_car_parking_spaces  total_of_special_requests  \n",
              "count  119390.000000                119390.000000              119390.000000  \n",
              "mean      101.831122                     0.062518                   0.571363  \n",
              "std        50.535790                     0.245291                   0.792798  \n",
              "min        -6.380000                     0.000000                   0.000000  \n",
              "25%        69.290000                     0.000000                   0.000000  \n",
              "50%        94.575000                     0.000000                   0.000000  \n",
              "75%       126.000000                     0.000000                   1.000000  \n",
              "max      5400.000000                     8.000000                   5.000000  "
            ]
          },
          "execution_count": 13,
          "metadata": {},
          "output_type": "execute_result"
        }
      ],
      "source": [
        "df.describe()"
      ]
    },
    {
      "cell_type": "markdown",
      "metadata": {
        "id": "Q-CJYoWKTmV_"
      },
      "source": [
        "### 1.3.8 Checking the Distribution of Cancellation Status (Target Variable)"
      ]
    },
    {
      "cell_type": "code",
      "execution_count": 14,
      "metadata": {
        "colab": {
          "base_uri": "https://localhost:8080/"
        },
        "id": "uGQ9AZjVT0RE",
        "outputId": "8911d851-6467-4aff-8375-8c9fbe5f8887"
      },
      "outputs": [
        {
          "data": {
            "text/plain": [
              "0    0.629584\n",
              "1    0.370416\n",
              "Name: is_canceled, dtype: float64"
            ]
          },
          "execution_count": 14,
          "metadata": {},
          "output_type": "execute_result"
        }
      ],
      "source": [
        "df['is_canceled'].value_counts(normalize = True)"
      ]
    },
    {
      "cell_type": "code",
      "execution_count": 15,
      "metadata": {
        "colab": {
          "base_uri": "https://localhost:8080/",
          "height": 374
        },
        "id": "buCokaqSqSwA",
        "outputId": "a13aca18-8c17-4bdc-bda9-6008a6e118cb"
      },
      "outputs": [
        {
          "data": {
            "image/png": "[encoded data removed]",
            "image/svg+xml": "<?xml version=\"1.0\" encoding=\"utf-8\" standalone=\"no\"?>\n<!DOCTYPE svg PUBLIC \"-//W3C//DTD SVG 1.1//EN\"\n  \"http://www.w3.org/Graphics/SVG/1.1/DTD/svg11.dtd\">\n<svg xmlns:xlink=\"http://www.w3.org/1999/xlink\" width=\"425.590937pt\" height=\"357.197812pt\" viewBox=\"0 0 425.590937 357.197812\" xmlns=\"http://www.w3.org/2000/svg\" version=\"1.1\">\n <metadata>\n  <rdf:RDF xmlns:dc=\"http://purl.org/dc/elements/1.1/\" xmlns:cc=\"http://creativecommons.org/ns#\" xmlns:rdf=\"http://www.w3.org/1999/02/22-rdf-syntax-ns#\">\n   <cc:Work>\n    <dc:type rdf:resource=\"http://purl.org/dc/dcmitype/StillImage\"/>\n    <dc:date>2022-09-08T16:15:41.110266</dc:date>\n    <dc:format>image/svg+xml</dc:format>\n    <dc:creator>\n     <cc:Agent>\n      <dc:title>Matplotlib v3.5.0, https://matplotlib.org/</dc:title>\n     </cc:Agent>\n    </dc:creator>\n   </cc:Work>\n  </rdf:RDF>\n </metadata>\n <defs>\n  <style type=\"text/css\">*{stroke-linejoin: round; stroke-linecap: butt}</style>\n </defs>\n <g id=\"figure_1\">\n  <g id=\"patch_1\">\n   <path d=\"M 0 357.197812 \nL 425.590937 357.197812 \nL 425.590937 0 \nL 0 0 \nL 0 357.197812 \nz\n\" style=\"fill: none\"/>\n  </g>\n  <g id=\"axes_1\">\n   <g id=\"patch_2\">\n    <path d=\"M 340.650189 189.527092 \nC 340.650189 167.91448 335.279684 146.636793 325.023016 127.612971 \nC 314.766348 108.589149 299.941407 92.408808 281.885189 80.531181 \nC 263.828971 68.653554 243.101102 61.446771 221.570935 59.560778 \nC 200.040769 57.674786 178.375602 61.168038 158.529318 69.725494 \nC 138.683034 78.28295 121.270741 91.639384 107.862775 108.590239 \nC 94.454809 125.541094 85.466731 145.561002 81.709135 166.844459 \nC 77.951539 188.127915 79.540887 210.015269 86.333842 230.532598 \nC 93.126797 251.049927 104.912822 269.561326 120.628988 284.397336 \nL 210.186189 189.527092 \nL 340.650189 189.527092 \nz\n\" style=\"fill: #092436; opacity: 0.5; stroke: #092436; stroke-linejoin: miter\"/>\n   </g>\n   <g id=\"patch_3\">\n    <path d=\"M 120.628988 284.397336 \nC 139.157799 301.888473 162.411102 313.574072 187.503555 318.004147 \nC 212.596008 322.434221 238.444983 319.417633 261.84306 309.328691 \nC 285.241136 299.239749 305.178792 282.513744 319.1821 261.226093 \nC 333.185408 239.938441 340.650189 215.00761 340.650189 189.527092 \nL 210.186189 189.527092 \nL 120.628988 284.397336 \nz\n\" style=\"fill: #4c2604; opacity: 0.5; stroke: #4c2604; stroke-linejoin: miter\"/>\n   </g>\n   <g id=\"patch_4\">\n    <path d=\"M 343.259469 186.917812 \nC 343.259469 165.3052 337.888964 144.027513 327.632296 125.003691 \nC 317.375628 105.979869 302.550687 89.799528 284.494469 77.921901 \nC 266.438251 66.044274 245.710382 58.837491 224.180215 56.951498 \nC 202.650049 55.065506 180.984882 58.558758 161.138598 67.116214 \nC 141.292314 75.67367 123.880021 89.030104 110.472055 105.980959 \nC 97.064089 122.931814 88.076011 142.951722 84.318415 164.235179 \nC 80.560819 185.518635 82.150167 207.405989 88.943122 227.923318 \nC 95.736077 248.440647 107.522102 266.952046 123.238268 281.788056 \nL 212.795469 186.917812 \nL 343.259469 186.917812 \nz\n\" style=\"fill: #1f77b4; stroke: #000000; stroke-linejoin: miter\"/>\n   </g>\n   <g id=\"patch_5\">\n    <path d=\"M 123.238268 281.788056 \nC 141.767079 299.279193 165.020382 310.964792 190.112835 315.394867 \nC 215.205288 319.824941 241.054263 316.808353 264.45234 306.719411 \nC 287.850416 296.630469 307.788072 279.904464 321.79138 258.616813 \nC 335.794688 237.329161 343.259469 212.39833 343.259469 186.917812 \nL 212.795469 186.917812 \nL 123.238268 281.788056 \nz\n\" style=\"fill: #ff7f0e; stroke: #000000; stroke-linejoin: miter\"/>\n   </g>\n   <g id=\"matplotlib.axis_1\"/>\n   <g id=\"matplotlib.axis_2\"/>\n   <g id=\"text_1\">\n    <!-- Not Cancelled -->\n    <g transform=\"translate(62.116036 58.447304)scale(0.12 -0.12)\">\n     <defs>\n      <path id=\"DejaVuSans-Bold-4e\" d=\"M 588 4666 \nL 1931 4666 \nL 3628 1466 \nL 3628 4666 \nL 4769 4666 \nL 4769 0 \nL 3425 0 \nL 1728 3200 \nL 1728 0 \nL 588 0 \nL 588 4666 \nz\n\" transform=\"scale(0.015625)\"/>\n      <path id=\"DejaVuSans-Bold-6f\" d=\"M 2203 2784 \nQ 1831 2784 1636 2517 \nQ 1441 2250 1441 1747 \nQ 1441 1244 1636 976 \nQ 1831 709 2203 709 \nQ 2569 709 2762 976 \nQ 2956 1244 2956 1747 \nQ 2956 2250 2762 2517 \nQ 2569 2784 2203 2784 \nz\nM 2203 3584 \nQ 3106 3584 3614 3096 \nQ 4122 2609 4122 1747 \nQ 4122 884 3614 396 \nQ 3106 -91 2203 -91 \nQ 1297 -91 786 396 \nQ 275 884 275 1747 \nQ 275 2609 786 3096 \nQ 1297 3584 2203 3584 \nz\n\" transform=\"scale(0.015625)\"/>\n      <path id=\"DejaVuSans-Bold-74\" d=\"M 1759 4494 \nL 1759 3500 \nL 2913 3500 \nL 2913 2700 \nL 1759 2700 \nL 1759 1216 \nQ 1759 972 1856 886 \nQ 1953 800 2241 800 \nL 2816 800 \nL 2816 0 \nL 1856 0 \nQ 1194 0 917 276 \nQ 641 553 641 1216 \nL 641 2700 \nL 84 2700 \nL 84 3500 \nL 641 3500 \nL 641 4494 \nL 1759 4494 \nz\n\" transform=\"scale(0.015625)\"/>\n      <path id=\"DejaVuSans-Bold-20\" transform=\"scale(0.015625)\"/>\n      <path id=\"DejaVuSans-Bold-43\" d=\"M 4288 256 \nQ 3956 84 3597 -3 \nQ 3238 -91 2847 -91 \nQ 1681 -91 1000 561 \nQ 319 1213 319 2328 \nQ 319 3447 1000 4098 \nQ 1681 4750 2847 4750 \nQ 3238 4750 3597 4662 \nQ 3956 4575 4288 4403 \nL 4288 3438 \nQ 3953 3666 3628 3772 \nQ 3303 3878 2944 3878 \nQ 2300 3878 1931 3465 \nQ 1563 3053 1563 2328 \nQ 1563 1606 1931 1193 \nQ 2300 781 2944 781 \nQ 3303 781 3628 887 \nQ 3953 994 4288 1222 \nL 4288 256 \nz\n\" transform=\"scale(0.015625)\"/>\n      <path id=\"DejaVuSans-Bold-61\" d=\"M 2106 1575 \nQ 1756 1575 1579 1456 \nQ 1403 1338 1403 1106 \nQ 1403 894 1545 773 \nQ 1688 653 1941 653 \nQ 2256 653 2472 879 \nQ 2688 1106 2688 1447 \nL 2688 1575 \nL 2106 1575 \nz\nM 3816 1997 \nL 3816 0 \nL 2688 0 \nL 2688 519 \nQ 2463 200 2181 54 \nQ 1900 -91 1497 -91 \nQ 953 -91 614 226 \nQ 275 544 275 1050 \nQ 275 1666 698 1953 \nQ 1122 2241 2028 2241 \nL 2688 2241 \nL 2688 2328 \nQ 2688 2594 2478 2717 \nQ 2269 2841 1825 2841 \nQ 1466 2841 1156 2769 \nQ 847 2697 581 2553 \nL 581 3406 \nQ 941 3494 1303 3539 \nQ 1666 3584 2028 3584 \nQ 2975 3584 3395 3211 \nQ 3816 2838 3816 1997 \nz\n\" transform=\"scale(0.015625)\"/>\n      <path id=\"DejaVuSans-Bold-6e\" d=\"M 4056 2131 \nL 4056 0 \nL 2931 0 \nL 2931 347 \nL 2931 1631 \nQ 2931 2084 2911 2256 \nQ 2891 2428 2841 2509 \nQ 2775 2619 2662 2680 \nQ 2550 2741 2406 2741 \nQ 2056 2741 1856 2470 \nQ 1656 2200 1656 1722 \nL 1656 0 \nL 538 0 \nL 538 3500 \nL 1656 3500 \nL 1656 2988 \nQ 1909 3294 2193 3439 \nQ 2478 3584 2822 3584 \nQ 3428 3584 3742 3212 \nQ 4056 2841 4056 2131 \nz\n\" transform=\"scale(0.015625)\"/>\n      <path id=\"DejaVuSans-Bold-63\" d=\"M 3366 3391 \nL 3366 2478 \nQ 3138 2634 2908 2709 \nQ 2678 2784 2431 2784 \nQ 1963 2784 1702 2511 \nQ 1441 2238 1441 1747 \nQ 1441 1256 1702 982 \nQ 1963 709 2431 709 \nQ 2694 709 2930 787 \nQ 3166 866 3366 1019 \nL 3366 103 \nQ 3103 6 2833 -42 \nQ 2563 -91 2291 -91 \nQ 1344 -91 809 395 \nQ 275 881 275 1747 \nQ 275 2613 809 3098 \nQ 1344 3584 2291 3584 \nQ 2566 3584 2833 3536 \nQ 3100 3488 3366 3391 \nz\n\" transform=\"scale(0.015625)\"/>\n      <path id=\"DejaVuSans-Bold-65\" d=\"M 4031 1759 \nL 4031 1441 \nL 1416 1441 \nQ 1456 1047 1700 850 \nQ 1944 653 2381 653 \nQ 2734 653 3104 758 \nQ 3475 863 3866 1075 \nL 3866 213 \nQ 3469 63 3072 -14 \nQ 2675 -91 2278 -91 \nQ 1328 -91 801 392 \nQ 275 875 275 1747 \nQ 275 2603 792 3093 \nQ 1309 3584 2216 3584 \nQ 3041 3584 3536 3087 \nQ 4031 2591 4031 1759 \nz\nM 2881 2131 \nQ 2881 2450 2695 2645 \nQ 2509 2841 2209 2841 \nQ 1884 2841 1681 2658 \nQ 1478 2475 1428 2131 \nL 2881 2131 \nz\n\" transform=\"scale(0.015625)\"/>\n      <path id=\"DejaVuSans-Bold-6c\" d=\"M 538 4863 \nL 1656 4863 \nL 1656 0 \nL 538 0 \nL 538 4863 \nz\n\" transform=\"scale(0.015625)\"/>\n      <path id=\"DejaVuSans-Bold-64\" d=\"M 2919 2988 \nL 2919 4863 \nL 4044 4863 \nL 4044 0 \nL 2919 0 \nL 2919 506 \nQ 2688 197 2409 53 \nQ 2131 -91 1766 -91 \nQ 1119 -91 703 423 \nQ 288 938 288 1747 \nQ 288 2556 703 3070 \nQ 1119 3584 1766 3584 \nQ 2128 3584 2408 3439 \nQ 2688 3294 2919 2988 \nz\nM 2181 722 \nQ 2541 722 2730 984 \nQ 2919 1247 2919 1747 \nQ 2919 2247 2730 2509 \nQ 2541 2772 2181 2772 \nQ 1825 2772 1636 2509 \nQ 1447 2247 1447 1747 \nQ 1447 1247 1636 984 \nQ 1825 722 2181 722 \nz\n\" transform=\"scale(0.015625)\"/>\n     </defs>\n     <use xlink:href=\"#DejaVuSans-Bold-4e\"/>\n     <use xlink:href=\"#DejaVuSans-Bold-6f\" x=\"83.691406\"/>\n     <use xlink:href=\"#DejaVuSans-Bold-74\" x=\"152.392578\"/>\n     <use xlink:href=\"#DejaVuSans-Bold-20\" x=\"200.195312\"/>\n     <use xlink:href=\"#DejaVuSans-Bold-43\" x=\"235.009766\"/>\n     <use xlink:href=\"#DejaVuSans-Bold-61\" x=\"308.398438\"/>\n     <use xlink:href=\"#DejaVuSans-Bold-6e\" x=\"375.878906\"/>\n     <use xlink:href=\"#DejaVuSans-Bold-63\" x=\"447.070312\"/>\n     <use xlink:href=\"#DejaVuSans-Bold-65\" x=\"506.347656\"/>\n     <use xlink:href=\"#DejaVuSans-Bold-6c\" x=\"574.169922\"/>\n     <use xlink:href=\"#DejaVuSans-Bold-6c\" x=\"608.447266\"/>\n     <use xlink:href=\"#DejaVuSans-Bold-65\" x=\"642.724609\"/>\n     <use xlink:href=\"#DejaVuSans-Bold-64\" x=\"710.546875\"/>\n    </g>\n   </g>\n   <g id=\"text_2\">\n    <!-- 63.0% -->\n    <g transform=\"translate(160.986034 118.348103)scale(0.12 -0.12)\">\n     <defs>\n      <path id=\"DejaVuSans-Bold-36\" d=\"M 2316 2303 \nQ 2000 2303 1842 2098 \nQ 1684 1894 1684 1484 \nQ 1684 1075 1842 870 \nQ 2000 666 2316 666 \nQ 2634 666 2792 870 \nQ 2950 1075 2950 1484 \nQ 2950 1894 2792 2098 \nQ 2634 2303 2316 2303 \nz\nM 3803 4544 \nL 3803 3681 \nQ 3506 3822 3243 3889 \nQ 2981 3956 2731 3956 \nQ 2194 3956 1894 3657 \nQ 1594 3359 1544 2772 \nQ 1750 2925 1990 3001 \nQ 2231 3078 2516 3078 \nQ 3231 3078 3670 2659 \nQ 4109 2241 4109 1563 \nQ 4109 813 3618 361 \nQ 3128 -91 2303 -91 \nQ 1394 -91 895 523 \nQ 397 1138 397 2266 \nQ 397 3422 980 4083 \nQ 1563 4744 2578 4744 \nQ 2900 4744 3203 4694 \nQ 3506 4644 3803 4544 \nz\n\" transform=\"scale(0.015625)\"/>\n      <path id=\"DejaVuSans-Bold-33\" d=\"M 2981 2516 \nQ 3453 2394 3698 2092 \nQ 3944 1791 3944 1325 \nQ 3944 631 3412 270 \nQ 2881 -91 1863 -91 \nQ 1503 -91 1142 -33 \nQ 781 25 428 141 \nL 428 1069 \nQ 766 900 1098 814 \nQ 1431 728 1753 728 \nQ 2231 728 2486 893 \nQ 2741 1059 2741 1369 \nQ 2741 1688 2480 1852 \nQ 2219 2016 1709 2016 \nL 1228 2016 \nL 1228 2791 \nL 1734 2791 \nQ 2188 2791 2409 2933 \nQ 2631 3075 2631 3366 \nQ 2631 3634 2415 3781 \nQ 2200 3928 1806 3928 \nQ 1516 3928 1219 3862 \nQ 922 3797 628 3669 \nL 628 4550 \nQ 984 4650 1334 4700 \nQ 1684 4750 2022 4750 \nQ 2931 4750 3382 4451 \nQ 3834 4153 3834 3553 \nQ 3834 3144 3618 2883 \nQ 3403 2622 2981 2516 \nz\n\" transform=\"scale(0.015625)\"/>\n      <path id=\"DejaVuSans-Bold-2e\" d=\"M 653 1209 \nL 1778 1209 \nL 1778 0 \nL 653 0 \nL 653 1209 \nz\n\" transform=\"scale(0.015625)\"/>\n      <path id=\"DejaVuSans-Bold-30\" d=\"M 2944 2338 \nQ 2944 3213 2780 3570 \nQ 2616 3928 2228 3928 \nQ 1841 3928 1675 3570 \nQ 1509 3213 1509 2338 \nQ 1509 1453 1675 1090 \nQ 1841 728 2228 728 \nQ 2613 728 2778 1090 \nQ 2944 1453 2944 2338 \nz\nM 4147 2328 \nQ 4147 1169 3647 539 \nQ 3147 -91 2228 -91 \nQ 1306 -91 806 539 \nQ 306 1169 306 2328 \nQ 306 3491 806 4120 \nQ 1306 4750 2228 4750 \nQ 3147 4750 3647 4120 \nQ 4147 3491 4147 2328 \nz\n\" transform=\"scale(0.015625)\"/>\n      <path id=\"DejaVuSans-Bold-25\" d=\"M 4959 1925 \nQ 4738 1925 4616 1733 \nQ 4494 1541 4494 1184 \nQ 4494 825 4614 633 \nQ 4734 441 4959 441 \nQ 5184 441 5303 633 \nQ 5422 825 5422 1184 \nQ 5422 1541 5301 1733 \nQ 5181 1925 4959 1925 \nz\nM 4959 2450 \nQ 5541 2450 5875 2112 \nQ 6209 1775 6209 1184 \nQ 6209 594 5875 251 \nQ 5541 -91 4959 -91 \nQ 4378 -91 4042 251 \nQ 3706 594 3706 1184 \nQ 3706 1772 4042 2111 \nQ 4378 2450 4959 2450 \nz\nM 2094 -91 \nL 1403 -91 \nL 4319 4750 \nL 5013 4750 \nL 2094 -91 \nz\nM 1453 4750 \nQ 2034 4750 2367 4411 \nQ 2700 4072 2700 3481 \nQ 2700 2891 2367 2550 \nQ 2034 2209 1453 2209 \nQ 872 2209 539 2550 \nQ 206 2891 206 3481 \nQ 206 4072 539 4411 \nQ 872 4750 1453 4750 \nz\nM 1453 4225 \nQ 1228 4225 1106 4031 \nQ 984 3838 984 3481 \nQ 984 3122 1106 2926 \nQ 1228 2731 1453 2731 \nQ 1678 2731 1798 2926 \nQ 1919 3122 1919 3481 \nQ 1919 3838 1797 4031 \nQ 1675 4225 1453 4225 \nz\n\" transform=\"scale(0.015625)\"/>\n     </defs>\n     <use xlink:href=\"#DejaVuSans-Bold-36\"/>\n     <use xlink:href=\"#DejaVuSans-Bold-33\" x=\"69.580078\"/>\n     <use xlink:href=\"#DejaVuSans-Bold-2e\" x=\"139.160156\"/>\n     <use xlink:href=\"#DejaVuSans-Bold-30\" x=\"177.148438\"/>\n     <use xlink:href=\"#DejaVuSans-Bold-25\" x=\"246.728516\"/>\n    </g>\n   </g>\n   <g id=\"text_3\">\n    <!-- Cancelled -->\n    <g transform=\"translate(269.618027 322.010821)scale(0.12 -0.12)\">\n     <use xlink:href=\"#DejaVuSans-Bold-43\"/>\n     <use xlink:href=\"#DejaVuSans-Bold-61\" x=\"73.388672\"/>\n     <use xlink:href=\"#DejaVuSans-Bold-6e\" x=\"140.869141\"/>\n     <use xlink:href=\"#DejaVuSans-Bold-63\" x=\"212.060547\"/>\n     <use xlink:href=\"#DejaVuSans-Bold-65\" x=\"271.337891\"/>\n     <use xlink:href=\"#DejaVuSans-Bold-6c\" x=\"339.160156\"/>\n     <use xlink:href=\"#DejaVuSans-Bold-6c\" x=\"373.4375\"/>\n     <use xlink:href=\"#DejaVuSans-Bold-65\" x=\"407.714844\"/>\n     <use xlink:href=\"#DejaVuSans-Bold-64\" x=\"475.537109\"/>\n    </g>\n   </g>\n   <g id=\"text_4\">\n    <!-- 37.0% -->\n    <g transform=\"translate(222.974279 262.110022)scale(0.12 -0.12)\">\n     <defs>\n      <path id=\"DejaVuSans-Bold-37\" d=\"M 428 4666 \nL 3944 4666 \nL 3944 3988 \nL 2125 0 \nL 953 0 \nL 2675 3781 \nL 428 3781 \nL 428 4666 \nz\n\" transform=\"scale(0.015625)\"/>\n     </defs>\n     <use xlink:href=\"#DejaVuSans-Bold-33\"/>\n     <use xlink:href=\"#DejaVuSans-Bold-37\" x=\"69.580078\"/>\n     <use xlink:href=\"#DejaVuSans-Bold-2e\" x=\"139.160156\"/>\n     <use xlink:href=\"#DejaVuSans-Bold-30\" x=\"177.148438\"/>\n     <use xlink:href=\"#DejaVuSans-Bold-25\" x=\"246.728516\"/>\n    </g>\n   </g>\n   <g id=\"text_5\">\n    <!-- Distribution of Cancellation Status (Target Variable) -->\n    <g transform=\"translate(7.2 17.837812)scale(0.14 -0.14)\">\n     <defs>\n      <path id=\"DejaVuSans-Bold-44\" d=\"M 1791 3756 \nL 1791 909 \nL 2222 909 \nQ 2959 909 3348 1275 \nQ 3738 1641 3738 2338 \nQ 3738 3031 3350 3393 \nQ 2963 3756 2222 3756 \nL 1791 3756 \nz\nM 588 4666 \nL 1856 4666 \nQ 2919 4666 3439 4514 \nQ 3959 4363 4331 4000 \nQ 4659 3684 4818 3271 \nQ 4978 2859 4978 2338 \nQ 4978 1809 4818 1395 \nQ 4659 981 4331 666 \nQ 3956 303 3431 151 \nQ 2906 0 1856 0 \nL 588 0 \nL 588 4666 \nz\n\" transform=\"scale(0.015625)\"/>\n      <path id=\"DejaVuSans-Bold-69\" d=\"M 538 3500 \nL 1656 3500 \nL 1656 0 \nL 538 0 \nL 538 3500 \nz\nM 538 4863 \nL 1656 4863 \nL 1656 3950 \nL 538 3950 \nL 538 4863 \nz\n\" transform=\"scale(0.015625)\"/>\n      <path id=\"DejaVuSans-Bold-73\" d=\"M 3272 3391 \nL 3272 2541 \nQ 2913 2691 2578 2766 \nQ 2244 2841 1947 2841 \nQ 1628 2841 1473 2761 \nQ 1319 2681 1319 2516 \nQ 1319 2381 1436 2309 \nQ 1553 2238 1856 2203 \nL 2053 2175 \nQ 2913 2066 3209 1816 \nQ 3506 1566 3506 1031 \nQ 3506 472 3093 190 \nQ 2681 -91 1863 -91 \nQ 1516 -91 1145 -36 \nQ 775 19 384 128 \nL 384 978 \nQ 719 816 1070 734 \nQ 1422 653 1784 653 \nQ 2113 653 2278 743 \nQ 2444 834 2444 1013 \nQ 2444 1163 2330 1236 \nQ 2216 1309 1875 1350 \nL 1678 1375 \nQ 931 1469 631 1722 \nQ 331 1975 331 2491 \nQ 331 3047 712 3315 \nQ 1094 3584 1881 3584 \nQ 2191 3584 2531 3537 \nQ 2872 3491 3272 3391 \nz\n\" transform=\"scale(0.015625)\"/>\n      <path id=\"DejaVuSans-Bold-72\" d=\"M 3138 2547 \nQ 2991 2616 2845 2648 \nQ 2700 2681 2553 2681 \nQ 2122 2681 1889 2404 \nQ 1656 2128 1656 1613 \nL 1656 0 \nL 538 0 \nL 538 3500 \nL 1656 3500 \nL 1656 2925 \nQ 1872 3269 2151 3426 \nQ 2431 3584 2822 3584 \nQ 2878 3584 2943 3579 \nQ 3009 3575 3134 3559 \nL 3138 2547 \nz\n\" transform=\"scale(0.015625)\"/>\n      <path id=\"DejaVuSans-Bold-62\" d=\"M 2400 722 \nQ 2759 722 2948 984 \nQ 3138 1247 3138 1747 \nQ 3138 2247 2948 2509 \nQ 2759 2772 2400 2772 \nQ 2041 2772 1848 2508 \nQ 1656 2244 1656 1747 \nQ 1656 1250 1848 986 \nQ 2041 722 2400 722 \nz\nM 1656 2988 \nQ 1888 3294 2169 3439 \nQ 2450 3584 2816 3584 \nQ 3463 3584 3878 3070 \nQ 4294 2556 4294 1747 \nQ 4294 938 3878 423 \nQ 3463 -91 2816 -91 \nQ 2450 -91 2169 54 \nQ 1888 200 1656 506 \nL 1656 0 \nL 538 0 \nL 538 4863 \nL 1656 4863 \nL 1656 2988 \nz\n\" transform=\"scale(0.015625)\"/>\n      <path id=\"DejaVuSans-Bold-75\" d=\"M 500 1363 \nL 500 3500 \nL 1625 3500 \nL 1625 3150 \nQ 1625 2866 1622 2436 \nQ 1619 2006 1619 1863 \nQ 1619 1441 1641 1255 \nQ 1663 1069 1716 984 \nQ 1784 875 1895 815 \nQ 2006 756 2150 756 \nQ 2500 756 2700 1025 \nQ 2900 1294 2900 1772 \nL 2900 3500 \nL 4019 3500 \nL 4019 0 \nL 2900 0 \nL 2900 506 \nQ 2647 200 2364 54 \nQ 2081 -91 1741 -91 \nQ 1134 -91 817 281 \nQ 500 653 500 1363 \nz\n\" transform=\"scale(0.015625)\"/>\n      <path id=\"DejaVuSans-Bold-66\" d=\"M 2841 4863 \nL 2841 4128 \nL 2222 4128 \nQ 1984 4128 1890 4042 \nQ 1797 3956 1797 3744 \nL 1797 3500 \nL 2753 3500 \nL 2753 2700 \nL 1797 2700 \nL 1797 0 \nL 678 0 \nL 678 2700 \nL 122 2700 \nL 122 3500 \nL 678 3500 \nL 678 3744 \nQ 678 4316 997 4589 \nQ 1316 4863 1984 4863 \nL 2841 4863 \nz\n\" transform=\"scale(0.015625)\"/>\n      <path id=\"DejaVuSans-Bold-53\" d=\"M 3834 4519 \nL 3834 3531 \nQ 3450 3703 3084 3790 \nQ 2719 3878 2394 3878 \nQ 1963 3878 1756 3759 \nQ 1550 3641 1550 3391 \nQ 1550 3203 1689 3098 \nQ 1828 2994 2194 2919 \nL 2706 2816 \nQ 3484 2659 3812 2340 \nQ 4141 2022 4141 1434 \nQ 4141 663 3683 286 \nQ 3225 -91 2284 -91 \nQ 1841 -91 1394 -6 \nQ 947 78 500 244 \nL 500 1259 \nQ 947 1022 1364 901 \nQ 1781 781 2169 781 \nQ 2563 781 2772 912 \nQ 2981 1044 2981 1288 \nQ 2981 1506 2839 1625 \nQ 2697 1744 2272 1838 \nL 1806 1941 \nQ 1106 2091 782 2419 \nQ 459 2747 459 3303 \nQ 459 4000 909 4375 \nQ 1359 4750 2203 4750 \nQ 2588 4750 2994 4692 \nQ 3400 4634 3834 4519 \nz\n\" transform=\"scale(0.015625)\"/>\n      <path id=\"DejaVuSans-Bold-28\" d=\"M 2413 -844 \nL 1484 -844 \nQ 1006 -72 778 623 \nQ 550 1319 550 2003 \nQ 550 2688 779 3389 \nQ 1009 4091 1484 4856 \nL 2413 4856 \nQ 2013 4116 1813 3408 \nQ 1613 2700 1613 2009 \nQ 1613 1319 1811 609 \nQ 2009 -100 2413 -844 \nz\n\" transform=\"scale(0.015625)\"/>\n      <path id=\"DejaVuSans-Bold-54\" d=\"M 31 4666 \nL 4331 4666 \nL 4331 3756 \nL 2784 3756 \nL 2784 0 \nL 1581 0 \nL 1581 3756 \nL 31 3756 \nL 31 4666 \nz\n\" transform=\"scale(0.015625)\"/>\n      <path id=\"DejaVuSans-Bold-67\" d=\"M 2919 594 \nQ 2688 288 2409 144 \nQ 2131 0 1766 0 \nQ 1125 0 706 504 \nQ 288 1009 288 1791 \nQ 288 2575 706 3076 \nQ 1125 3578 1766 3578 \nQ 2131 3578 2409 3434 \nQ 2688 3291 2919 2981 \nL 2919 3500 \nL 4044 3500 \nL 4044 353 \nQ 4044 -491 3511 -936 \nQ 2978 -1381 1966 -1381 \nQ 1638 -1381 1331 -1331 \nQ 1025 -1281 716 -1178 \nL 716 -306 \nQ 1009 -475 1290 -558 \nQ 1572 -641 1856 -641 \nQ 2406 -641 2662 -400 \nQ 2919 -159 2919 353 \nL 2919 594 \nz\nM 2181 2772 \nQ 1834 2772 1640 2515 \nQ 1447 2259 1447 1791 \nQ 1447 1309 1634 1061 \nQ 1822 813 2181 813 \nQ 2531 813 2725 1069 \nQ 2919 1325 2919 1791 \nQ 2919 2259 2725 2515 \nQ 2531 2772 2181 2772 \nz\n\" transform=\"scale(0.015625)\"/>\n      <path id=\"DejaVuSans-Bold-56\" d=\"M 31 4666 \nL 1241 4666 \nL 2478 1222 \nL 3713 4666 \nL 4922 4666 \nL 3194 0 \nL 1759 0 \nL 31 4666 \nz\n\" transform=\"scale(0.015625)\"/>\n      <path id=\"DejaVuSans-Bold-29\" d=\"M 513 -844 \nQ 913 -100 1113 609 \nQ 1313 1319 1313 2009 \nQ 1313 2700 1113 3408 \nQ 913 4116 513 4856 \nL 1441 4856 \nQ 1916 4091 2145 3389 \nQ 2375 2688 2375 2003 \nQ 2375 1319 2147 623 \nQ 1919 -72 1441 -844 \nL 513 -844 \nz\n\" transform=\"scale(0.015625)\"/>\n     </defs>\n     <use xlink:href=\"#DejaVuSans-Bold-44\"/>\n     <use xlink:href=\"#DejaVuSans-Bold-69\" x=\"83.007812\"/>\n     <use xlink:href=\"#DejaVuSans-Bold-73\" x=\"117.285156\"/>\n     <use xlink:href=\"#DejaVuSans-Bold-74\" x=\"176.806641\"/>\n     <use xlink:href=\"#DejaVuSans-Bold-72\" x=\"224.609375\"/>\n     <use xlink:href=\"#DejaVuSans-Bold-69\" x=\"273.925781\"/>\n     <use xlink:href=\"#DejaVuSans-Bold-62\" x=\"308.203125\"/>\n     <use xlink:href=\"#DejaVuSans-Bold-75\" x=\"379.785156\"/>\n     <use xlink:href=\"#DejaVuSans-Bold-74\" x=\"450.976562\"/>\n     <use xlink:href=\"#DejaVuSans-Bold-69\" x=\"498.779297\"/>\n     <use xlink:href=\"#DejaVuSans-Bold-6f\" x=\"533.056641\"/>\n     <use xlink:href=\"#DejaVuSans-Bold-6e\" x=\"601.757812\"/>\n     <use xlink:href=\"#DejaVuSans-Bold-20\" x=\"672.949219\"/>\n     <use xlink:href=\"#DejaVuSans-Bold-6f\" x=\"707.763672\"/>\n     <use xlink:href=\"#DejaVuSans-Bold-66\" x=\"776.464844\"/>\n     <use xlink:href=\"#DejaVuSans-Bold-20\" x=\"819.970703\"/>\n     <use xlink:href=\"#DejaVuSans-Bold-43\" x=\"854.785156\"/>\n     <use xlink:href=\"#DejaVuSans-Bold-61\" x=\"928.173828\"/>\n     <use xlink:href=\"#DejaVuSans-Bold-6e\" x=\"995.654297\"/>\n     <use xlink:href=\"#DejaVuSans-Bold-63\" x=\"1066.845703\"/>\n     <use xlink:href=\"#DejaVuSans-Bold-65\" x=\"1126.123047\"/>\n     <use xlink:href=\"#DejaVuSans-Bold-6c\" x=\"1193.945312\"/>\n     <use xlink:href=\"#DejaVuSans-Bold-6c\" x=\"1228.222656\"/>\n     <use xlink:href=\"#DejaVuSans-Bold-61\" x=\"1262.5\"/>\n     <use xlink:href=\"#DejaVuSans-Bold-74\" x=\"1329.980469\"/>\n     <use xlink:href=\"#DejaVuSans-Bold-69\" x=\"1377.783203\"/>\n     <use xlink:href=\"#DejaVuSans-Bold-6f\" x=\"1412.060547\"/>\n     <use xlink:href=\"#DejaVuSans-Bold-6e\" x=\"1480.761719\"/>\n     <use xlink:href=\"#DejaVuSans-Bold-20\" x=\"1551.953125\"/>\n     <use xlink:href=\"#DejaVuSans-Bold-53\" x=\"1586.767578\"/>\n     <use xlink:href=\"#DejaVuSans-Bold-74\" x=\"1658.789062\"/>\n     <use xlink:href=\"#DejaVuSans-Bold-61\" x=\"1706.591797\"/>\n     <use xlink:href=\"#DejaVuSans-Bold-74\" x=\"1774.072266\"/>\n     <use xlink:href=\"#DejaVuSans-Bold-75\" x=\"1821.875\"/>\n     <use xlink:href=\"#DejaVuSans-Bold-73\" x=\"1893.066406\"/>\n     <use xlink:href=\"#DejaVuSans-Bold-20\" x=\"1952.587891\"/>\n     <use xlink:href=\"#DejaVuSans-Bold-28\" x=\"1987.402344\"/>\n     <use xlink:href=\"#DejaVuSans-Bold-54\" x=\"2033.105469\"/>\n     <use xlink:href=\"#DejaVuSans-Bold-61\" x=\"2088.443359\"/>\n     <use xlink:href=\"#DejaVuSans-Bold-72\" x=\"2155.923828\"/>\n     <use xlink:href=\"#DejaVuSans-Bold-67\" x=\"2205.240234\"/>\n     <use xlink:href=\"#DejaVuSans-Bold-65\" x=\"2276.822266\"/>\n     <use xlink:href=\"#DejaVuSans-Bold-74\" x=\"2344.644531\"/>\n     <use xlink:href=\"#DejaVuSans-Bold-20\" x=\"2392.447266\"/>\n     <use xlink:href=\"#DejaVuSans-Bold-56\" x=\"2427.261719\"/>\n     <use xlink:href=\"#DejaVuSans-Bold-61\" x=\"2499.154297\"/>\n     <use xlink:href=\"#DejaVuSans-Bold-72\" x=\"2566.634766\"/>\n     <use xlink:href=\"#DejaVuSans-Bold-69\" x=\"2615.951172\"/>\n     <use xlink:href=\"#DejaVuSans-Bold-61\" x=\"2650.228516\"/>\n     <use xlink:href=\"#DejaVuSans-Bold-62\" x=\"2717.708984\"/>\n     <use xlink:href=\"#DejaVuSans-Bold-6c\" x=\"2789.291016\"/>\n     <use xlink:href=\"#DejaVuSans-Bold-65\" x=\"2823.568359\"/>\n     <use xlink:href=\"#DejaVuSans-Bold-29\" x=\"2891.390625\"/>\n    </g>\n   </g>\n  </g>\n </g>\n</svg>\n",
            "text/plain": [
              "<Figure size 864x432 with 1 Axes>"
            ]
          },
          "metadata": {},
          "output_type": "display_data"
        }
      ],
      "source": [
        "plt.figure(figsize=(12,6))\n",
        "proportion = df['is_canceled'].value_counts()\n",
        "labels = ['Not Cancelled','Cancelled']\n",
        "plt.title('Distribution of Cancellation Status (Target Variable)',fontsize = 14, weight = 'bold')\n",
        "plt.pie(proportion,labels=labels,shadow = True, autopct = '%1.1f%%',wedgeprops= {'edgecolor':'black'},textprops= { 'fontsize': 12,'weight' : 'bold'});"
      ]
    },
    {
      "cell_type": "markdown",
      "metadata": {
        "id": "l7DoytHlcv4m"
      },
      "source": [
        "### 1.3.9 Skewness of the Attributes"
      ]
    },
    {
      "cell_type": "code",
      "execution_count": 16,
      "metadata": {
        "colab": {
          "base_uri": "https://localhost:8080/",
          "height": 405
        },
        "id": "0Y3lOfLXczT0",
        "outputId": "7acbdbab-b8f7-4e8b-961d-ee563b0cbcd8"
      },
      "outputs": [
        {
          "data": {
            "image/png": "[encoded data removed]",
            "image/svg+xml": "<?xml version=\"1.0\" encoding=\"utf-8\" standalone=\"no\"?>\n<!DOCTYPE svg PUBLIC \"-//W3C//DTD SVG 1.1//EN\"\n  \"http://www.w3.org/Graphics/SVG/1.1/DTD/svg11.dtd\">\n<svg xmlns:xlink=\"http://www.w3.org/1999/xlink\" width=\"621.017884pt\" height=\"385.8575pt\" viewBox=\"0 0 621.017884 385.8575\" xmlns=\"http://www.w3.org/2000/svg\" version=\"1.1\">\n <metadata>\n  <rdf:RDF xmlns:dc=\"http://purl.org/dc/elements/1.1/\" xmlns:cc=\"http://creativecommons.org/ns#\" xmlns:rdf=\"http://www.w3.org/1999/02/22-rdf-syntax-ns#\">\n   <cc:Work>\n    <dc:type rdf:resource=\"http://purl.org/dc/dcmitype/StillImage\"/>\n    <dc:date>2022-09-08T16:15:46.677073</dc:date>\n    <dc:format>image/svg+xml</dc:format>\n    <dc:creator>\n     <cc:Agent>\n      <dc:title>Matplotlib v3.5.0, https://matplotlib.org/</dc:title>\n     </cc:Agent>\n    </dc:creator>\n   </cc:Work>\n  </rdf:RDF>\n </metadata>\n <defs>\n  <style type=\"text/css\">*{stroke-linejoin: round; stroke-linecap: butt}</style>\n </defs>\n <g id=\"figure_1\">\n  <g id=\"patch_1\">\n   <path d=\"M 0 385.8575 \nL 621.017884 385.8575 \nL 621.017884 0 \nL 0 0 \nL 0 385.8575 \nz\n\" style=\"fill: none\"/>\n  </g>\n  <g id=\"axes_1\">\n   <g id=\"patch_2\">\n    <path d=\"M 52.484375 349.380938 \nL 610.484375 349.380938 \nL 610.484375 23.220937 \nL 52.484375 23.220937 \nz\n\" style=\"fill: #ffffff\"/>\n   </g>\n   <g id=\"matplotlib.axis_1\">\n    <g id=\"xtick_1\">\n     <g id=\"line2d_1\">\n      <defs>\n       <path id=\"m41e779e710\" d=\"M 0 0 \nL 0 3.5 \n\" style=\"stroke: #262626; stroke-width: 0.8\"/>\n      </defs>\n      <g>\n       <use xlink:href=\"#m41e779e710\" x=\"97.495754\" y=\"349.380938\" style=\"fill: #262626; stroke: #262626; stroke-width: 0.8\"/>\n      </g>\n     </g>\n     <g id=\"text_1\">\n      <!-- 0 -->\n      <g style=\"fill: #262626\" transform=\"translate(94.715285 363.53875)scale(0.1 -0.1)\">\n       <defs>\n        <path id=\"ArialMT-30\" d=\"M 266 2259 \nQ 266 3072 433 3567 \nQ 600 4063 929 4331 \nQ 1259 4600 1759 4600 \nQ 2128 4600 2406 4451 \nQ 2684 4303 2865 4023 \nQ 3047 3744 3150 3342 \nQ 3253 2941 3253 2259 \nQ 3253 1453 3087 958 \nQ 2922 463 2592 192 \nQ 2263 -78 1759 -78 \nQ 1097 -78 719 397 \nQ 266 969 266 2259 \nz\nM 844 2259 \nQ 844 1131 1108 757 \nQ 1372 384 1759 384 \nQ 2147 384 2411 759 \nQ 2675 1134 2675 2259 \nQ 2675 3391 2411 3762 \nQ 2147 4134 1753 4134 \nQ 1366 4134 1134 3806 \nQ 844 3388 844 2259 \nz\n\" transform=\"scale(0.015625)\"/>\n       </defs>\n       <use xlink:href=\"#ArialMT-30\"/>\n      </g>\n     </g>\n    </g>\n    <g id=\"xtick_2\">\n     <g id=\"line2d_2\">\n      <g>\n       <use xlink:href=\"#m41e779e710\" x=\"160.993345\" y=\"349.380938\" style=\"fill: #262626; stroke: #262626; stroke-width: 0.8\"/>\n      </g>\n     </g>\n     <g id=\"text_2\">\n      <!-- 100 -->\n      <g style=\"fill: #262626\" transform=\"translate(152.651938 363.53875)scale(0.1 -0.1)\">\n       <defs>\n        <path id=\"ArialMT-31\" d=\"M 2384 0 \nL 1822 0 \nL 1822 3584 \nQ 1619 3391 1289 3197 \nQ 959 3003 697 2906 \nL 697 3450 \nQ 1169 3672 1522 3987 \nQ 1875 4303 2022 4600 \nL 2384 4600 \nL 2384 0 \nz\n\" transform=\"scale(0.015625)\"/>\n       </defs>\n       <use xlink:href=\"#ArialMT-31\"/>\n       <use xlink:href=\"#ArialMT-30\" x=\"55.615234\"/>\n       <use xlink:href=\"#ArialMT-30\" x=\"111.230469\"/>\n      </g>\n     </g>\n    </g>\n    <g id=\"xtick_3\">\n     <g id=\"line2d_3\">\n      <g>\n       <use xlink:href=\"#m41e779e710\" x=\"224.490935\" y=\"349.380938\" style=\"fill: #262626; stroke: #262626; stroke-width: 0.8\"/>\n      </g>\n     </g>\n     <g id=\"text_3\">\n      <!-- 200 -->\n      <g style=\"fill: #262626\" transform=\"translate(216.149529 363.53875)scale(0.1 -0.1)\">\n       <defs>\n        <path id=\"ArialMT-32\" d=\"M 3222 541 \nL 3222 0 \nL 194 0 \nQ 188 203 259 391 \nQ 375 700 629 1000 \nQ 884 1300 1366 1694 \nQ 2113 2306 2375 2664 \nQ 2638 3022 2638 3341 \nQ 2638 3675 2398 3904 \nQ 2159 4134 1775 4134 \nQ 1369 4134 1125 3890 \nQ 881 3647 878 3216 \nL 300 3275 \nQ 359 3922 746 4261 \nQ 1134 4600 1788 4600 \nQ 2447 4600 2831 4234 \nQ 3216 3869 3216 3328 \nQ 3216 3053 3103 2787 \nQ 2991 2522 2730 2228 \nQ 2469 1934 1863 1422 \nQ 1356 997 1212 845 \nQ 1069 694 975 541 \nL 3222 541 \nz\n\" transform=\"scale(0.015625)\"/>\n       </defs>\n       <use xlink:href=\"#ArialMT-32\"/>\n       <use xlink:href=\"#ArialMT-30\" x=\"55.615234\"/>\n       <use xlink:href=\"#ArialMT-30\" x=\"111.230469\"/>\n      </g>\n     </g>\n    </g>\n    <g id=\"xtick_4\">\n     <g id=\"line2d_4\">\n      <g>\n       <use xlink:href=\"#m41e779e710\" x=\"287.988526\" y=\"349.380938\" style=\"fill: #262626; stroke: #262626; stroke-width: 0.8\"/>\n      </g>\n     </g>\n     <g id=\"text_4\">\n      <!-- 300 -->\n      <g style=\"fill: #262626\" transform=\"translate(279.647119 363.53875)scale(0.1 -0.1)\">\n       <defs>\n        <path id=\"ArialMT-33\" d=\"M 269 1209 \nL 831 1284 \nQ 928 806 1161 595 \nQ 1394 384 1728 384 \nQ 2125 384 2398 659 \nQ 2672 934 2672 1341 \nQ 2672 1728 2419 1979 \nQ 2166 2231 1775 2231 \nQ 1616 2231 1378 2169 \nL 1441 2663 \nQ 1497 2656 1531 2656 \nQ 1891 2656 2178 2843 \nQ 2466 3031 2466 3422 \nQ 2466 3731 2256 3934 \nQ 2047 4138 1716 4138 \nQ 1388 4138 1169 3931 \nQ 950 3725 888 3313 \nL 325 3413 \nQ 428 3978 793 4289 \nQ 1159 4600 1703 4600 \nQ 2078 4600 2393 4439 \nQ 2709 4278 2876 4000 \nQ 3044 3722 3044 3409 \nQ 3044 3113 2884 2869 \nQ 2725 2625 2413 2481 \nQ 2819 2388 3044 2092 \nQ 3269 1797 3269 1353 \nQ 3269 753 2831 336 \nQ 2394 -81 1725 -81 \nQ 1122 -81 723 278 \nQ 325 638 269 1209 \nz\n\" transform=\"scale(0.015625)\"/>\n       </defs>\n       <use xlink:href=\"#ArialMT-33\"/>\n       <use xlink:href=\"#ArialMT-30\" x=\"55.615234\"/>\n       <use xlink:href=\"#ArialMT-30\" x=\"111.230469\"/>\n      </g>\n     </g>\n    </g>\n    <g id=\"xtick_5\">\n     <g id=\"line2d_5\">\n      <g>\n       <use xlink:href=\"#m41e779e710\" x=\"351.486116\" y=\"349.380938\" style=\"fill: #262626; stroke: #262626; stroke-width: 0.8\"/>\n      </g>\n     </g>\n     <g id=\"text_5\">\n      <!-- 400 -->\n      <g style=\"fill: #262626\" transform=\"translate(343.14471 363.53875)scale(0.1 -0.1)\">\n       <defs>\n        <path id=\"ArialMT-34\" d=\"M 2069 0 \nL 2069 1097 \nL 81 1097 \nL 81 1613 \nL 2172 4581 \nL 2631 4581 \nL 2631 1613 \nL 3250 1613 \nL 3250 1097 \nL 2631 1097 \nL 2631 0 \nL 2069 0 \nz\nM 2069 1613 \nL 2069 3678 \nL 634 1613 \nL 2069 1613 \nz\n\" transform=\"scale(0.015625)\"/>\n       </defs>\n       <use xlink:href=\"#ArialMT-34\"/>\n       <use xlink:href=\"#ArialMT-30\" x=\"55.615234\"/>\n       <use xlink:href=\"#ArialMT-30\" x=\"111.230469\"/>\n      </g>\n     </g>\n    </g>\n    <g id=\"xtick_6\">\n     <g id=\"line2d_6\">\n      <g>\n       <use xlink:href=\"#m41e779e710\" x=\"414.983706\" y=\"349.380938\" style=\"fill: #262626; stroke: #262626; stroke-width: 0.8\"/>\n      </g>\n     </g>\n     <g id=\"text_6\">\n      <!-- 500 -->\n      <g style=\"fill: #262626\" transform=\"translate(406.6423 363.53875)scale(0.1 -0.1)\">\n       <defs>\n        <path id=\"ArialMT-35\" d=\"M 266 1200 \nL 856 1250 \nQ 922 819 1161 601 \nQ 1400 384 1738 384 \nQ 2144 384 2425 690 \nQ 2706 997 2706 1503 \nQ 2706 1984 2436 2262 \nQ 2166 2541 1728 2541 \nQ 1456 2541 1237 2417 \nQ 1019 2294 894 2097 \nL 366 2166 \nL 809 4519 \nL 3088 4519 \nL 3088 3981 \nL 1259 3981 \nL 1013 2750 \nQ 1425 3038 1878 3038 \nQ 2478 3038 2890 2622 \nQ 3303 2206 3303 1553 \nQ 3303 931 2941 478 \nQ 2500 -78 1738 -78 \nQ 1113 -78 717 272 \nQ 322 622 266 1200 \nz\n\" transform=\"scale(0.015625)\"/>\n       </defs>\n       <use xlink:href=\"#ArialMT-35\"/>\n       <use xlink:href=\"#ArialMT-30\" x=\"55.615234\"/>\n       <use xlink:href=\"#ArialMT-30\" x=\"111.230469\"/>\n      </g>\n     </g>\n    </g>\n    <g id=\"xtick_7\">\n     <g id=\"line2d_7\">\n      <g>\n       <use xlink:href=\"#m41e779e710\" x=\"478.481297\" y=\"349.380938\" style=\"fill: #262626; stroke: #262626; stroke-width: 0.8\"/>\n      </g>\n     </g>\n     <g id=\"text_7\">\n      <!-- 600 -->\n      <g style=\"fill: #262626\" transform=\"translate(470.139891 363.53875)scale(0.1 -0.1)\">\n       <defs>\n        <path id=\"ArialMT-36\" d=\"M 3184 3459 \nL 2625 3416 \nQ 2550 3747 2413 3897 \nQ 2184 4138 1850 4138 \nQ 1581 4138 1378 3988 \nQ 1113 3794 959 3422 \nQ 806 3050 800 2363 \nQ 1003 2672 1297 2822 \nQ 1591 2972 1913 2972 \nQ 2475 2972 2870 2558 \nQ 3266 2144 3266 1488 \nQ 3266 1056 3080 686 \nQ 2894 316 2569 119 \nQ 2244 -78 1831 -78 \nQ 1128 -78 684 439 \nQ 241 956 241 2144 \nQ 241 3472 731 4075 \nQ 1159 4600 1884 4600 \nQ 2425 4600 2770 4297 \nQ 3116 3994 3184 3459 \nz\nM 888 1484 \nQ 888 1194 1011 928 \nQ 1134 663 1356 523 \nQ 1578 384 1822 384 \nQ 2178 384 2434 671 \nQ 2691 959 2691 1453 \nQ 2691 1928 2437 2201 \nQ 2184 2475 1800 2475 \nQ 1419 2475 1153 2201 \nQ 888 1928 888 1484 \nz\n\" transform=\"scale(0.015625)\"/>\n       </defs>\n       <use xlink:href=\"#ArialMT-36\"/>\n       <use xlink:href=\"#ArialMT-30\" x=\"55.615234\"/>\n       <use xlink:href=\"#ArialMT-30\" x=\"111.230469\"/>\n      </g>\n     </g>\n    </g>\n    <g id=\"xtick_8\">\n     <g id=\"line2d_8\">\n      <g>\n       <use xlink:href=\"#m41e779e710\" x=\"541.978887\" y=\"349.380938\" style=\"fill: #262626; stroke: #262626; stroke-width: 0.8\"/>\n      </g>\n     </g>\n     <g id=\"text_8\">\n      <!-- 700 -->\n      <g style=\"fill: #262626\" transform=\"translate(533.637481 363.53875)scale(0.1 -0.1)\">\n       <defs>\n        <path id=\"ArialMT-37\" d=\"M 303 3981 \nL 303 4522 \nL 3269 4522 \nL 3269 4084 \nQ 2831 3619 2401 2847 \nQ 1972 2075 1738 1259 \nQ 1569 684 1522 0 \nL 944 0 \nQ 953 541 1156 1306 \nQ 1359 2072 1739 2783 \nQ 2119 3494 2547 3981 \nL 303 3981 \nz\n\" transform=\"scale(0.015625)\"/>\n       </defs>\n       <use xlink:href=\"#ArialMT-37\"/>\n       <use xlink:href=\"#ArialMT-30\" x=\"55.615234\"/>\n       <use xlink:href=\"#ArialMT-30\" x=\"111.230469\"/>\n      </g>\n     </g>\n    </g>\n    <g id=\"xtick_9\">\n     <g id=\"line2d_9\">\n      <g>\n       <use xlink:href=\"#m41e779e710\" x=\"605.476478\" y=\"349.380938\" style=\"fill: #262626; stroke: #262626; stroke-width: 0.8\"/>\n      </g>\n     </g>\n     <g id=\"text_9\">\n      <!-- 800 -->\n      <g style=\"fill: #262626\" transform=\"translate(597.135071 363.53875)scale(0.1 -0.1)\">\n       <defs>\n        <path id=\"ArialMT-38\" d=\"M 1131 2484 \nQ 781 2613 612 2850 \nQ 444 3088 444 3419 \nQ 444 3919 803 4259 \nQ 1163 4600 1759 4600 \nQ 2359 4600 2725 4251 \nQ 3091 3903 3091 3403 \nQ 3091 3084 2923 2848 \nQ 2756 2613 2416 2484 \nQ 2838 2347 3058 2040 \nQ 3278 1734 3278 1309 \nQ 3278 722 2862 322 \nQ 2447 -78 1769 -78 \nQ 1091 -78 675 323 \nQ 259 725 259 1325 \nQ 259 1772 486 2073 \nQ 713 2375 1131 2484 \nz\nM 1019 3438 \nQ 1019 3113 1228 2906 \nQ 1438 2700 1772 2700 \nQ 2097 2700 2305 2904 \nQ 2513 3109 2513 3406 \nQ 2513 3716 2298 3927 \nQ 2084 4138 1766 4138 \nQ 1444 4138 1231 3931 \nQ 1019 3725 1019 3438 \nz\nM 838 1322 \nQ 838 1081 952 856 \nQ 1066 631 1291 507 \nQ 1516 384 1775 384 \nQ 2178 384 2440 643 \nQ 2703 903 2703 1303 \nQ 2703 1709 2433 1975 \nQ 2163 2241 1756 2241 \nQ 1359 2241 1098 1978 \nQ 838 1716 838 1322 \nz\n\" transform=\"scale(0.015625)\"/>\n       </defs>\n       <use xlink:href=\"#ArialMT-38\"/>\n       <use xlink:href=\"#ArialMT-30\" x=\"55.615234\"/>\n       <use xlink:href=\"#ArialMT-30\" x=\"111.230469\"/>\n      </g>\n     </g>\n    </g>\n    <g id=\"text_10\">\n     <!-- Lead Time -->\n     <g style=\"fill: #262626\" transform=\"translate(306.844531 376.684062)scale(0.1 -0.1)\">\n      <defs>\n       <path id=\"Arial-BoldMT-4c\" d=\"M 491 0 \nL 491 4544 \nL 1416 4544 \nL 1416 772 \nL 3716 772 \nL 3716 0 \nL 491 0 \nz\n\" transform=\"scale(0.015625)\"/>\n       <path id=\"Arial-BoldMT-65\" d=\"M 2381 1056 \nL 3256 909 \nQ 3088 428 2723 176 \nQ 2359 -75 1813 -75 \nQ 947 -75 531 491 \nQ 203 944 203 1634 \nQ 203 2459 634 2926 \nQ 1066 3394 1725 3394 \nQ 2466 3394 2894 2905 \nQ 3322 2416 3303 1406 \nL 1103 1406 \nQ 1113 1016 1316 798 \nQ 1519 581 1822 581 \nQ 2028 581 2168 693 \nQ 2309 806 2381 1056 \nz\nM 2431 1944 \nQ 2422 2325 2234 2523 \nQ 2047 2722 1778 2722 \nQ 1491 2722 1303 2513 \nQ 1116 2303 1119 1944 \nL 2431 1944 \nz\n\" transform=\"scale(0.015625)\"/>\n       <path id=\"Arial-BoldMT-61\" d=\"M 1116 2306 \nL 319 2450 \nQ 453 2931 781 3162 \nQ 1109 3394 1756 3394 \nQ 2344 3394 2631 3255 \nQ 2919 3116 3036 2902 \nQ 3153 2688 3153 2116 \nL 3144 1091 \nQ 3144 653 3186 445 \nQ 3228 238 3344 0 \nL 2475 0 \nQ 2441 88 2391 259 \nQ 2369 338 2359 363 \nQ 2134 144 1878 34 \nQ 1622 -75 1331 -75 \nQ 819 -75 523 203 \nQ 228 481 228 906 \nQ 228 1188 362 1408 \nQ 497 1628 739 1745 \nQ 981 1863 1438 1950 \nQ 2053 2066 2291 2166 \nL 2291 2253 \nQ 2291 2506 2166 2614 \nQ 2041 2722 1694 2722 \nQ 1459 2722 1328 2630 \nQ 1197 2538 1116 2306 \nz\nM 2291 1594 \nQ 2122 1538 1756 1459 \nQ 1391 1381 1278 1306 \nQ 1106 1184 1106 997 \nQ 1106 813 1243 678 \nQ 1381 544 1594 544 \nQ 1831 544 2047 700 \nQ 2206 819 2256 991 \nQ 2291 1103 2291 1419 \nL 2291 1594 \nz\n\" transform=\"scale(0.015625)\"/>\n       <path id=\"Arial-BoldMT-64\" d=\"M 3503 0 \nL 2688 0 \nL 2688 488 \nQ 2484 203 2207 64 \nQ 1931 -75 1650 -75 \nQ 1078 -75 670 386 \nQ 263 847 263 1672 \nQ 263 2516 659 2955 \nQ 1056 3394 1663 3394 \nQ 2219 3394 2625 2931 \nL 2625 4581 \nL 3503 4581 \nL 3503 0 \nz\nM 1159 1731 \nQ 1159 1200 1306 963 \nQ 1519 619 1900 619 \nQ 2203 619 2415 876 \nQ 2628 1134 2628 1647 \nQ 2628 2219 2422 2470 \nQ 2216 2722 1894 2722 \nQ 1581 2722 1370 2473 \nQ 1159 2225 1159 1731 \nz\n\" transform=\"scale(0.015625)\"/>\n       <path id=\"Arial-BoldMT-20\" transform=\"scale(0.015625)\"/>\n       <path id=\"Arial-BoldMT-54\" d=\"M 1497 0 \nL 1497 3806 \nL 138 3806 \nL 138 4581 \nL 3778 4581 \nL 3778 3806 \nL 2422 3806 \nL 2422 0 \nL 1497 0 \nz\n\" transform=\"scale(0.015625)\"/>\n       <path id=\"Arial-BoldMT-69\" d=\"M 459 3769 \nL 459 4581 \nL 1338 4581 \nL 1338 3769 \nL 459 3769 \nz\nM 459 0 \nL 459 3319 \nL 1338 3319 \nL 1338 0 \nL 459 0 \nz\n\" transform=\"scale(0.015625)\"/>\n       <path id=\"Arial-BoldMT-6d\" d=\"M 394 3319 \nL 1203 3319 \nL 1203 2866 \nQ 1638 3394 2238 3394 \nQ 2556 3394 2790 3262 \nQ 3025 3131 3175 2866 \nQ 3394 3131 3647 3262 \nQ 3900 3394 4188 3394 \nQ 4553 3394 4806 3245 \nQ 5059 3097 5184 2809 \nQ 5275 2597 5275 2122 \nL 5275 0 \nL 4397 0 \nL 4397 1897 \nQ 4397 2391 4306 2534 \nQ 4184 2722 3931 2722 \nQ 3747 2722 3584 2609 \nQ 3422 2497 3350 2280 \nQ 3278 2063 3278 1594 \nL 3278 0 \nL 2400 0 \nL 2400 1819 \nQ 2400 2303 2353 2443 \nQ 2306 2584 2207 2653 \nQ 2109 2722 1941 2722 \nQ 1738 2722 1575 2612 \nQ 1413 2503 1342 2297 \nQ 1272 2091 1272 1613 \nL 1272 0 \nL 394 0 \nL 394 3319 \nz\n\" transform=\"scale(0.015625)\"/>\n      </defs>\n      <use xlink:href=\"#Arial-BoldMT-4c\"/>\n      <use xlink:href=\"#Arial-BoldMT-65\" x=\"61.083984\"/>\n      <use xlink:href=\"#Arial-BoldMT-61\" x=\"116.699219\"/>\n      <use xlink:href=\"#Arial-BoldMT-64\" x=\"172.314453\"/>\n      <use xlink:href=\"#Arial-BoldMT-20\" x=\"233.398438\"/>\n      <use xlink:href=\"#Arial-BoldMT-54\" x=\"261.181641\"/>\n      <use xlink:href=\"#Arial-BoldMT-69\" x=\"320.515625\"/>\n      <use xlink:href=\"#Arial-BoldMT-6d\" x=\"348.298828\"/>\n      <use xlink:href=\"#Arial-BoldMT-65\" x=\"437.214844\"/>\n     </g>\n    </g>\n   </g>\n   <g id=\"matplotlib.axis_2\">\n    <g id=\"ytick_1\">\n     <g id=\"line2d_10\">\n      <defs>\n       <path id=\"m8fbd5cb503\" d=\"M 0 0 \nL -3.5 0 \n\" style=\"stroke: #262626; stroke-width: 0.8\"/>\n      </defs>\n      <g>\n       <use xlink:href=\"#m8fbd5cb503\" x=\"52.484375\" y=\"349.380938\" style=\"fill: #262626; stroke: #262626; stroke-width: 0.8\"/>\n      </g>\n     </g>\n     <g id=\"text_11\">\n      <!-- 0.000 -->\n      <g style=\"fill: #262626\" transform=\"translate(20.4625 352.959844)scale(0.1 -0.1)\">\n       <defs>\n        <path id=\"ArialMT-2e\" d=\"M 581 0 \nL 581 641 \nL 1222 641 \nL 1222 0 \nL 581 0 \nz\n\" transform=\"scale(0.015625)\"/>\n       </defs>\n       <use xlink:href=\"#ArialMT-30\"/>\n       <use xlink:href=\"#ArialMT-2e\" x=\"55.615234\"/>\n       <use xlink:href=\"#ArialMT-30\" x=\"83.398438\"/>\n       <use xlink:href=\"#ArialMT-30\" x=\"139.013672\"/>\n       <use xlink:href=\"#ArialMT-30\" x=\"194.628906\"/>\n      </g>\n     </g>\n    </g>\n    <g id=\"ytick_2\">\n     <g id=\"line2d_11\">\n      <g>\n       <use xlink:href=\"#m8fbd5cb503\" x=\"52.484375\" y=\"285.624601\" style=\"fill: #262626; stroke: #262626; stroke-width: 0.8\"/>\n      </g>\n     </g>\n     <g id=\"text_12\">\n      <!-- 0.002 -->\n      <g style=\"fill: #262626\" transform=\"translate(20.4625 289.203507)scale(0.1 -0.1)\">\n       <use xlink:href=\"#ArialMT-30\"/>\n       <use xlink:href=\"#ArialMT-2e\" x=\"55.615234\"/>\n       <use xlink:href=\"#ArialMT-30\" x=\"83.398438\"/>\n       <use xlink:href=\"#ArialMT-30\" x=\"139.013672\"/>\n       <use xlink:href=\"#ArialMT-32\" x=\"194.628906\"/>\n      </g>\n     </g>\n    </g>\n    <g id=\"ytick_3\">\n     <g id=\"line2d_12\">\n      <g>\n       <use xlink:href=\"#m8fbd5cb503\" x=\"52.484375\" y=\"221.868264\" style=\"fill: #262626; stroke: #262626; stroke-width: 0.8\"/>\n      </g>\n     </g>\n     <g id=\"text_13\">\n      <!-- 0.004 -->\n      <g style=\"fill: #262626\" transform=\"translate(20.4625 225.44717)scale(0.1 -0.1)\">\n       <use xlink:href=\"#ArialMT-30\"/>\n       <use xlink:href=\"#ArialMT-2e\" x=\"55.615234\"/>\n       <use xlink:href=\"#ArialMT-30\" x=\"83.398438\"/>\n       <use xlink:href=\"#ArialMT-30\" x=\"139.013672\"/>\n       <use xlink:href=\"#ArialMT-34\" x=\"194.628906\"/>\n      </g>\n     </g>\n    </g>\n    <g id=\"ytick_4\">\n     <g id=\"line2d_13\">\n      <g>\n       <use xlink:href=\"#m8fbd5cb503\" x=\"52.484375\" y=\"158.111927\" style=\"fill: #262626; stroke: #262626; stroke-width: 0.8\"/>\n      </g>\n     </g>\n     <g id=\"text_14\">\n      <!-- 0.006 -->\n      <g style=\"fill: #262626\" transform=\"translate(20.4625 161.690833)scale(0.1 -0.1)\">\n       <use xlink:href=\"#ArialMT-30\"/>\n       <use xlink:href=\"#ArialMT-2e\" x=\"55.615234\"/>\n       <use xlink:href=\"#ArialMT-30\" x=\"83.398438\"/>\n       <use xlink:href=\"#ArialMT-30\" x=\"139.013672\"/>\n       <use xlink:href=\"#ArialMT-36\" x=\"194.628906\"/>\n      </g>\n     </g>\n    </g>\n    <g id=\"ytick_5\">\n     <g id=\"line2d_14\">\n      <g>\n       <use xlink:href=\"#m8fbd5cb503\" x=\"52.484375\" y=\"94.35559\" style=\"fill: #262626; stroke: #262626; stroke-width: 0.8\"/>\n      </g>\n     </g>\n     <g id=\"text_15\">\n      <!-- 0.008 -->\n      <g style=\"fill: #262626\" transform=\"translate(20.4625 97.934497)scale(0.1 -0.1)\">\n       <use xlink:href=\"#ArialMT-30\"/>\n       <use xlink:href=\"#ArialMT-2e\" x=\"55.615234\"/>\n       <use xlink:href=\"#ArialMT-30\" x=\"83.398438\"/>\n       <use xlink:href=\"#ArialMT-30\" x=\"139.013672\"/>\n       <use xlink:href=\"#ArialMT-38\" x=\"194.628906\"/>\n      </g>\n     </g>\n    </g>\n    <g id=\"ytick_6\">\n     <g id=\"line2d_15\">\n      <g>\n       <use xlink:href=\"#m8fbd5cb503\" x=\"52.484375\" y=\"30.599254\" style=\"fill: #262626; stroke: #262626; stroke-width: 0.8\"/>\n      </g>\n     </g>\n     <g id=\"text_16\">\n      <!-- 0.010 -->\n      <g style=\"fill: #262626\" transform=\"translate(20.4625 34.17816)scale(0.1 -0.1)\">\n       <use xlink:href=\"#ArialMT-30\"/>\n       <use xlink:href=\"#ArialMT-2e\" x=\"55.615234\"/>\n       <use xlink:href=\"#ArialMT-30\" x=\"83.398438\"/>\n       <use xlink:href=\"#ArialMT-31\" x=\"139.013672\"/>\n       <use xlink:href=\"#ArialMT-30\" x=\"194.628906\"/>\n      </g>\n     </g>\n    </g>\n    <g id=\"text_17\">\n     <!-- Density -->\n     <g style=\"fill: #262626\" transform=\"translate(14.357813 204.361094)rotate(-90)scale(0.1 -0.1)\">\n      <defs>\n       <path id=\"Arial-BoldMT-44\" d=\"M 463 4581 \nL 2153 4581 \nQ 2725 4581 3025 4494 \nQ 3428 4375 3715 4072 \nQ 4003 3769 4153 3330 \nQ 4303 2891 4303 2247 \nQ 4303 1681 4163 1272 \nQ 3991 772 3672 463 \nQ 3431 228 3022 97 \nQ 2716 0 2203 0 \nL 463 0 \nL 463 4581 \nz\nM 1388 3806 \nL 1388 772 \nL 2078 772 \nQ 2466 772 2638 816 \nQ 2863 872 3011 1006 \nQ 3159 1141 3253 1448 \nQ 3347 1756 3347 2288 \nQ 3347 2819 3253 3103 \nQ 3159 3388 2990 3547 \nQ 2822 3706 2563 3763 \nQ 2369 3806 1803 3806 \nL 1388 3806 \nz\n\" transform=\"scale(0.015625)\"/>\n       <path id=\"Arial-BoldMT-6e\" d=\"M 3478 0 \nL 2600 0 \nL 2600 1694 \nQ 2600 2231 2544 2389 \nQ 2488 2547 2361 2634 \nQ 2234 2722 2056 2722 \nQ 1828 2722 1647 2597 \nQ 1466 2472 1398 2265 \nQ 1331 2059 1331 1503 \nL 1331 0 \nL 453 0 \nL 453 3319 \nL 1269 3319 \nL 1269 2831 \nQ 1703 3394 2363 3394 \nQ 2653 3394 2893 3289 \nQ 3134 3184 3257 3021 \nQ 3381 2859 3429 2653 \nQ 3478 2447 3478 2063 \nL 3478 0 \nz\n\" transform=\"scale(0.015625)\"/>\n       <path id=\"Arial-BoldMT-73\" d=\"M 150 947 \nL 1031 1081 \nQ 1088 825 1259 692 \nQ 1431 559 1741 559 \nQ 2081 559 2253 684 \nQ 2369 772 2369 919 \nQ 2369 1019 2306 1084 \nQ 2241 1147 2013 1200 \nQ 950 1434 666 1628 \nQ 272 1897 272 2375 \nQ 272 2806 612 3100 \nQ 953 3394 1669 3394 \nQ 2350 3394 2681 3172 \nQ 3013 2950 3138 2516 \nL 2309 2363 \nQ 2256 2556 2107 2659 \nQ 1959 2763 1684 2763 \nQ 1338 2763 1188 2666 \nQ 1088 2597 1088 2488 \nQ 1088 2394 1175 2328 \nQ 1294 2241 1995 2081 \nQ 2697 1922 2975 1691 \nQ 3250 1456 3250 1038 \nQ 3250 581 2869 253 \nQ 2488 -75 1741 -75 \nQ 1063 -75 667 200 \nQ 272 475 150 947 \nz\n\" transform=\"scale(0.015625)\"/>\n       <path id=\"Arial-BoldMT-74\" d=\"M 1981 3319 \nL 1981 2619 \nL 1381 2619 \nL 1381 1281 \nQ 1381 875 1398 808 \nQ 1416 741 1477 697 \nQ 1538 653 1625 653 \nQ 1747 653 1978 738 \nL 2053 56 \nQ 1747 -75 1359 -75 \nQ 1122 -75 931 4 \nQ 741 84 652 211 \nQ 563 338 528 553 \nQ 500 706 500 1172 \nL 500 2619 \nL 97 2619 \nL 97 3319 \nL 500 3319 \nL 500 3978 \nL 1381 4491 \nL 1381 3319 \nL 1981 3319 \nz\n\" transform=\"scale(0.015625)\"/>\n       <path id=\"Arial-BoldMT-79\" d=\"M 44 3319 \nL 978 3319 \nL 1772 963 \nL 2547 3319 \nL 3456 3319 \nL 2284 125 \nL 2075 -453 \nQ 1959 -744 1854 -897 \nQ 1750 -1050 1614 -1145 \nQ 1478 -1241 1279 -1294 \nQ 1081 -1347 831 -1347 \nQ 578 -1347 334 -1294 \nL 256 -606 \nQ 463 -647 628 -647 \nQ 934 -647 1081 -467 \nQ 1228 -288 1306 -9 \nL 44 3319 \nz\n\" transform=\"scale(0.015625)\"/>\n      </defs>\n      <use xlink:href=\"#Arial-BoldMT-44\"/>\n      <use xlink:href=\"#Arial-BoldMT-65\" x=\"72.216797\"/>\n      <use xlink:href=\"#Arial-BoldMT-6e\" x=\"127.832031\"/>\n      <use xlink:href=\"#Arial-BoldMT-73\" x=\"188.916016\"/>\n      <use xlink:href=\"#Arial-BoldMT-69\" x=\"244.53125\"/>\n      <use xlink:href=\"#Arial-BoldMT-74\" x=\"272.314453\"/>\n      <use xlink:href=\"#Arial-BoldMT-79\" x=\"305.615234\"/>\n     </g>\n    </g>\n   </g>\n   <g id=\"patch_3\">\n    <path d=\"M 97.495754 349.380938 \nL 120.894616 349.380938 \nL 120.894616 38.752366 \nL 97.495754 38.752366 \nz\n\" clip-path=\"url(#p24041c56e0)\" style=\"fill: #ff0000; opacity: 0.5; stroke: #ffffff; stroke-linejoin: miter\"/>\n   </g>\n   <g id=\"patch_4\">\n    <path d=\"M 120.894616 349.380938 \nL 144.293478 349.380938 \nL 144.293478 213.384025 \nL 120.894616 213.384025 \nz\n\" clip-path=\"url(#p24041c56e0)\" style=\"fill: #ff0000; opacity: 0.5; stroke: #ffffff; stroke-linejoin: miter\"/>\n   </g>\n   <g id=\"patch_5\">\n    <path d=\"M 144.293478 349.380938 \nL 167.69234 349.380938 \nL 167.69234 249.51896 \nL 144.293478 249.51896 \nz\n\" clip-path=\"url(#p24041c56e0)\" style=\"fill: #ff0000; opacity: 0.5; stroke: #ffffff; stroke-linejoin: miter\"/>\n   </g>\n   <g id=\"patch_6\">\n    <path d=\"M 167.69234 349.380938 \nL 191.091203 349.380938 \nL 191.091203 272.423017 \nL 167.69234 272.423017 \nz\n\" clip-path=\"url(#p24041c56e0)\" style=\"fill: #ff0000; opacity: 0.5; stroke: #ffffff; stroke-linejoin: miter\"/>\n   </g>\n   <g id=\"patch_7\">\n    <path d=\"M 191.091203 349.380938 \nL 214.490065 349.380938 \nL 214.490065 279.81376 \nL 191.091203 279.81376 \nz\n\" clip-path=\"url(#p24041c56e0)\" style=\"fill: #ff0000; opacity: 0.5; stroke: #ffffff; stroke-linejoin: miter\"/>\n   </g>\n   <g id=\"patch_8\">\n    <path d=\"M 214.490065 349.380938 \nL 237.888927 349.380938 \nL 237.888927 300.515085 \nL 214.490065 300.515085 \nz\n\" clip-path=\"url(#p24041c56e0)\" style=\"fill: #ff0000; opacity: 0.5; stroke: #ffffff; stroke-linejoin: miter\"/>\n   </g>\n   <g id=\"patch_9\">\n    <path d=\"M 237.888927 349.380938 \nL 261.287789 349.380938 \nL 261.287789 319.144105 \nL 237.888927 319.144105 \nz\n\" clip-path=\"url(#p24041c56e0)\" style=\"fill: #ff0000; opacity: 0.5; stroke: #ffffff; stroke-linejoin: miter\"/>\n   </g>\n   <g id=\"patch_10\">\n    <path d=\"M 261.287789 349.380938 \nL 284.686651 349.380938 \nL 284.686651 316.883407 \nL 261.287789 316.883407 \nz\n\" clip-path=\"url(#p24041c56e0)\" style=\"fill: #ff0000; opacity: 0.5; stroke: #ffffff; stroke-linejoin: miter\"/>\n   </g>\n   <g id=\"patch_11\">\n    <path d=\"M 284.686651 349.380938 \nL 308.085513 349.380938 \nL 308.085513 325.984165 \nL 284.686651 325.984165 \nz\n\" clip-path=\"url(#p24041c56e0)\" style=\"fill: #ff0000; opacity: 0.5; stroke: #ffffff; stroke-linejoin: miter\"/>\n   </g>\n   <g id=\"patch_12\">\n    <path d=\"M 308.085513 349.380938 \nL 331.484375 349.380938 \nL 331.484375 334.628435 \nL 308.085513 334.628435 \nz\n\" clip-path=\"url(#p24041c56e0)\" style=\"fill: #ff0000; opacity: 0.5; stroke: #ffffff; stroke-linejoin: miter\"/>\n   </g>\n   <g id=\"patch_13\">\n    <path d=\"M 331.484375 349.380938 \nL 354.883237 349.380938 \nL 354.883237 341.432266 \nL 331.484375 341.432266 \nz\n\" clip-path=\"url(#p24041c56e0)\" style=\"fill: #ff0000; opacity: 0.5; stroke: #ffffff; stroke-linejoin: miter\"/>\n   </g>\n   <g id=\"patch_14\">\n    <path d=\"M 354.883237 349.380938 \nL 378.282099 349.380938 \nL 378.282099 344.105976 \nL 354.883237 344.105976 \nz\n\" clip-path=\"url(#p24041c56e0)\" style=\"fill: #ff0000; opacity: 0.5; stroke: #ffffff; stroke-linejoin: miter\"/>\n   </g>\n   <g id=\"patch_15\">\n    <path d=\"M 378.282099 349.380938 \nL 401.680961 349.380938 \nL 401.680961 344.279876 \nL 378.282099 344.279876 \nz\n\" clip-path=\"url(#p24041c56e0)\" style=\"fill: #ff0000; opacity: 0.5; stroke: #ffffff; stroke-linejoin: miter\"/>\n   </g>\n   <g id=\"patch_16\">\n    <path d=\"M 401.680961 349.380938 \nL 425.079823 349.380938 \nL 425.079823 348.366522 \nL 401.680961 348.366522 \nz\n\" clip-path=\"url(#p24041c56e0)\" style=\"fill: #ff0000; opacity: 0.5; stroke: #ffffff; stroke-linejoin: miter\"/>\n   </g>\n   <g id=\"patch_17\">\n    <path d=\"M 425.079823 349.380938 \nL 448.478685 349.380938 \nL 448.478685 348.207114 \nL 425.079823 348.207114 \nz\n\" clip-path=\"url(#p24041c56e0)\" style=\"fill: #ff0000; opacity: 0.5; stroke: #ffffff; stroke-linejoin: miter\"/>\n   </g>\n   <g id=\"patch_18\">\n    <path d=\"M 448.478685 349.380938 \nL 471.877547 349.380938 \nL 471.877547 348.765042 \nL 448.478685 348.765042 \nz\n\" clip-path=\"url(#p24041c56e0)\" style=\"fill: #ff0000; opacity: 0.5; stroke: #ffffff; stroke-linejoin: miter\"/>\n   </g>\n   <g id=\"patch_19\">\n    <path d=\"M 471.877547 349.380938 \nL 495.27641 349.380938 \nL 495.27641 348.330293 \nL 471.877547 348.330293 \nz\n\" clip-path=\"url(#p24041c56e0)\" style=\"fill: #ff0000; opacity: 0.5; stroke: #ffffff; stroke-linejoin: miter\"/>\n   </g>\n   <g id=\"patch_20\">\n    <path d=\"M 495.27641 349.380938 \nL 518.675272 349.380938 \nL 518.675272 349.257758 \nL 495.27641 349.257758 \nz\n\" clip-path=\"url(#p24041c56e0)\" style=\"fill: #ff0000; opacity: 0.5; stroke: #ffffff; stroke-linejoin: miter\"/>\n   </g>\n   <g id=\"patch_21\">\n    <path d=\"M 518.675272 349.380938 \nL 542.074134 349.380938 \nL 542.074134 349.380938 \nL 518.675272 349.380938 \nz\n\" clip-path=\"url(#p24041c56e0)\" style=\"fill: #ff0000; opacity: 0.5; stroke: #ffffff; stroke-linejoin: miter\"/>\n   </g>\n   <g id=\"patch_22\">\n    <path d=\"M 542.074134 349.380938 \nL 565.472996 349.380938 \nL 565.472996 349.366446 \nL 542.074134 349.366446 \nz\n\" clip-path=\"url(#p24041c56e0)\" style=\"fill: #ff0000; opacity: 0.5; stroke: #ffffff; stroke-linejoin: miter\"/>\n   </g>\n   <g id=\"line2d_16\">\n    <path d=\"M 77.848011 347.982792 \nL 80.397121 345.000847 \nL 82.94623 337.505056 \nL 85.495339 321.466012 \nL 88.044448 292.365858 \nL 90.593557 247.874098 \nL 95.691776 132.091916 \nL 98.240885 84.112602 \nL 100.789994 57.808992 \nL 103.339103 55.686815 \nL 105.888212 71.926032 \nL 110.986431 121.717313 \nL 113.53554 142.373823 \nL 116.084649 158.121221 \nL 118.633758 170.366234 \nL 121.182867 180.765928 \nL 123.731977 190.266175 \nL 126.281086 198.995079 \nL 128.830195 206.670143 \nL 131.379304 213.073307 \nL 133.928413 218.290885 \nL 136.477523 222.677189 \nL 146.673959 238.456191 \nL 149.223068 241.951651 \nL 151.772178 244.880721 \nL 154.321287 247.26793 \nL 159.419505 251.507735 \nL 161.968614 253.993269 \nL 164.517724 256.91996 \nL 172.165051 266.837779 \nL 174.71416 269.672426 \nL 177.263269 271.952437 \nL 179.812379 273.690095 \nL 182.361488 275.018376 \nL 184.910597 276.078826 \nL 187.459706 276.933703 \nL 190.008815 277.58037 \nL 197.656143 278.852826 \nL 200.205252 279.539526 \nL 202.754361 280.569961 \nL 205.30347 281.987676 \nL 207.85258 283.810467 \nL 210.401689 286.050092 \nL 212.950798 288.682371 \nL 218.049016 294.536237 \nL 220.598126 297.226414 \nL 223.147235 299.42136 \nL 225.696344 301.065671 \nL 230.794562 303.618869 \nL 233.343671 305.254408 \nL 235.892781 307.421125 \nL 240.990999 312.608252 \nL 243.540108 314.858673 \nL 246.089217 316.492111 \nL 248.638327 317.501035 \nL 251.187436 318.050814 \nL 253.736545 318.322453 \nL 256.285654 318.400595 \nL 258.834763 318.274096 \nL 261.383872 317.910379 \nL 269.0312 316.127255 \nL 271.580309 316.012736 \nL 274.129418 316.51305 \nL 276.678528 317.612458 \nL 281.776746 320.543042 \nL 284.325855 321.773753 \nL 286.874964 322.68331 \nL 294.522292 324.674551 \nL 297.071401 325.551935 \nL 302.169619 327.752523 \nL 307.267838 329.895966 \nL 312.366056 331.833802 \nL 314.915165 332.954549 \nL 320.013384 335.589563 \nL 325.111602 338.166843 \nL 327.660711 339.222485 \nL 330.20982 340.042144 \nL 332.75893 340.57307 \nL 335.308039 340.799819 \nL 345.504476 340.863163 \nL 355.700912 342.307875 \nL 360.799131 342.638795 \nL 363.34824 342.93283 \nL 368.446458 343.922471 \nL 370.995567 344.423709 \nL 373.544677 344.768762 \nL 376.093786 344.907131 \nL 381.192004 344.710559 \nL 386.290222 344.397835 \nL 388.839332 344.381477 \nL 391.388441 344.531472 \nL 393.93755 344.868713 \nL 399.035768 345.973717 \nL 404.133987 347.145842 \nL 406.683096 347.578038 \nL 409.232205 347.867401 \nL 414.330423 348.088927 \nL 429.625079 348.260543 \nL 439.821515 348.439177 \nL 470.410825 348.66126 \nL 485.705481 348.375078 \nL 493.352808 348.489044 \nL 498.451026 348.748858 \nL 506.098354 349.217293 \nL 513.745682 349.368419 \nL 546.884101 349.370505 \nL 585.120739 349.380823 \nL 585.120739 349.380823 \n\" clip-path=\"url(#p24041c56e0)\" style=\"fill: none; stroke: #ff0000; stroke-width: 3; stroke-linecap: round\"/>\n   </g>\n   <g id=\"patch_23\">\n    <path d=\"M 52.484375 349.380938 \nL 52.484375 23.220937 \n\" style=\"fill: none; stroke: #262626; stroke-width: 0.8; stroke-linejoin: miter; stroke-linecap: square\"/>\n   </g>\n   <g id=\"patch_24\">\n    <path d=\"M 610.484375 349.380938 \nL 610.484375 23.220937 \n\" style=\"fill: none; stroke: #262626; stroke-width: 0.8; stroke-linejoin: miter; stroke-linecap: square\"/>\n   </g>\n   <g id=\"patch_25\">\n    <path d=\"M 52.484375 349.380938 \nL 610.484375 349.380938 \n\" style=\"fill: none; stroke: #262626; stroke-width: 0.8; stroke-linejoin: miter; stroke-linecap: square\"/>\n   </g>\n   <g id=\"patch_26\">\n    <path d=\"M 52.484375 23.220937 \nL 610.484375 23.220937 \n\" style=\"fill: none; stroke: #262626; stroke-width: 0.8; stroke-linejoin: miter; stroke-linecap: square\"/>\n   </g>\n   <g id=\"text_18\">\n    <!-- Distribution of Lead Time - Skewness -->\n    <g style=\"fill: #262626\" transform=\"translate(207.150156 17.220937)scale(0.14 -0.14)\">\n     <defs>\n      <path id=\"Arial-BoldMT-72\" d=\"M 1300 0 \nL 422 0 \nL 422 3319 \nL 1238 3319 \nL 1238 2847 \nQ 1447 3181 1614 3287 \nQ 1781 3394 1994 3394 \nQ 2294 3394 2572 3228 \nL 2300 2463 \nQ 2078 2606 1888 2606 \nQ 1703 2606 1575 2504 \nQ 1447 2403 1373 2137 \nQ 1300 1872 1300 1025 \nL 1300 0 \nz\n\" transform=\"scale(0.015625)\"/>\n      <path id=\"Arial-BoldMT-62\" d=\"M 422 0 \nL 422 4581 \nL 1300 4581 \nL 1300 2931 \nQ 1706 3394 2263 3394 \nQ 2869 3394 3266 2955 \nQ 3663 2516 3663 1694 \nQ 3663 844 3258 384 \nQ 2853 -75 2275 -75 \nQ 1991 -75 1714 67 \nQ 1438 209 1238 488 \nL 1238 0 \nL 422 0 \nz\nM 1294 1731 \nQ 1294 1216 1456 969 \nQ 1684 619 2063 619 \nQ 2353 619 2558 867 \nQ 2763 1116 2763 1650 \nQ 2763 2219 2556 2470 \nQ 2350 2722 2028 2722 \nQ 1713 2722 1503 2476 \nQ 1294 2231 1294 1731 \nz\n\" transform=\"scale(0.015625)\"/>\n      <path id=\"Arial-BoldMT-75\" d=\"M 2644 0 \nL 2644 497 \nQ 2463 231 2167 78 \nQ 1872 -75 1544 -75 \nQ 1209 -75 943 72 \nQ 678 219 559 484 \nQ 441 750 441 1219 \nL 441 3319 \nL 1319 3319 \nL 1319 1794 \nQ 1319 1094 1367 936 \nQ 1416 778 1544 686 \nQ 1672 594 1869 594 \nQ 2094 594 2272 717 \nQ 2450 841 2515 1023 \nQ 2581 1206 2581 1919 \nL 2581 3319 \nL 3459 3319 \nL 3459 0 \nL 2644 0 \nz\n\" transform=\"scale(0.015625)\"/>\n      <path id=\"Arial-BoldMT-6f\" d=\"M 256 1706 \nQ 256 2144 472 2553 \nQ 688 2963 1083 3178 \nQ 1478 3394 1966 3394 \nQ 2719 3394 3200 2905 \nQ 3681 2416 3681 1669 \nQ 3681 916 3195 420 \nQ 2709 -75 1972 -75 \nQ 1516 -75 1102 131 \nQ 688 338 472 736 \nQ 256 1134 256 1706 \nz\nM 1156 1659 \nQ 1156 1166 1390 903 \nQ 1625 641 1969 641 \nQ 2313 641 2545 903 \nQ 2778 1166 2778 1666 \nQ 2778 2153 2545 2415 \nQ 2313 2678 1969 2678 \nQ 1625 2678 1390 2415 \nQ 1156 2153 1156 1659 \nz\n\" transform=\"scale(0.015625)\"/>\n      <path id=\"Arial-BoldMT-66\" d=\"M 75 3319 \nL 563 3319 \nL 563 3569 \nQ 563 3988 652 4194 \nQ 741 4400 980 4529 \nQ 1219 4659 1584 4659 \nQ 1959 4659 2319 4547 \nL 2200 3934 \nQ 1991 3984 1797 3984 \nQ 1606 3984 1523 3895 \nQ 1441 3806 1441 3553 \nL 1441 3319 \nL 2097 3319 \nL 2097 2628 \nL 1441 2628 \nL 1441 0 \nL 563 0 \nL 563 2628 \nL 75 2628 \nL 75 3319 \nz\n\" transform=\"scale(0.015625)\"/>\n      <path id=\"Arial-BoldMT-2d\" d=\"M 359 1222 \nL 359 2100 \nL 2084 2100 \nL 2084 1222 \nL 359 1222 \nz\n\" transform=\"scale(0.015625)\"/>\n      <path id=\"Arial-BoldMT-53\" d=\"M 231 1491 \nL 1131 1578 \nQ 1213 1125 1461 912 \nQ 1709 700 2131 700 \nQ 2578 700 2804 889 \nQ 3031 1078 3031 1331 \nQ 3031 1494 2936 1608 \nQ 2841 1722 2603 1806 \nQ 2441 1863 1863 2006 \nQ 1119 2191 819 2459 \nQ 397 2838 397 3381 \nQ 397 3731 595 4036 \nQ 794 4341 1167 4500 \nQ 1541 4659 2069 4659 \nQ 2931 4659 3367 4281 \nQ 3803 3903 3825 3272 \nL 2900 3231 \nQ 2841 3584 2645 3739 \nQ 2450 3894 2059 3894 \nQ 1656 3894 1428 3728 \nQ 1281 3622 1281 3444 \nQ 1281 3281 1419 3166 \nQ 1594 3019 2269 2859 \nQ 2944 2700 3267 2529 \nQ 3591 2359 3773 2064 \nQ 3956 1769 3956 1334 \nQ 3956 941 3737 597 \nQ 3519 253 3119 86 \nQ 2719 -81 2122 -81 \nQ 1253 -81 787 320 \nQ 322 722 231 1491 \nz\n\" transform=\"scale(0.015625)\"/>\n      <path id=\"Arial-BoldMT-6b\" d=\"M 428 0 \nL 428 4581 \nL 1306 4581 \nL 1306 2150 \nL 2334 3319 \nL 3416 3319 \nL 2281 2106 \nL 3497 0 \nL 2550 0 \nL 1716 1491 \nL 1306 1063 \nL 1306 0 \nL 428 0 \nz\n\" transform=\"scale(0.015625)\"/>\n      <path id=\"Arial-BoldMT-77\" d=\"M 1078 0 \nL 28 3319 \nL 881 3319 \nL 1503 1144 \nL 2075 3319 \nL 2922 3319 \nL 3475 1144 \nL 4109 3319 \nL 4975 3319 \nL 3909 0 \nL 3066 0 \nL 2494 2134 \nL 1931 0 \nL 1078 0 \nz\n\" transform=\"scale(0.015625)\"/>\n     </defs>\n     <use xlink:href=\"#Arial-BoldMT-44\"/>\n     <use xlink:href=\"#Arial-BoldMT-69\" x=\"72.216797\"/>\n     <use xlink:href=\"#Arial-BoldMT-73\" x=\"100\"/>\n     <use xlink:href=\"#Arial-BoldMT-74\" x=\"155.615234\"/>\n     <use xlink:href=\"#Arial-BoldMT-72\" x=\"188.916016\"/>\n     <use xlink:href=\"#Arial-BoldMT-69\" x=\"227.832031\"/>\n     <use xlink:href=\"#Arial-BoldMT-62\" x=\"255.615234\"/>\n     <use xlink:href=\"#Arial-BoldMT-75\" x=\"316.699219\"/>\n     <use xlink:href=\"#Arial-BoldMT-74\" x=\"377.783203\"/>\n     <use xlink:href=\"#Arial-BoldMT-69\" x=\"411.083984\"/>\n     <use xlink:href=\"#Arial-BoldMT-6f\" x=\"438.867188\"/>\n     <use xlink:href=\"#Arial-BoldMT-6e\" x=\"499.951172\"/>\n     <use xlink:href=\"#Arial-BoldMT-20\" x=\"561.035156\"/>\n     <use xlink:href=\"#Arial-BoldMT-6f\" x=\"588.818359\"/>\n     <use xlink:href=\"#Arial-BoldMT-66\" x=\"649.902344\"/>\n     <use xlink:href=\"#Arial-BoldMT-20\" x=\"683.203125\"/>\n     <use xlink:href=\"#Arial-BoldMT-4c\" x=\"710.986328\"/>\n     <use xlink:href=\"#Arial-BoldMT-65\" x=\"772.070312\"/>\n     <use xlink:href=\"#Arial-BoldMT-61\" x=\"827.685547\"/>\n     <use xlink:href=\"#Arial-BoldMT-64\" x=\"883.300781\"/>\n     <use xlink:href=\"#Arial-BoldMT-20\" x=\"944.384766\"/>\n     <use xlink:href=\"#Arial-BoldMT-54\" x=\"972.167969\"/>\n     <use xlink:href=\"#Arial-BoldMT-69\" x=\"1031.501953\"/>\n     <use xlink:href=\"#Arial-BoldMT-6d\" x=\"1059.285156\"/>\n     <use xlink:href=\"#Arial-BoldMT-65\" x=\"1148.201172\"/>\n     <use xlink:href=\"#Arial-BoldMT-20\" x=\"1203.816406\"/>\n     <use xlink:href=\"#Arial-BoldMT-2d\" x=\"1231.599609\"/>\n     <use xlink:href=\"#Arial-BoldMT-20\" x=\"1264.900391\"/>\n     <use xlink:href=\"#Arial-BoldMT-53\" x=\"1292.683594\"/>\n     <use xlink:href=\"#Arial-BoldMT-6b\" x=\"1359.382812\"/>\n     <use xlink:href=\"#Arial-BoldMT-65\" x=\"1414.998047\"/>\n     <use xlink:href=\"#Arial-BoldMT-77\" x=\"1470.613281\"/>\n     <use xlink:href=\"#Arial-BoldMT-6e\" x=\"1548.396484\"/>\n     <use xlink:href=\"#Arial-BoldMT-65\" x=\"1609.480469\"/>\n     <use xlink:href=\"#Arial-BoldMT-73\" x=\"1665.095703\"/>\n     <use xlink:href=\"#Arial-BoldMT-73\" x=\"1720.710938\"/>\n    </g>\n   </g>\n  </g>\n </g>\n <defs>\n  <clipPath id=\"p24041c56e0\">\n   <rect x=\"52.484375\" y=\"23.220937\" width=\"558\" height=\"326.16\"/>\n  </clipPath>\n </defs>\n</svg>\n",
            "text/plain": [
              "<Figure size 720x432 with 1 Axes>"
            ]
          },
          "metadata": {
            "needs_background": "light"
          },
          "output_type": "display_data"
        }
      ],
      "source": [
        "from scipy.stats import norm\n",
        "plt.figure(figsize=(10,6))\n",
        "sns.set_style('ticks')\n",
        "ax = sns.distplot(df['lead_time'],bins = 20,color = 'r',kde_kws= {'lw': 3},hist_kws= {'alpha' : 0.5})\n",
        "ax.set_title('Distribution of Lead Time - Skewness',fontsize = 14, weight='bold')\n",
        "ax.set_xlabel(\"Lead Time\",weight = 'bold')\n",
        "ax.set_ylabel(\"Density\",weight = 'bold');"
      ]
    },
    {
      "cell_type": "code",
      "execution_count": 18,
      "metadata": {
        "colab": {
          "base_uri": "https://localhost:8080/",
          "height": 405
        },
        "id": "bYPweoTDjKzO",
        "outputId": "e7163294-4534-438c-f007-738d5ea946bb"
      },
      "outputs": [
        {
          "data": {
            "image/png": "[encoded data removed]",
            "image/svg+xml": "<?xml version=\"1.0\" encoding=\"utf-8\" standalone=\"no\"?>\n<!DOCTYPE svg PUBLIC \"-//W3C//DTD SVG 1.1//EN\"\n  \"http://www.w3.org/Graphics/SVG/1.1/DTD/svg11.dtd\">\n<svg xmlns:xlink=\"http://www.w3.org/1999/xlink\" width=\"628.80625pt\" height=\"386.28125pt\" viewBox=\"0 0 628.80625 386.28125\" xmlns=\"http://www.w3.org/2000/svg\" version=\"1.1\">\n <metadata>\n  <rdf:RDF xmlns:dc=\"http://purl.org/dc/elements/1.1/\" xmlns:cc=\"http://creativecommons.org/ns#\" xmlns:rdf=\"http://www.w3.org/1999/02/22-rdf-syntax-ns#\">\n   <cc:Work>\n    <dc:type rdf:resource=\"http://purl.org/dc/dcmitype/StillImage\"/>\n    <dc:date>2022-09-08T16:17:30.536218</dc:date>\n    <dc:format>image/svg+xml</dc:format>\n    <dc:creator>\n     <cc:Agent>\n      <dc:title>Matplotlib v3.5.0, https://matplotlib.org/</dc:title>\n     </cc:Agent>\n    </dc:creator>\n   </cc:Work>\n  </rdf:RDF>\n </metadata>\n <defs>\n  <style type=\"text/css\">*{stroke-linejoin: round; stroke-linecap: butt}</style>\n </defs>\n <g id=\"figure_1\">\n  <g id=\"patch_1\">\n   <path d=\"M 0 386.28125 \nL 628.80625 386.28125 \nL 628.80625 0 \nL 0 0 \nz\n\" style=\"fill: #ffffff\"/>\n  </g>\n  <g id=\"axes_1\">\n   <g id=\"patch_2\">\n    <path d=\"M 52.484375 349.551562 \nL 610.484375 349.551562 \nL 610.484375 23.391562 \nL 52.484375 23.391562 \nz\n\" style=\"fill: #ffffff\"/>\n   </g>\n   <g id=\"matplotlib.axis_1\">\n    <g id=\"xtick_1\">\n     <g id=\"line2d_1\">\n      <defs>\n       <path id=\"m37d9b71836\" d=\"M 0 0 \nL 0 3.5 \n\" style=\"stroke: #262626; stroke-width: 0.8\"/>\n      </defs>\n      <g>\n       <use xlink:href=\"#m37d9b71836\" x=\"52.484375\" y=\"349.551562\" style=\"fill: #262626; stroke: #262626; stroke-width: 0.8\"/>\n      </g>\n     </g>\n     <g id=\"text_1\">\n      <!-- 0 -->\n      <g style=\"fill: #262626\" transform=\"translate(49.703906 363.709375)scale(0.1 -0.1)\">\n       <defs>\n        <path id=\"ArialMT-30\" d=\"M 266 2259 \nQ 266 3072 433 3567 \nQ 600 4063 929 4331 \nQ 1259 4600 1759 4600 \nQ 2128 4600 2406 4451 \nQ 2684 4303 2865 4023 \nQ 3047 3744 3150 3342 \nQ 3253 2941 3253 2259 \nQ 3253 1453 3087 958 \nQ 2922 463 2592 192 \nQ 2263 -78 1759 -78 \nQ 1097 -78 719 397 \nQ 266 969 266 2259 \nz\nM 844 2259 \nQ 844 1131 1108 757 \nQ 1372 384 1759 384 \nQ 2147 384 2411 759 \nQ 2675 1134 2675 2259 \nQ 2675 3391 2411 3762 \nQ 2147 4134 1753 4134 \nQ 1366 4134 1134 3806 \nQ 844 3388 844 2259 \nz\n\" transform=\"scale(0.015625)\"/>\n       </defs>\n       <use xlink:href=\"#ArialMT-30\"/>\n      </g>\n     </g>\n    </g>\n    <g id=\"xtick_2\">\n     <g id=\"line2d_2\">\n      <g>\n       <use xlink:href=\"#m37d9b71836\" x=\"164.084375\" y=\"349.551562\" style=\"fill: #262626; stroke: #262626; stroke-width: 0.8\"/>\n      </g>\n     </g>\n     <g id=\"text_2\">\n      <!-- 200 -->\n      <g style=\"fill: #262626\" transform=\"translate(155.742969 363.709375)scale(0.1 -0.1)\">\n       <defs>\n        <path id=\"ArialMT-32\" d=\"M 3222 541 \nL 3222 0 \nL 194 0 \nQ 188 203 259 391 \nQ 375 700 629 1000 \nQ 884 1300 1366 1694 \nQ 2113 2306 2375 2664 \nQ 2638 3022 2638 3341 \nQ 2638 3675 2398 3904 \nQ 2159 4134 1775 4134 \nQ 1369 4134 1125 3890 \nQ 881 3647 878 3216 \nL 300 3275 \nQ 359 3922 746 4261 \nQ 1134 4600 1788 4600 \nQ 2447 4600 2831 4234 \nQ 3216 3869 3216 3328 \nQ 3216 3053 3103 2787 \nQ 2991 2522 2730 2228 \nQ 2469 1934 1863 1422 \nQ 1356 997 1212 845 \nQ 1069 694 975 541 \nL 3222 541 \nz\n\" transform=\"scale(0.015625)\"/>\n       </defs>\n       <use xlink:href=\"#ArialMT-32\"/>\n       <use xlink:href=\"#ArialMT-30\" x=\"55.615234\"/>\n       <use xlink:href=\"#ArialMT-30\" x=\"111.230469\"/>\n      </g>\n     </g>\n    </g>\n    <g id=\"xtick_3\">\n     <g id=\"line2d_3\">\n      <g>\n       <use xlink:href=\"#m37d9b71836\" x=\"275.684375\" y=\"349.551562\" style=\"fill: #262626; stroke: #262626; stroke-width: 0.8\"/>\n      </g>\n     </g>\n     <g id=\"text_3\">\n      <!-- 400 -->\n      <g style=\"fill: #262626\" transform=\"translate(267.342969 363.709375)scale(0.1 -0.1)\">\n       <defs>\n        <path id=\"ArialMT-34\" d=\"M 2069 0 \nL 2069 1097 \nL 81 1097 \nL 81 1613 \nL 2172 4581 \nL 2631 4581 \nL 2631 1613 \nL 3250 1613 \nL 3250 1097 \nL 2631 1097 \nL 2631 0 \nL 2069 0 \nz\nM 2069 1613 \nL 2069 3678 \nL 634 1613 \nL 2069 1613 \nz\n\" transform=\"scale(0.015625)\"/>\n       </defs>\n       <use xlink:href=\"#ArialMT-34\"/>\n       <use xlink:href=\"#ArialMT-30\" x=\"55.615234\"/>\n       <use xlink:href=\"#ArialMT-30\" x=\"111.230469\"/>\n      </g>\n     </g>\n    </g>\n    <g id=\"xtick_4\">\n     <g id=\"line2d_4\">\n      <g>\n       <use xlink:href=\"#m37d9b71836\" x=\"387.284375\" y=\"349.551562\" style=\"fill: #262626; stroke: #262626; stroke-width: 0.8\"/>\n      </g>\n     </g>\n     <g id=\"text_4\">\n      <!-- 600 -->\n      <g style=\"fill: #262626\" transform=\"translate(378.942969 363.709375)scale(0.1 -0.1)\">\n       <defs>\n        <path id=\"ArialMT-36\" d=\"M 3184 3459 \nL 2625 3416 \nQ 2550 3747 2413 3897 \nQ 2184 4138 1850 4138 \nQ 1581 4138 1378 3988 \nQ 1113 3794 959 3422 \nQ 806 3050 800 2363 \nQ 1003 2672 1297 2822 \nQ 1591 2972 1913 2972 \nQ 2475 2972 2870 2558 \nQ 3266 2144 3266 1488 \nQ 3266 1056 3080 686 \nQ 2894 316 2569 119 \nQ 2244 -78 1831 -78 \nQ 1128 -78 684 439 \nQ 241 956 241 2144 \nQ 241 3472 731 4075 \nQ 1159 4600 1884 4600 \nQ 2425 4600 2770 4297 \nQ 3116 3994 3184 3459 \nz\nM 888 1484 \nQ 888 1194 1011 928 \nQ 1134 663 1356 523 \nQ 1578 384 1822 384 \nQ 2178 384 2434 671 \nQ 2691 959 2691 1453 \nQ 2691 1928 2437 2201 \nQ 2184 2475 1800 2475 \nQ 1419 2475 1153 2201 \nQ 888 1928 888 1484 \nz\n\" transform=\"scale(0.015625)\"/>\n       </defs>\n       <use xlink:href=\"#ArialMT-36\"/>\n       <use xlink:href=\"#ArialMT-30\" x=\"55.615234\"/>\n       <use xlink:href=\"#ArialMT-30\" x=\"111.230469\"/>\n      </g>\n     </g>\n    </g>\n    <g id=\"xtick_5\">\n     <g id=\"line2d_5\">\n      <g>\n       <use xlink:href=\"#m37d9b71836\" x=\"498.884375\" y=\"349.551562\" style=\"fill: #262626; stroke: #262626; stroke-width: 0.8\"/>\n      </g>\n     </g>\n     <g id=\"text_5\">\n      <!-- 800 -->\n      <g style=\"fill: #262626\" transform=\"translate(490.542969 363.709375)scale(0.1 -0.1)\">\n       <defs>\n        <path id=\"ArialMT-38\" d=\"M 1131 2484 \nQ 781 2613 612 2850 \nQ 444 3088 444 3419 \nQ 444 3919 803 4259 \nQ 1163 4600 1759 4600 \nQ 2359 4600 2725 4251 \nQ 3091 3903 3091 3403 \nQ 3091 3084 2923 2848 \nQ 2756 2613 2416 2484 \nQ 2838 2347 3058 2040 \nQ 3278 1734 3278 1309 \nQ 3278 722 2862 322 \nQ 2447 -78 1769 -78 \nQ 1091 -78 675 323 \nQ 259 725 259 1325 \nQ 259 1772 486 2073 \nQ 713 2375 1131 2484 \nz\nM 1019 3438 \nQ 1019 3113 1228 2906 \nQ 1438 2700 1772 2700 \nQ 2097 2700 2305 2904 \nQ 2513 3109 2513 3406 \nQ 2513 3716 2298 3927 \nQ 2084 4138 1766 4138 \nQ 1444 4138 1231 3931 \nQ 1019 3725 1019 3438 \nz\nM 838 1322 \nQ 838 1081 952 856 \nQ 1066 631 1291 507 \nQ 1516 384 1775 384 \nQ 2178 384 2440 643 \nQ 2703 903 2703 1303 \nQ 2703 1709 2433 1975 \nQ 2163 2241 1756 2241 \nQ 1359 2241 1098 1978 \nQ 838 1716 838 1322 \nz\n\" transform=\"scale(0.015625)\"/>\n       </defs>\n       <use xlink:href=\"#ArialMT-38\"/>\n       <use xlink:href=\"#ArialMT-30\" x=\"55.615234\"/>\n       <use xlink:href=\"#ArialMT-30\" x=\"111.230469\"/>\n      </g>\n     </g>\n    </g>\n    <g id=\"xtick_6\">\n     <g id=\"line2d_6\">\n      <g>\n       <use xlink:href=\"#m37d9b71836\" x=\"610.484375\" y=\"349.551562\" style=\"fill: #262626; stroke: #262626; stroke-width: 0.8\"/>\n      </g>\n     </g>\n     <g id=\"text_6\">\n      <!-- 1000 -->\n      <g style=\"fill: #262626\" transform=\"translate(599.3625 363.709375)scale(0.1 -0.1)\">\n       <defs>\n        <path id=\"ArialMT-31\" d=\"M 2384 0 \nL 1822 0 \nL 1822 3584 \nQ 1619 3391 1289 3197 \nQ 959 3003 697 2906 \nL 697 3450 \nQ 1169 3672 1522 3987 \nQ 1875 4303 2022 4600 \nL 2384 4600 \nL 2384 0 \nz\n\" transform=\"scale(0.015625)\"/>\n       </defs>\n       <use xlink:href=\"#ArialMT-31\"/>\n       <use xlink:href=\"#ArialMT-30\" x=\"55.615234\"/>\n       <use xlink:href=\"#ArialMT-30\" x=\"111.230469\"/>\n       <use xlink:href=\"#ArialMT-30\" x=\"166.845703\"/>\n      </g>\n     </g>\n    </g>\n    <g id=\"text_7\">\n     <!-- Average Daily Rate (ADR) -->\n     <g style=\"fill: #262626\" transform=\"translate(270.822656 376.976562)scale(0.1 -0.1)\">\n      <defs>\n       <path id=\"Arial-BoldMT-41\" d=\"M 4597 0 \nL 3591 0 \nL 3191 1041 \nL 1359 1041 \nL 981 0 \nL 0 0 \nL 1784 4581 \nL 2763 4581 \nL 4597 0 \nz\nM 2894 1813 \nL 2263 3513 \nL 1644 1813 \nL 2894 1813 \nz\n\" transform=\"scale(0.015625)\"/>\n       <path id=\"Arial-BoldMT-76\" d=\"M 1372 0 \nL 34 3319 \nL 956 3319 \nL 1581 1625 \nL 1763 1059 \nQ 1834 1275 1853 1344 \nQ 1897 1484 1947 1625 \nL 2578 3319 \nL 3481 3319 \nL 2163 0 \nL 1372 0 \nz\n\" transform=\"scale(0.015625)\"/>\n       <path id=\"Arial-BoldMT-65\" d=\"M 2381 1056 \nL 3256 909 \nQ 3088 428 2723 176 \nQ 2359 -75 1813 -75 \nQ 947 -75 531 491 \nQ 203 944 203 1634 \nQ 203 2459 634 2926 \nQ 1066 3394 1725 3394 \nQ 2466 3394 2894 2905 \nQ 3322 2416 3303 1406 \nL 1103 1406 \nQ 1113 1016 1316 798 \nQ 1519 581 1822 581 \nQ 2028 581 2168 693 \nQ 2309 806 2381 1056 \nz\nM 2431 1944 \nQ 2422 2325 2234 2523 \nQ 2047 2722 1778 2722 \nQ 1491 2722 1303 2513 \nQ 1116 2303 1119 1944 \nL 2431 1944 \nz\n\" transform=\"scale(0.015625)\"/>\n       <path id=\"Arial-BoldMT-72\" d=\"M 1300 0 \nL 422 0 \nL 422 3319 \nL 1238 3319 \nL 1238 2847 \nQ 1447 3181 1614 3287 \nQ 1781 3394 1994 3394 \nQ 2294 3394 2572 3228 \nL 2300 2463 \nQ 2078 2606 1888 2606 \nQ 1703 2606 1575 2504 \nQ 1447 2403 1373 2137 \nQ 1300 1872 1300 1025 \nL 1300 0 \nz\n\" transform=\"scale(0.015625)\"/>\n       <path id=\"Arial-BoldMT-61\" d=\"M 1116 2306 \nL 319 2450 \nQ 453 2931 781 3162 \nQ 1109 3394 1756 3394 \nQ 2344 3394 2631 3255 \nQ 2919 3116 3036 2902 \nQ 3153 2688 3153 2116 \nL 3144 1091 \nQ 3144 653 3186 445 \nQ 3228 238 3344 0 \nL 2475 0 \nQ 2441 88 2391 259 \nQ 2369 338 2359 363 \nQ 2134 144 1878 34 \nQ 1622 -75 1331 -75 \nQ 819 -75 523 203 \nQ 228 481 228 906 \nQ 228 1188 362 1408 \nQ 497 1628 739 1745 \nQ 981 1863 1438 1950 \nQ 2053 2066 2291 2166 \nL 2291 2253 \nQ 2291 2506 2166 2614 \nQ 2041 2722 1694 2722 \nQ 1459 2722 1328 2630 \nQ 1197 2538 1116 2306 \nz\nM 2291 1594 \nQ 2122 1538 1756 1459 \nQ 1391 1381 1278 1306 \nQ 1106 1184 1106 997 \nQ 1106 813 1243 678 \nQ 1381 544 1594 544 \nQ 1831 544 2047 700 \nQ 2206 819 2256 991 \nQ 2291 1103 2291 1419 \nL 2291 1594 \nz\n\" transform=\"scale(0.015625)\"/>\n       <path id=\"Arial-BoldMT-67\" d=\"M 378 -219 \nL 1381 -341 \nQ 1406 -516 1497 -581 \nQ 1622 -675 1891 -675 \nQ 2234 -675 2406 -572 \nQ 2522 -503 2581 -350 \nQ 2622 -241 2622 53 \nL 2622 538 \nQ 2228 0 1628 0 \nQ 959 0 569 566 \nQ 263 1013 263 1678 \nQ 263 2513 664 2953 \nQ 1066 3394 1663 3394 \nQ 2278 3394 2678 2853 \nL 2678 3319 \nL 3500 3319 \nL 3500 341 \nQ 3500 -247 3403 -537 \nQ 3306 -828 3131 -993 \nQ 2956 -1159 2664 -1253 \nQ 2372 -1347 1925 -1347 \nQ 1081 -1347 728 -1058 \nQ 375 -769 375 -325 \nQ 375 -281 378 -219 \nz\nM 1163 1728 \nQ 1163 1200 1367 954 \nQ 1572 709 1872 709 \nQ 2194 709 2416 961 \nQ 2638 1213 2638 1706 \nQ 2638 2222 2425 2472 \nQ 2213 2722 1888 2722 \nQ 1572 2722 1367 2476 \nQ 1163 2231 1163 1728 \nz\n\" transform=\"scale(0.015625)\"/>\n       <path id=\"Arial-BoldMT-20\" transform=\"scale(0.015625)\"/>\n       <path id=\"Arial-BoldMT-44\" d=\"M 463 4581 \nL 2153 4581 \nQ 2725 4581 3025 4494 \nQ 3428 4375 3715 4072 \nQ 4003 3769 4153 3330 \nQ 4303 2891 4303 2247 \nQ 4303 1681 4163 1272 \nQ 3991 772 3672 463 \nQ 3431 228 3022 97 \nQ 2716 0 2203 0 \nL 463 0 \nL 463 4581 \nz\nM 1388 3806 \nL 1388 772 \nL 2078 772 \nQ 2466 772 2638 816 \nQ 2863 872 3011 1006 \nQ 3159 1141 3253 1448 \nQ 3347 1756 3347 2288 \nQ 3347 2819 3253 3103 \nQ 3159 3388 2990 3547 \nQ 2822 3706 2563 3763 \nQ 2369 3806 1803 3806 \nL 1388 3806 \nz\n\" transform=\"scale(0.015625)\"/>\n       <path id=\"Arial-BoldMT-69\" d=\"M 459 3769 \nL 459 4581 \nL 1338 4581 \nL 1338 3769 \nL 459 3769 \nz\nM 459 0 \nL 459 3319 \nL 1338 3319 \nL 1338 0 \nL 459 0 \nz\n\" transform=\"scale(0.015625)\"/>\n       <path id=\"Arial-BoldMT-6c\" d=\"M 459 0 \nL 459 4581 \nL 1338 4581 \nL 1338 0 \nL 459 0 \nz\n\" transform=\"scale(0.015625)\"/>\n       <path id=\"Arial-BoldMT-79\" d=\"M 44 3319 \nL 978 3319 \nL 1772 963 \nL 2547 3319 \nL 3456 3319 \nL 2284 125 \nL 2075 -453 \nQ 1959 -744 1854 -897 \nQ 1750 -1050 1614 -1145 \nQ 1478 -1241 1279 -1294 \nQ 1081 -1347 831 -1347 \nQ 578 -1347 334 -1294 \nL 256 -606 \nQ 463 -647 628 -647 \nQ 934 -647 1081 -467 \nQ 1228 -288 1306 -9 \nL 44 3319 \nz\n\" transform=\"scale(0.015625)\"/>\n       <path id=\"Arial-BoldMT-52\" d=\"M 469 0 \nL 469 4581 \nL 2416 4581 \nQ 3150 4581 3483 4457 \nQ 3816 4334 4016 4018 \nQ 4216 3703 4216 3297 \nQ 4216 2781 3912 2445 \nQ 3609 2109 3006 2022 \nQ 3306 1847 3501 1637 \nQ 3697 1428 4028 894 \nL 4588 0 \nL 3481 0 \nL 2813 997 \nQ 2456 1531 2325 1670 \nQ 2194 1809 2047 1861 \nQ 1900 1913 1581 1913 \nL 1394 1913 \nL 1394 0 \nL 469 0 \nz\nM 1394 2644 \nL 2078 2644 \nQ 2744 2644 2909 2700 \nQ 3075 2756 3169 2893 \nQ 3263 3031 3263 3238 \nQ 3263 3469 3139 3611 \nQ 3016 3753 2791 3791 \nQ 2678 3806 2116 3806 \nL 1394 3806 \nL 1394 2644 \nz\n\" transform=\"scale(0.015625)\"/>\n       <path id=\"Arial-BoldMT-74\" d=\"M 1981 3319 \nL 1981 2619 \nL 1381 2619 \nL 1381 1281 \nQ 1381 875 1398 808 \nQ 1416 741 1477 697 \nQ 1538 653 1625 653 \nQ 1747 653 1978 738 \nL 2053 56 \nQ 1747 -75 1359 -75 \nQ 1122 -75 931 4 \nQ 741 84 652 211 \nQ 563 338 528 553 \nQ 500 706 500 1172 \nL 500 2619 \nL 97 2619 \nL 97 3319 \nL 500 3319 \nL 500 3978 \nL 1381 4491 \nL 1381 3319 \nL 1981 3319 \nz\n\" transform=\"scale(0.015625)\"/>\n       <path id=\"Arial-BoldMT-28\" d=\"M 1916 -1347 \nL 1313 -1347 \nQ 834 -625 584 153 \nQ 334 931 334 1659 \nQ 334 2563 644 3369 \nQ 913 4069 1325 4659 \nL 1925 4659 \nQ 1497 3713 1336 3048 \nQ 1175 2384 1175 1641 \nQ 1175 1128 1270 590 \nQ 1366 53 1531 -431 \nQ 1641 -750 1916 -1347 \nz\n\" transform=\"scale(0.015625)\"/>\n       <path id=\"Arial-BoldMT-29\" d=\"M 216 -1347 \nQ 475 -791 581 -494 \nQ 688 -197 778 190 \nQ 869 578 912 926 \nQ 956 1275 956 1641 \nQ 956 2384 797 3048 \nQ 638 3713 209 4659 \nL 806 4659 \nQ 1278 3988 1539 3234 \nQ 1800 2481 1800 1706 \nQ 1800 1053 1594 306 \nQ 1359 -531 822 -1347 \nL 216 -1347 \nz\n\" transform=\"scale(0.015625)\"/>\n      </defs>\n      <use xlink:href=\"#Arial-BoldMT-41\"/>\n      <use xlink:href=\"#Arial-BoldMT-76\" x=\"68.466797\"/>\n      <use xlink:href=\"#Arial-BoldMT-65\" x=\"124.082031\"/>\n      <use xlink:href=\"#Arial-BoldMT-72\" x=\"179.697266\"/>\n      <use xlink:href=\"#Arial-BoldMT-61\" x=\"218.613281\"/>\n      <use xlink:href=\"#Arial-BoldMT-67\" x=\"274.228516\"/>\n      <use xlink:href=\"#Arial-BoldMT-65\" x=\"335.3125\"/>\n      <use xlink:href=\"#Arial-BoldMT-20\" x=\"390.927734\"/>\n      <use xlink:href=\"#Arial-BoldMT-44\" x=\"418.710938\"/>\n      <use xlink:href=\"#Arial-BoldMT-61\" x=\"490.927734\"/>\n      <use xlink:href=\"#Arial-BoldMT-69\" x=\"546.542969\"/>\n      <use xlink:href=\"#Arial-BoldMT-6c\" x=\"574.326172\"/>\n      <use xlink:href=\"#Arial-BoldMT-79\" x=\"602.109375\"/>\n      <use xlink:href=\"#Arial-BoldMT-20\" x=\"657.724609\"/>\n      <use xlink:href=\"#Arial-BoldMT-52\" x=\"685.507812\"/>\n      <use xlink:href=\"#Arial-BoldMT-61\" x=\"757.724609\"/>\n      <use xlink:href=\"#Arial-BoldMT-74\" x=\"813.339844\"/>\n      <use xlink:href=\"#Arial-BoldMT-65\" x=\"846.640625\"/>\n      <use xlink:href=\"#Arial-BoldMT-20\" x=\"902.255859\"/>\n      <use xlink:href=\"#Arial-BoldMT-28\" x=\"930.039062\"/>\n      <use xlink:href=\"#Arial-BoldMT-41\" x=\"963.339844\"/>\n      <use xlink:href=\"#Arial-BoldMT-44\" x=\"1035.556641\"/>\n      <use xlink:href=\"#Arial-BoldMT-52\" x=\"1107.773438\"/>\n      <use xlink:href=\"#Arial-BoldMT-29\" x=\"1179.990234\"/>\n     </g>\n    </g>\n   </g>\n   <g id=\"matplotlib.axis_2\">\n    <g id=\"ytick_1\">\n     <g id=\"line2d_7\">\n      <defs>\n       <path id=\"ma3b5c61a83\" d=\"M 0 0 \nL -3.5 0 \n\" style=\"stroke: #262626; stroke-width: 0.8\"/>\n      </defs>\n      <g>\n       <use xlink:href=\"#ma3b5c61a83\" x=\"52.484375\" y=\"349.551562\" style=\"fill: #262626; stroke: #262626; stroke-width: 0.8\"/>\n      </g>\n     </g>\n     <g id=\"text_8\">\n      <!-- 0.000 -->\n      <g style=\"fill: #262626\" transform=\"translate(20.4625 353.130469)scale(0.1 -0.1)\">\n       <defs>\n        <path id=\"ArialMT-2e\" d=\"M 581 0 \nL 581 641 \nL 1222 641 \nL 1222 0 \nL 581 0 \nz\n\" transform=\"scale(0.015625)\"/>\n       </defs>\n       <use xlink:href=\"#ArialMT-30\"/>\n       <use xlink:href=\"#ArialMT-2e\" x=\"55.615234\"/>\n       <use xlink:href=\"#ArialMT-30\" x=\"83.398438\"/>\n       <use xlink:href=\"#ArialMT-30\" x=\"139.013672\"/>\n       <use xlink:href=\"#ArialMT-30\" x=\"194.628906\"/>\n      </g>\n     </g>\n    </g>\n    <g id=\"ytick_2\">\n     <g id=\"line2d_8\">\n      <g>\n       <use xlink:href=\"#ma3b5c61a83\" x=\"52.484375\" y=\"291.397487\" style=\"fill: #262626; stroke: #262626; stroke-width: 0.8\"/>\n      </g>\n     </g>\n     <g id=\"text_9\">\n      <!-- 0.002 -->\n      <g style=\"fill: #262626\" transform=\"translate(20.4625 294.976394)scale(0.1 -0.1)\">\n       <use xlink:href=\"#ArialMT-30\"/>\n       <use xlink:href=\"#ArialMT-2e\" x=\"55.615234\"/>\n       <use xlink:href=\"#ArialMT-30\" x=\"83.398438\"/>\n       <use xlink:href=\"#ArialMT-30\" x=\"139.013672\"/>\n       <use xlink:href=\"#ArialMT-32\" x=\"194.628906\"/>\n      </g>\n     </g>\n    </g>\n    <g id=\"ytick_3\">\n     <g id=\"line2d_9\">\n      <g>\n       <use xlink:href=\"#ma3b5c61a83\" x=\"52.484375\" y=\"233.243412\" style=\"fill: #262626; stroke: #262626; stroke-width: 0.8\"/>\n      </g>\n     </g>\n     <g id=\"text_10\">\n      <!-- 0.004 -->\n      <g style=\"fill: #262626\" transform=\"translate(20.4625 236.822319)scale(0.1 -0.1)\">\n       <use xlink:href=\"#ArialMT-30\"/>\n       <use xlink:href=\"#ArialMT-2e\" x=\"55.615234\"/>\n       <use xlink:href=\"#ArialMT-30\" x=\"83.398438\"/>\n       <use xlink:href=\"#ArialMT-30\" x=\"139.013672\"/>\n       <use xlink:href=\"#ArialMT-34\" x=\"194.628906\"/>\n      </g>\n     </g>\n    </g>\n    <g id=\"ytick_4\">\n     <g id=\"line2d_10\">\n      <g>\n       <use xlink:href=\"#ma3b5c61a83\" x=\"52.484375\" y=\"175.089337\" style=\"fill: #262626; stroke: #262626; stroke-width: 0.8\"/>\n      </g>\n     </g>\n     <g id=\"text_11\">\n      <!-- 0.006 -->\n      <g style=\"fill: #262626\" transform=\"translate(20.4625 178.668244)scale(0.1 -0.1)\">\n       <use xlink:href=\"#ArialMT-30\"/>\n       <use xlink:href=\"#ArialMT-2e\" x=\"55.615234\"/>\n       <use xlink:href=\"#ArialMT-30\" x=\"83.398438\"/>\n       <use xlink:href=\"#ArialMT-30\" x=\"139.013672\"/>\n       <use xlink:href=\"#ArialMT-36\" x=\"194.628906\"/>\n      </g>\n     </g>\n    </g>\n    <g id=\"ytick_5\">\n     <g id=\"line2d_11\">\n      <g>\n       <use xlink:href=\"#ma3b5c61a83\" x=\"52.484375\" y=\"116.935262\" style=\"fill: #262626; stroke: #262626; stroke-width: 0.8\"/>\n      </g>\n     </g>\n     <g id=\"text_12\">\n      <!-- 0.008 -->\n      <g style=\"fill: #262626\" transform=\"translate(20.4625 120.514169)scale(0.1 -0.1)\">\n       <use xlink:href=\"#ArialMT-30\"/>\n       <use xlink:href=\"#ArialMT-2e\" x=\"55.615234\"/>\n       <use xlink:href=\"#ArialMT-30\" x=\"83.398438\"/>\n       <use xlink:href=\"#ArialMT-30\" x=\"139.013672\"/>\n       <use xlink:href=\"#ArialMT-38\" x=\"194.628906\"/>\n      </g>\n     </g>\n    </g>\n    <g id=\"ytick_6\">\n     <g id=\"line2d_12\">\n      <g>\n       <use xlink:href=\"#ma3b5c61a83\" x=\"52.484375\" y=\"58.781187\" style=\"fill: #262626; stroke: #262626; stroke-width: 0.8\"/>\n      </g>\n     </g>\n     <g id=\"text_13\">\n      <!-- 0.010 -->\n      <g style=\"fill: #262626\" transform=\"translate(20.4625 62.360094)scale(0.1 -0.1)\">\n       <use xlink:href=\"#ArialMT-30\"/>\n       <use xlink:href=\"#ArialMT-2e\" x=\"55.615234\"/>\n       <use xlink:href=\"#ArialMT-30\" x=\"83.398438\"/>\n       <use xlink:href=\"#ArialMT-31\" x=\"139.013672\"/>\n       <use xlink:href=\"#ArialMT-30\" x=\"194.628906\"/>\n      </g>\n     </g>\n    </g>\n    <g id=\"text_14\">\n     <!-- Density -->\n     <g style=\"fill: #262626\" transform=\"translate(14.357813 204.531719)rotate(-90)scale(0.1 -0.1)\">\n      <defs>\n       <path id=\"Arial-BoldMT-6e\" d=\"M 3478 0 \nL 2600 0 \nL 2600 1694 \nQ 2600 2231 2544 2389 \nQ 2488 2547 2361 2634 \nQ 2234 2722 2056 2722 \nQ 1828 2722 1647 2597 \nQ 1466 2472 1398 2265 \nQ 1331 2059 1331 1503 \nL 1331 0 \nL 453 0 \nL 453 3319 \nL 1269 3319 \nL 1269 2831 \nQ 1703 3394 2363 3394 \nQ 2653 3394 2893 3289 \nQ 3134 3184 3257 3021 \nQ 3381 2859 3429 2653 \nQ 3478 2447 3478 2063 \nL 3478 0 \nz\n\" transform=\"scale(0.015625)\"/>\n       <path id=\"Arial-BoldMT-73\" d=\"M 150 947 \nL 1031 1081 \nQ 1088 825 1259 692 \nQ 1431 559 1741 559 \nQ 2081 559 2253 684 \nQ 2369 772 2369 919 \nQ 2369 1019 2306 1084 \nQ 2241 1147 2013 1200 \nQ 950 1434 666 1628 \nQ 272 1897 272 2375 \nQ 272 2806 612 3100 \nQ 953 3394 1669 3394 \nQ 2350 3394 2681 3172 \nQ 3013 2950 3138 2516 \nL 2309 2363 \nQ 2256 2556 2107 2659 \nQ 1959 2763 1684 2763 \nQ 1338 2763 1188 2666 \nQ 1088 2597 1088 2488 \nQ 1088 2394 1175 2328 \nQ 1294 2241 1995 2081 \nQ 2697 1922 2975 1691 \nQ 3250 1456 3250 1038 \nQ 3250 581 2869 253 \nQ 2488 -75 1741 -75 \nQ 1063 -75 667 200 \nQ 272 475 150 947 \nz\n\" transform=\"scale(0.015625)\"/>\n      </defs>\n      <use xlink:href=\"#Arial-BoldMT-44\"/>\n      <use xlink:href=\"#Arial-BoldMT-65\" x=\"72.216797\"/>\n      <use xlink:href=\"#Arial-BoldMT-6e\" x=\"127.832031\"/>\n      <use xlink:href=\"#Arial-BoldMT-73\" x=\"188.916016\"/>\n      <use xlink:href=\"#Arial-BoldMT-69\" x=\"244.53125\"/>\n      <use xlink:href=\"#Arial-BoldMT-74\" x=\"272.314453\"/>\n      <use xlink:href=\"#Arial-BoldMT-79\" x=\"305.615234\"/>\n     </g>\n    </g>\n   </g>\n   <g id=\"patch_3\">\n    <path d=\"M 48.924335 349.551562 \nL 58.980202 349.551562 \nL 58.980202 319.387413 \nL 48.924335 319.387413 \nz\n\" clip-path=\"url(#p4c9605b024)\" style=\"fill: #ff0000; opacity: 0.5; stroke: #ffffff; stroke-linejoin: miter\"/>\n   </g>\n   <g id=\"patch_4\">\n    <path d=\"M 58.980202 349.551562 \nL 69.036069 349.551562 \nL 69.036069 337.064253 \nL 58.980202 337.064253 \nz\n\" clip-path=\"url(#p4c9605b024)\" style=\"fill: #ff0000; opacity: 0.5; stroke: #ffffff; stroke-linejoin: miter\"/>\n   </g>\n   <g id=\"patch_5\">\n    <path d=\"M 69.036069 349.551562 \nL 79.091935 349.551562 \nL 79.091935 257.842818 \nL 69.036069 257.842818 \nz\n\" clip-path=\"url(#p4c9605b024)\" style=\"fill: #ff0000; opacity: 0.5; stroke: #ffffff; stroke-linejoin: miter\"/>\n   </g>\n   <g id=\"patch_6\">\n    <path d=\"M 79.091935 349.551562 \nL 89.147802 349.551562 \nL 89.147802 120.955422 \nL 79.091935 120.955422 \nz\n\" clip-path=\"url(#p4c9605b024)\" style=\"fill: #ff0000; opacity: 0.5; stroke: #ffffff; stroke-linejoin: miter\"/>\n   </g>\n   <g id=\"patch_7\">\n    <path d=\"M 89.147802 349.551562 \nL 99.203669 349.551562 \nL 99.203669 89.588491 \nL 89.147802 89.588491 \nz\n\" clip-path=\"url(#p4c9605b024)\" style=\"fill: #ff0000; opacity: 0.5; stroke: #ffffff; stroke-linejoin: miter\"/>\n   </g>\n   <g id=\"patch_8\">\n    <path d=\"M 99.203669 349.551562 \nL 109.259536 349.551562 \nL 109.259536 38.922991 \nL 99.203669 38.922991 \nz\n\" clip-path=\"url(#p4c9605b024)\" style=\"fill: #ff0000; opacity: 0.5; stroke: #ffffff; stroke-linejoin: miter\"/>\n   </g>\n   <g id=\"patch_9\">\n    <path d=\"M 109.259536 349.551562 \nL 119.315403 349.551562 \nL 119.315403 141.564888 \nL 109.259536 141.564888 \nz\n\" clip-path=\"url(#p4c9605b024)\" style=\"fill: #ff0000; opacity: 0.5; stroke: #ffffff; stroke-linejoin: miter\"/>\n   </g>\n   <g id=\"patch_10\">\n    <path d=\"M 119.315403 349.551562 \nL 129.371269 349.551562 \nL 129.371269 178.256494 \nL 119.315403 178.256494 \nz\n\" clip-path=\"url(#p4c9605b024)\" style=\"fill: #ff0000; opacity: 0.5; stroke: #ffffff; stroke-linejoin: miter\"/>\n   </g>\n   <g id=\"patch_11\">\n    <path d=\"M 129.371269 349.551562 \nL 139.427136 349.551562 \nL 139.427136 247.666472 \nL 129.371269 247.666472 \nz\n\" clip-path=\"url(#p4c9605b024)\" style=\"fill: #ff0000; opacity: 0.5; stroke: #ffffff; stroke-linejoin: miter\"/>\n   </g>\n   <g id=\"patch_12\">\n    <path d=\"M 139.427136 349.551562 \nL 149.483003 349.551562 \nL 149.483003 275.938605 \nL 139.427136 275.938605 \nz\n\" clip-path=\"url(#p4c9605b024)\" style=\"fill: #ff0000; opacity: 0.5; stroke: #ffffff; stroke-linejoin: miter\"/>\n   </g>\n   <g id=\"patch_13\">\n    <path d=\"M 149.483003 349.551562 \nL 159.53887 349.551562 \nL 159.53887 307.670425 \nL 149.483003 307.670425 \nz\n\" clip-path=\"url(#p4c9605b024)\" style=\"fill: #ff0000; opacity: 0.5; stroke: #ffffff; stroke-linejoin: miter\"/>\n   </g>\n   <g id=\"patch_14\">\n    <path d=\"M 159.53887 349.551562 \nL 169.594737 349.551562 \nL 169.594737 320.522623 \nL 159.53887 320.522623 \nz\n\" clip-path=\"url(#p4c9605b024)\" style=\"fill: #ff0000; opacity: 0.5; stroke: #ffffff; stroke-linejoin: miter\"/>\n   </g>\n   <g id=\"patch_15\">\n    <path d=\"M 169.594737 349.551562 \nL 179.650603 349.551562 \nL 179.650603 329.793504 \nL 169.594737 329.793504 \nz\n\" clip-path=\"url(#p4c9605b024)\" style=\"fill: #ff0000; opacity: 0.5; stroke: #ffffff; stroke-linejoin: miter\"/>\n   </g>\n   <g id=\"patch_16\">\n    <path d=\"M 179.650603 349.551562 \nL 189.70647 349.551562 \nL 189.70647 334.75329 \nL 179.650603 334.75329 \nz\n\" clip-path=\"url(#p4c9605b024)\" style=\"fill: #ff0000; opacity: 0.5; stroke: #ffffff; stroke-linejoin: miter\"/>\n   </g>\n   <g id=\"patch_17\">\n    <path d=\"M 189.70647 349.551562 \nL 199.762337 349.551562 \nL 199.762337 341.280747 \nL 189.70647 341.280747 \nz\n\" clip-path=\"url(#p4c9605b024)\" style=\"fill: #ff0000; opacity: 0.5; stroke: #ffffff; stroke-linejoin: miter\"/>\n   </g>\n   <g id=\"patch_18\">\n    <path d=\"M 199.762337 349.551562 \nL 209.818204 349.551562 \nL 209.818204 344.929636 \nL 199.762337 344.929636 \nz\n\" clip-path=\"url(#p4c9605b024)\" style=\"fill: #ff0000; opacity: 0.5; stroke: #ffffff; stroke-linejoin: miter\"/>\n   </g>\n   <g id=\"patch_19\">\n    <path d=\"M 209.818204 349.551562 \nL 219.874071 349.551562 \nL 219.874071 346.672994 \nL 209.818204 346.672994 \nz\n\" clip-path=\"url(#p4c9605b024)\" style=\"fill: #ff0000; opacity: 0.5; stroke: #ffffff; stroke-linejoin: miter\"/>\n   </g>\n   <g id=\"patch_20\">\n    <path d=\"M 219.874071 349.551562 \nL 229.929937 349.551562 \nL 229.929937 347.605488 \nL 219.874071 347.605488 \nz\n\" clip-path=\"url(#p4c9605b024)\" style=\"fill: #ff0000; opacity: 0.5; stroke: #ffffff; stroke-linejoin: miter\"/>\n   </g>\n   <g id=\"patch_21\">\n    <path d=\"M 229.929937 349.551562 \nL 239.985804 349.551562 \nL 239.985804 348.727184 \nL 229.929937 348.727184 \nz\n\" clip-path=\"url(#p4c9605b024)\" style=\"fill: #ff0000; opacity: 0.5; stroke: #ffffff; stroke-linejoin: miter\"/>\n   </g>\n   <g id=\"patch_22\">\n    <path d=\"M 239.985804 349.551562 \nL 250.041671 349.551562 \nL 250.041671 348.983958 \nL 239.985804 348.983958 \nz\n\" clip-path=\"url(#p4c9605b024)\" style=\"fill: #ff0000; opacity: 0.5; stroke: #ffffff; stroke-linejoin: miter\"/>\n   </g>\n   <g id=\"patch_23\">\n    <path d=\"M 250.041671 349.551562 \nL 260.097538 349.551562 \nL 260.097538 349.348846 \nL 250.041671 349.348846 \nz\n\" clip-path=\"url(#p4c9605b024)\" style=\"fill: #ff0000; opacity: 0.5; stroke: #ffffff; stroke-linejoin: miter\"/>\n   </g>\n   <g id=\"patch_24\">\n    <path d=\"M 260.097538 349.551562 \nL 270.153405 349.551562 \nL 270.153405 349.321818 \nL 260.097538 349.321818 \nz\n\" clip-path=\"url(#p4c9605b024)\" style=\"fill: #ff0000; opacity: 0.5; stroke: #ffffff; stroke-linejoin: miter\"/>\n   </g>\n   <g id=\"patch_25\">\n    <path d=\"M 270.153405 349.551562 \nL 280.209271 349.551562 \nL 280.209271 349.497505 \nL 270.153405 349.497505 \nz\n\" clip-path=\"url(#p4c9605b024)\" style=\"fill: #ff0000; opacity: 0.5; stroke: #ffffff; stroke-linejoin: miter\"/>\n   </g>\n   <g id=\"patch_26\">\n    <path d=\"M 280.209271 349.551562 \nL 290.265138 349.551562 \nL 290.265138 349.551562 \nL 280.209271 349.551562 \nz\n\" clip-path=\"url(#p4c9605b024)\" style=\"fill: #ff0000; opacity: 0.5; stroke: #ffffff; stroke-linejoin: miter\"/>\n   </g>\n   <g id=\"patch_27\">\n    <path d=\"M 290.265138 349.551562 \nL 300.321005 349.551562 \nL 300.321005 349.524534 \nL 290.265138 349.524534 \nz\n\" clip-path=\"url(#p4c9605b024)\" style=\"fill: #ff0000; opacity: 0.5; stroke: #ffffff; stroke-linejoin: miter\"/>\n   </g>\n   <g id=\"patch_28\">\n    <path d=\"M 300.321005 349.551562 \nL 310.376872 349.551562 \nL 310.376872 349.524534 \nL 300.321005 349.524534 \nz\n\" clip-path=\"url(#p4c9605b024)\" style=\"fill: #ff0000; opacity: 0.5; stroke: #ffffff; stroke-linejoin: miter\"/>\n   </g>\n   <g id=\"patch_29\">\n    <path d=\"M 310.376872 349.551562 \nL 320.432739 349.551562 \nL 320.432739 349.551562 \nL 310.376872 349.551562 \nz\n\" clip-path=\"url(#p4c9605b024)\" style=\"fill: #ff0000; opacity: 0.5; stroke: #ffffff; stroke-linejoin: miter\"/>\n   </g>\n   <g id=\"patch_30\">\n    <path d=\"M 320.432739 349.551562 \nL 330.488605 349.551562 \nL 330.488605 349.551562 \nL 320.432739 349.551562 \nz\n\" clip-path=\"url(#p4c9605b024)\" style=\"fill: #ff0000; opacity: 0.5; stroke: #ffffff; stroke-linejoin: miter\"/>\n   </g>\n   <g id=\"patch_31\">\n    <path d=\"M 330.488605 349.551562 \nL 340.544472 349.551562 \nL 340.544472 349.524534 \nL 330.488605 349.524534 \nz\n\" clip-path=\"url(#p4c9605b024)\" style=\"fill: #ff0000; opacity: 0.5; stroke: #ffffff; stroke-linejoin: miter\"/>\n   </g>\n   <g id=\"patch_32\">\n    <path d=\"M 340.544472 349.551562 \nL 350.600339 349.551562 \nL 350.600339 349.551562 \nL 340.544472 349.551562 \nz\n\" clip-path=\"url(#p4c9605b024)\" style=\"fill: #ff0000; opacity: 0.5; stroke: #ffffff; stroke-linejoin: miter\"/>\n   </g>\n   <g id=\"patch_33\">\n    <path d=\"M 350.600339 349.551562 \nL 360.656206 349.551562 \nL 360.656206 349.551562 \nL 350.600339 349.551562 \nz\n\" clip-path=\"url(#p4c9605b024)\" style=\"fill: #ff0000; opacity: 0.5; stroke: #ffffff; stroke-linejoin: miter\"/>\n   </g>\n   <g id=\"patch_34\">\n    <path d=\"M 360.656206 349.551562 \nL 370.712073 349.551562 \nL 370.712073 349.551562 \nL 360.656206 349.551562 \nz\n\" clip-path=\"url(#p4c9605b024)\" style=\"fill: #ff0000; opacity: 0.5; stroke: #ffffff; stroke-linejoin: miter\"/>\n   </g>\n   <g id=\"patch_35\">\n    <path d=\"M 370.712073 349.551562 \nL 380.767939 349.551562 \nL 380.767939 349.551562 \nL 370.712073 349.551562 \nz\n\" clip-path=\"url(#p4c9605b024)\" style=\"fill: #ff0000; opacity: 0.5; stroke: #ffffff; stroke-linejoin: miter\"/>\n   </g>\n   <g id=\"patch_36\">\n    <path d=\"M 380.767939 349.551562 \nL 390.823806 349.551562 \nL 390.823806 349.551562 \nL 380.767939 349.551562 \nz\n\" clip-path=\"url(#p4c9605b024)\" style=\"fill: #ff0000; opacity: 0.5; stroke: #ffffff; stroke-linejoin: miter\"/>\n   </g>\n   <g id=\"patch_37\">\n    <path d=\"M 390.823806 349.551562 \nL 400.879673 349.551562 \nL 400.879673 349.551562 \nL 390.823806 349.551562 \nz\n\" clip-path=\"url(#p4c9605b024)\" style=\"fill: #ff0000; opacity: 0.5; stroke: #ffffff; stroke-linejoin: miter\"/>\n   </g>\n   <g id=\"patch_38\">\n    <path d=\"M 400.879673 349.551562 \nL 410.93554 349.551562 \nL 410.93554 349.551562 \nL 400.879673 349.551562 \nz\n\" clip-path=\"url(#p4c9605b024)\" style=\"fill: #ff0000; opacity: 0.5; stroke: #ffffff; stroke-linejoin: miter\"/>\n   </g>\n   <g id=\"patch_39\">\n    <path d=\"M 410.93554 349.551562 \nL 420.991407 349.551562 \nL 420.991407 349.551562 \nL 410.93554 349.551562 \nz\n\" clip-path=\"url(#p4c9605b024)\" style=\"fill: #ff0000; opacity: 0.5; stroke: #ffffff; stroke-linejoin: miter\"/>\n   </g>\n   <g id=\"patch_40\">\n    <path d=\"M 420.991407 349.551562 \nL 431.047273 349.551562 \nL 431.047273 349.551562 \nL 420.991407 349.551562 \nz\n\" clip-path=\"url(#p4c9605b024)\" style=\"fill: #ff0000; opacity: 0.5; stroke: #ffffff; stroke-linejoin: miter\"/>\n   </g>\n   <g id=\"patch_41\">\n    <path d=\"M 431.047273 349.551562 \nL 441.10314 349.551562 \nL 441.10314 349.551562 \nL 431.047273 349.551562 \nz\n\" clip-path=\"url(#p4c9605b024)\" style=\"fill: #ff0000; opacity: 0.5; stroke: #ffffff; stroke-linejoin: miter\"/>\n   </g>\n   <g id=\"patch_42\">\n    <path d=\"M 441.10314 349.551562 \nL 451.159007 349.551562 \nL 451.159007 349.551562 \nL 441.10314 349.551562 \nz\n\" clip-path=\"url(#p4c9605b024)\" style=\"fill: #ff0000; opacity: 0.5; stroke: #ffffff; stroke-linejoin: miter\"/>\n   </g>\n   <g id=\"patch_43\">\n    <path d=\"M 451.159007 349.551562 \nL 461.214874 349.551562 \nL 461.214874 349.551562 \nL 451.159007 349.551562 \nz\n\" clip-path=\"url(#p4c9605b024)\" style=\"fill: #ff0000; opacity: 0.5; stroke: #ffffff; stroke-linejoin: miter\"/>\n   </g>\n   <g id=\"patch_44\">\n    <path d=\"M 461.214874 349.551562 \nL 471.270741 349.551562 \nL 471.270741 349.551562 \nL 461.214874 349.551562 \nz\n\" clip-path=\"url(#p4c9605b024)\" style=\"fill: #ff0000; opacity: 0.5; stroke: #ffffff; stroke-linejoin: miter\"/>\n   </g>\n   <g id=\"patch_45\">\n    <path d=\"M 471.270741 349.551562 \nL 481.326607 349.551562 \nL 481.326607 349.551562 \nL 471.270741 349.551562 \nz\n\" clip-path=\"url(#p4c9605b024)\" style=\"fill: #ff0000; opacity: 0.5; stroke: #ffffff; stroke-linejoin: miter\"/>\n   </g>\n   <g id=\"patch_46\">\n    <path d=\"M 481.326607 349.551562 \nL 491.382474 349.551562 \nL 491.382474 349.551562 \nL 481.326607 349.551562 \nz\n\" clip-path=\"url(#p4c9605b024)\" style=\"fill: #ff0000; opacity: 0.5; stroke: #ffffff; stroke-linejoin: miter\"/>\n   </g>\n   <g id=\"patch_47\">\n    <path d=\"M 491.382474 349.551562 \nL 501.438341 349.551562 \nL 501.438341 349.551562 \nL 491.382474 349.551562 \nz\n\" clip-path=\"url(#p4c9605b024)\" style=\"fill: #ff0000; opacity: 0.5; stroke: #ffffff; stroke-linejoin: miter\"/>\n   </g>\n   <g id=\"patch_48\">\n    <path d=\"M 501.438341 349.551562 \nL 511.494208 349.551562 \nL 511.494208 349.551562 \nL 501.438341 349.551562 \nz\n\" clip-path=\"url(#p4c9605b024)\" style=\"fill: #ff0000; opacity: 0.5; stroke: #ffffff; stroke-linejoin: miter\"/>\n   </g>\n   <g id=\"patch_49\">\n    <path d=\"M 511.494208 349.551562 \nL 521.550075 349.551562 \nL 521.550075 349.551562 \nL 511.494208 349.551562 \nz\n\" clip-path=\"url(#p4c9605b024)\" style=\"fill: #ff0000; opacity: 0.5; stroke: #ffffff; stroke-linejoin: miter\"/>\n   </g>\n   <g id=\"patch_50\">\n    <path d=\"M 521.550075 349.551562 \nL 531.605941 349.551562 \nL 531.605941 349.551562 \nL 521.550075 349.551562 \nz\n\" clip-path=\"url(#p4c9605b024)\" style=\"fill: #ff0000; opacity: 0.5; stroke: #ffffff; stroke-linejoin: miter\"/>\n   </g>\n   <g id=\"patch_51\">\n    <path d=\"M 531.605941 349.551562 \nL 541.661808 349.551562 \nL 541.661808 349.551562 \nL 531.605941 349.551562 \nz\n\" clip-path=\"url(#p4c9605b024)\" style=\"fill: #ff0000; opacity: 0.5; stroke: #ffffff; stroke-linejoin: miter\"/>\n   </g>\n   <g id=\"patch_52\">\n    <path d=\"M 541.661808 349.551562 \nL 551.717675 349.551562 \nL 551.717675 349.551562 \nL 541.661808 349.551562 \nz\n\" clip-path=\"url(#p4c9605b024)\" style=\"fill: #ff0000; opacity: 0.5; stroke: #ffffff; stroke-linejoin: miter\"/>\n   </g>\n   <g id=\"patch_53\">\n    <path d=\"M 551.717675 349.551562 \nL 561.773542 349.551562 \nL 561.773542 349.551562 \nL 551.717675 349.551562 \nz\n\" clip-path=\"url(#p4c9605b024)\" style=\"fill: #ff0000; opacity: 0.5; stroke: #ffffff; stroke-linejoin: miter\"/>\n   </g>\n   <g id=\"patch_54\">\n    <path d=\"M 561.773542 349.551562 \nL 571.829409 349.551562 \nL 571.829409 349.551562 \nL 561.773542 349.551562 \nz\n\" clip-path=\"url(#p4c9605b024)\" style=\"fill: #ff0000; opacity: 0.5; stroke: #ffffff; stroke-linejoin: miter\"/>\n   </g>\n   <g id=\"patch_55\">\n    <path d=\"M 571.829409 349.551562 \nL 581.885275 349.551562 \nL 581.885275 349.551562 \nL 571.829409 349.551562 \nz\n\" clip-path=\"url(#p4c9605b024)\" style=\"fill: #ff0000; opacity: 0.5; stroke: #ffffff; stroke-linejoin: miter\"/>\n   </g>\n   <g id=\"patch_56\">\n    <path d=\"M 581.885275 349.551562 \nL 591.941142 349.551562 \nL 591.941142 349.551562 \nL 581.885275 349.551562 \nz\n\" clip-path=\"url(#p4c9605b024)\" style=\"fill: #ff0000; opacity: 0.5; stroke: #ffffff; stroke-linejoin: miter\"/>\n   </g>\n   <g id=\"patch_57\">\n    <path d=\"M 591.941142 349.551562 \nL 601.997009 349.551562 \nL 601.997009 349.551562 \nL 591.941142 349.551562 \nz\n\" clip-path=\"url(#p4c9605b024)\" style=\"fill: #ff0000; opacity: 0.5; stroke: #ffffff; stroke-linejoin: miter\"/>\n   </g>\n   <g id=\"patch_58\">\n    <path d=\"M 601.997009 349.551562 \nL 612.052876 349.551562 \nL 612.052876 349.551562 \nL 601.997009 349.551562 \nz\n\" clip-path=\"url(#p4c9605b024)\" style=\"fill: #ff0000; opacity: 0.5; stroke: #ffffff; stroke-linejoin: miter\"/>\n   </g>\n   <g id=\"patch_59\">\n    <path d=\"M 612.052876 349.551562 \nL 622.108743 349.551562 \nL 622.108743 349.551562 \nL 612.052876 349.551562 \nz\n\" clip-path=\"url(#p4c9605b024)\" style=\"fill: #ff0000; opacity: 0.5; stroke: #ffffff; stroke-linejoin: miter\"/>\n   </g>\n   <g id=\"patch_60\">\n    <path d=\"M 622.108743 349.551562 \nL 632.164609 349.551562 \nL 632.164609 349.551562 \nL 622.108743 349.551562 \nz\n\" clip-path=\"url(#p4c9605b024)\" style=\"fill: #ff0000; opacity: 0.5; stroke: #ffffff; stroke-linejoin: miter\"/>\n   </g>\n   <g id=\"patch_61\">\n    <path d=\"M 632.164609 349.551562 \nL 642.220476 349.551562 \nL 642.220476 349.551562 \nL 632.164609 349.551562 \nz\n\" clip-path=\"url(#p4c9605b024)\" style=\"fill: #ff0000; opacity: 0.5; stroke: #ffffff; stroke-linejoin: miter\"/>\n   </g>\n   <g id=\"patch_62\">\n    <path d=\"M 642.220476 349.551562 \nL 652.276343 349.551562 \nL 652.276343 349.551562 \nL 642.220476 349.551562 \nz\n\" clip-path=\"url(#p4c9605b024)\" style=\"fill: #ff0000; opacity: 0.5; stroke: #ffffff; stroke-linejoin: miter\"/>\n   </g>\n   <g id=\"patch_63\">\n    <path d=\"M 652.276343 349.551562 \nL 662.33221 349.551562 \nL 662.33221 349.551562 \nL 652.276343 349.551562 \nz\n\" clip-path=\"url(#p4c9605b024)\" style=\"fill: #ff0000; opacity: 0.5; stroke: #ffffff; stroke-linejoin: miter\"/>\n   </g>\n   <g id=\"patch_64\">\n    <path d=\"M 662.33221 349.551562 \nL 672.388077 349.551562 \nL 672.388077 349.551562 \nL 662.33221 349.551562 \nz\n\" clip-path=\"url(#p4c9605b024)\" style=\"fill: #ff0000; opacity: 0.5; stroke: #ffffff; stroke-linejoin: miter\"/>\n   </g>\n   <g id=\"patch_65\">\n    <path d=\"M 672.388077 349.551562 \nL 682.443943 349.551562 \nL 682.443943 349.551562 \nL 672.388077 349.551562 \nz\n\" clip-path=\"url(#p4c9605b024)\" style=\"fill: #ff0000; opacity: 0.5; stroke: #ffffff; stroke-linejoin: miter\"/>\n   </g>\n   <g id=\"patch_66\">\n    <path d=\"M 682.443943 349.551562 \nL 692.49981 349.551562 \nL 692.49981 349.551562 \nL 682.443943 349.551562 \nz\n\" clip-path=\"url(#p4c9605b024)\" style=\"fill: #ff0000; opacity: 0.5; stroke: #ffffff; stroke-linejoin: miter\"/>\n   </g>\n   <g id=\"patch_67\">\n    <path d=\"M 692.49981 349.551562 \nL 702.555677 349.551562 \nL 702.555677 349.551562 \nL 692.49981 349.551562 \nz\n\" clip-path=\"url(#p4c9605b024)\" style=\"fill: #ff0000; opacity: 0.5; stroke: #ffffff; stroke-linejoin: miter\"/>\n   </g>\n   <g id=\"patch_68\">\n    <path d=\"M 702.555677 349.551562 \nL 712.611544 349.551562 \nL 712.611544 349.551562 \nL 702.555677 349.551562 \nz\n\" clip-path=\"url(#p4c9605b024)\" style=\"fill: #ff0000; opacity: 0.5; stroke: #ffffff; stroke-linejoin: miter\"/>\n   </g>\n   <g id=\"patch_69\">\n    <path d=\"M 712.611544 349.551562 \nL 722.667411 349.551562 \nL 722.667411 349.551562 \nL 712.611544 349.551562 \nz\n\" clip-path=\"url(#p4c9605b024)\" style=\"fill: #ff0000; opacity: 0.5; stroke: #ffffff; stroke-linejoin: miter\"/>\n   </g>\n   <g id=\"patch_70\">\n    <path d=\"M 722.667411 349.551562 \nL 732.723277 349.551562 \nL 732.723277 349.551562 \nL 722.667411 349.551562 \nz\n\" clip-path=\"url(#p4c9605b024)\" style=\"fill: #ff0000; opacity: 0.5; stroke: #ffffff; stroke-linejoin: miter\"/>\n   </g>\n   <g id=\"patch_71\">\n    <path d=\"M 732.723277 349.551562 \nL 742.779144 349.551562 \nL 742.779144 349.551562 \nL 732.723277 349.551562 \nz\n\" clip-path=\"url(#p4c9605b024)\" style=\"fill: #ff0000; opacity: 0.5; stroke: #ffffff; stroke-linejoin: miter\"/>\n   </g>\n   <g id=\"patch_72\">\n    <path d=\"M 742.779144 349.551562 \nL 752.835011 349.551562 \nL 752.835011 349.551562 \nL 742.779144 349.551562 \nz\n\" clip-path=\"url(#p4c9605b024)\" style=\"fill: #ff0000; opacity: 0.5; stroke: #ffffff; stroke-linejoin: miter\"/>\n   </g>\n   <g id=\"patch_73\">\n    <path d=\"M 752.835011 349.551562 \nL 762.890878 349.551562 \nL 762.890878 349.551562 \nL 752.835011 349.551562 \nz\n\" clip-path=\"url(#p4c9605b024)\" style=\"fill: #ff0000; opacity: 0.5; stroke: #ffffff; stroke-linejoin: miter\"/>\n   </g>\n   <g id=\"patch_74\">\n    <path d=\"M 762.890878 349.551562 \nL 772.946745 349.551562 \nL 772.946745 349.551562 \nL 762.890878 349.551562 \nz\n\" clip-path=\"url(#p4c9605b024)\" style=\"fill: #ff0000; opacity: 0.5; stroke: #ffffff; stroke-linejoin: miter\"/>\n   </g>\n   <g id=\"patch_75\">\n    <path d=\"M 772.946745 349.551562 \nL 783.002611 349.551562 \nL 783.002611 349.551562 \nL 772.946745 349.551562 \nz\n\" clip-path=\"url(#p4c9605b024)\" style=\"fill: #ff0000; opacity: 0.5; stroke: #ffffff; stroke-linejoin: miter\"/>\n   </g>\n   <g id=\"patch_76\">\n    <path d=\"M 783.002611 349.551562 \nL 793.058478 349.551562 \nL 793.058478 349.551562 \nL 783.002611 349.551562 \nz\n\" clip-path=\"url(#p4c9605b024)\" style=\"fill: #ff0000; opacity: 0.5; stroke: #ffffff; stroke-linejoin: miter\"/>\n   </g>\n   <g id=\"patch_77\">\n    <path d=\"M 793.058478 349.551562 \nL 803.114345 349.551562 \nL 803.114345 349.551562 \nL 793.058478 349.551562 \nz\n\" clip-path=\"url(#p4c9605b024)\" style=\"fill: #ff0000; opacity: 0.5; stroke: #ffffff; stroke-linejoin: miter\"/>\n   </g>\n   <g id=\"patch_78\">\n    <path d=\"M 803.114345 349.551562 \nL 813.170212 349.551562 \nL 813.170212 349.551562 \nL 803.114345 349.551562 \nz\n\" clip-path=\"url(#p4c9605b024)\" style=\"fill: #ff0000; opacity: 0.5; stroke: #ffffff; stroke-linejoin: miter\"/>\n   </g>\n   <g id=\"patch_79\">\n    <path d=\"M 813.170212 349.551562 \nL 823.226079 349.551562 \nL 823.226079 349.551562 \nL 813.170212 349.551562 \nz\n\" clip-path=\"url(#p4c9605b024)\" style=\"fill: #ff0000; opacity: 0.5; stroke: #ffffff; stroke-linejoin: miter\"/>\n   </g>\n   <g id=\"patch_80\">\n    <path d=\"M 823.226079 349.551562 \nL 833.281945 349.551562 \nL 833.281945 349.551562 \nL 823.226079 349.551562 \nz\n\" clip-path=\"url(#p4c9605b024)\" style=\"fill: #ff0000; opacity: 0.5; stroke: #ffffff; stroke-linejoin: miter\"/>\n   </g>\n   <g id=\"patch_81\">\n    <path d=\"M 833.281945 349.551562 \nL 843.337812 349.551562 \nL 843.337812 349.551562 \nL 833.281945 349.551562 \nz\n\" clip-path=\"url(#p4c9605b024)\" style=\"fill: #ff0000; opacity: 0.5; stroke: #ffffff; stroke-linejoin: miter\"/>\n   </g>\n   <g id=\"patch_82\">\n    <path d=\"M 843.337812 349.551562 \nL 853.393679 349.551562 \nL 853.393679 349.551562 \nL 843.337812 349.551562 \nz\n\" clip-path=\"url(#p4c9605b024)\" style=\"fill: #ff0000; opacity: 0.5; stroke: #ffffff; stroke-linejoin: miter\"/>\n   </g>\n   <g id=\"patch_83\">\n    <path d=\"M 853.393679 349.551562 \nL 863.449546 349.551562 \nL 863.449546 349.551562 \nL 853.393679 349.551562 \nz\n\" clip-path=\"url(#p4c9605b024)\" style=\"fill: #ff0000; opacity: 0.5; stroke: #ffffff; stroke-linejoin: miter\"/>\n   </g>\n   <g id=\"patch_84\">\n    <path d=\"M 863.449546 349.551562 \nL 873.505413 349.551562 \nL 873.505413 349.551562 \nL 863.449546 349.551562 \nz\n\" clip-path=\"url(#p4c9605b024)\" style=\"fill: #ff0000; opacity: 0.5; stroke: #ffffff; stroke-linejoin: miter\"/>\n   </g>\n   <g id=\"patch_85\">\n    <path d=\"M 873.505413 349.551562 \nL 883.561279 349.551562 \nL 883.561279 349.551562 \nL 873.505413 349.551562 \nz\n\" clip-path=\"url(#p4c9605b024)\" style=\"fill: #ff0000; opacity: 0.5; stroke: #ffffff; stroke-linejoin: miter\"/>\n   </g>\n   <g id=\"patch_86\">\n    <path d=\"M 883.561279 349.551562 \nL 893.617146 349.551562 \nL 893.617146 349.551562 \nL 883.561279 349.551562 \nz\n\" clip-path=\"url(#p4c9605b024)\" style=\"fill: #ff0000; opacity: 0.5; stroke: #ffffff; stroke-linejoin: miter\"/>\n   </g>\n   <g id=\"patch_87\">\n    <path d=\"M 893.617146 349.551562 \nL 903.673013 349.551562 \nL 903.673013 349.551562 \nL 893.617146 349.551562 \nz\n\" clip-path=\"url(#p4c9605b024)\" style=\"fill: #ff0000; opacity: 0.5; stroke: #ffffff; stroke-linejoin: miter\"/>\n   </g>\n   <g id=\"patch_88\">\n    <path d=\"M 903.673013 349.551562 \nL 913.72888 349.551562 \nL 913.72888 349.551562 \nL 903.673013 349.551562 \nz\n\" clip-path=\"url(#p4c9605b024)\" style=\"fill: #ff0000; opacity: 0.5; stroke: #ffffff; stroke-linejoin: miter\"/>\n   </g>\n   <g id=\"patch_89\">\n    <path d=\"M 913.72888 349.551562 \nL 923.784747 349.551562 \nL 923.784747 349.551562 \nL 913.72888 349.551562 \nz\n\" clip-path=\"url(#p4c9605b024)\" style=\"fill: #ff0000; opacity: 0.5; stroke: #ffffff; stroke-linejoin: miter\"/>\n   </g>\n   <g id=\"patch_90\">\n    <path d=\"M 923.784747 349.551562 \nL 933.840613 349.551562 \nL 933.840613 349.551562 \nL 923.784747 349.551562 \nz\n\" clip-path=\"url(#p4c9605b024)\" style=\"fill: #ff0000; opacity: 0.5; stroke: #ffffff; stroke-linejoin: miter\"/>\n   </g>\n   <g id=\"patch_91\">\n    <path d=\"M 933.840613 349.551562 \nL 943.89648 349.551562 \nL 943.89648 349.551562 \nL 933.840613 349.551562 \nz\n\" clip-path=\"url(#p4c9605b024)\" style=\"fill: #ff0000; opacity: 0.5; stroke: #ffffff; stroke-linejoin: miter\"/>\n   </g>\n   <g id=\"patch_92\">\n    <path d=\"M 943.89648 349.551562 \nL 953.952347 349.551562 \nL 953.952347 349.551562 \nL 943.89648 349.551562 \nz\n\" clip-path=\"url(#p4c9605b024)\" style=\"fill: #ff0000; opacity: 0.5; stroke: #ffffff; stroke-linejoin: miter\"/>\n   </g>\n   <g id=\"patch_93\">\n    <path d=\"M 953.952347 349.551562 \nL 964.008214 349.551562 \nL 964.008214 349.551562 \nL 953.952347 349.551562 \nz\n\" clip-path=\"url(#p4c9605b024)\" style=\"fill: #ff0000; opacity: 0.5; stroke: #ffffff; stroke-linejoin: miter\"/>\n   </g>\n   <g id=\"patch_94\">\n    <path d=\"M 964.008214 349.551562 \nL 974.064081 349.551562 \nL 974.064081 349.551562 \nL 964.008214 349.551562 \nz\n\" clip-path=\"url(#p4c9605b024)\" style=\"fill: #ff0000; opacity: 0.5; stroke: #ffffff; stroke-linejoin: miter\"/>\n   </g>\n   <g id=\"patch_95\">\n    <path d=\"M 974.064081 349.551562 \nL 984.119947 349.551562 \nL 984.119947 349.551562 \nL 974.064081 349.551562 \nz\n\" clip-path=\"url(#p4c9605b024)\" style=\"fill: #ff0000; opacity: 0.5; stroke: #ffffff; stroke-linejoin: miter\"/>\n   </g>\n   <g id=\"patch_96\">\n    <path d=\"M 984.119947 349.551562 \nL 994.175814 349.551562 \nL 994.175814 349.551562 \nL 984.119947 349.551562 \nz\n\" clip-path=\"url(#p4c9605b024)\" style=\"fill: #ff0000; opacity: 0.5; stroke: #ffffff; stroke-linejoin: miter\"/>\n   </g>\n   <g id=\"patch_97\">\n    <path d=\"M 994.175814 349.551562 \nL 1004.231681 349.551562 \nL 1004.231681 349.551562 \nL 994.175814 349.551562 \nz\n\" clip-path=\"url(#p4c9605b024)\" style=\"fill: #ff0000; opacity: 0.5; stroke: #ffffff; stroke-linejoin: miter\"/>\n   </g>\n   <g id=\"patch_98\">\n    <path d=\"M 1004.231681 349.551562 \nL 1014.287548 349.551562 \nL 1014.287548 349.551562 \nL 1004.231681 349.551562 \nz\n\" clip-path=\"url(#p4c9605b024)\" style=\"fill: #ff0000; opacity: 0.5; stroke: #ffffff; stroke-linejoin: miter\"/>\n   </g>\n   <g id=\"patch_99\">\n    <path d=\"M 1014.287548 349.551562 \nL 1024.343415 349.551562 \nL 1024.343415 349.551562 \nL 1014.287548 349.551562 \nz\n\" clip-path=\"url(#p4c9605b024)\" style=\"fill: #ff0000; opacity: 0.5; stroke: #ffffff; stroke-linejoin: miter\"/>\n   </g>\n   <g id=\"patch_100\">\n    <path d=\"M 1024.343415 349.551562 \nL 1034.399281 349.551562 \nL 1034.399281 349.551562 \nL 1024.343415 349.551562 \nz\n\" clip-path=\"url(#p4c9605b024)\" style=\"fill: #ff0000; opacity: 0.5; stroke: #ffffff; stroke-linejoin: miter\"/>\n   </g>\n   <g id=\"patch_101\">\n    <path d=\"M 1034.399281 349.551562 \nL 1044.455148 349.551562 \nL 1044.455148 349.551562 \nL 1034.399281 349.551562 \nz\n\" clip-path=\"url(#p4c9605b024)\" style=\"fill: #ff0000; opacity: 0.5; stroke: #ffffff; stroke-linejoin: miter\"/>\n   </g>\n   <g id=\"patch_102\">\n    <path d=\"M 1044.455148 349.551562 \nL 1054.511015 349.551562 \nL 1054.511015 349.551562 \nL 1044.455148 349.551562 \nz\n\" clip-path=\"url(#p4c9605b024)\" style=\"fill: #ff0000; opacity: 0.5; stroke: #ffffff; stroke-linejoin: miter\"/>\n   </g>\n   <g id=\"patch_103\">\n    <path d=\"M 1054.511015 349.551562 \nL 1064.566882 349.551562 \nL 1064.566882 349.551562 \nL 1054.511015 349.551562 \nz\n\" clip-path=\"url(#p4c9605b024)\" style=\"fill: #ff0000; opacity: 0.5; stroke: #ffffff; stroke-linejoin: miter\"/>\n   </g>\n   <g id=\"patch_104\">\n    <path d=\"M 1064.566882 349.551562 \nL 1074.622749 349.551562 \nL 1074.622749 349.551562 \nL 1064.566882 349.551562 \nz\n\" clip-path=\"url(#p4c9605b024)\" style=\"fill: #ff0000; opacity: 0.5; stroke: #ffffff; stroke-linejoin: miter\"/>\n   </g>\n   <g id=\"patch_105\">\n    <path d=\"M 1074.622749 349.551562 \nL 1084.678615 349.551562 \nL 1084.678615 349.551562 \nL 1074.622749 349.551562 \nz\n\" clip-path=\"url(#p4c9605b024)\" style=\"fill: #ff0000; opacity: 0.5; stroke: #ffffff; stroke-linejoin: miter\"/>\n   </g>\n   <g id=\"patch_106\">\n    <path d=\"M 1084.678615 349.551562 \nL 1094.734482 349.551562 \nL 1094.734482 349.551562 \nL 1084.678615 349.551562 \nz\n\" clip-path=\"url(#p4c9605b024)\" style=\"fill: #ff0000; opacity: 0.5; stroke: #ffffff; stroke-linejoin: miter\"/>\n   </g>\n   <g id=\"patch_107\">\n    <path d=\"M 1094.734482 349.551562 \nL 1104.790349 349.551562 \nL 1104.790349 349.551562 \nL 1094.734482 349.551562 \nz\n\" clip-path=\"url(#p4c9605b024)\" style=\"fill: #ff0000; opacity: 0.5; stroke: #ffffff; stroke-linejoin: miter\"/>\n   </g>\n   <g id=\"patch_108\">\n    <path d=\"M 1104.790349 349.551562 \nL 1114.846216 349.551562 \nL 1114.846216 349.551562 \nL 1104.790349 349.551562 \nz\n\" clip-path=\"url(#p4c9605b024)\" style=\"fill: #ff0000; opacity: 0.5; stroke: #ffffff; stroke-linejoin: miter\"/>\n   </g>\n   <g id=\"patch_109\">\n    <path d=\"M 1114.846216 349.551562 \nL 1124.902083 349.551562 \nL 1124.902083 349.551562 \nL 1114.846216 349.551562 \nz\n\" clip-path=\"url(#p4c9605b024)\" style=\"fill: #ff0000; opacity: 0.5; stroke: #ffffff; stroke-linejoin: miter\"/>\n   </g>\n   <g id=\"patch_110\">\n    <path d=\"M 1124.902083 349.551562 \nL 1134.957949 349.551562 \nL 1134.957949 349.551562 \nL 1124.902083 349.551562 \nz\n\" clip-path=\"url(#p4c9605b024)\" style=\"fill: #ff0000; opacity: 0.5; stroke: #ffffff; stroke-linejoin: miter\"/>\n   </g>\n   <g id=\"patch_111\">\n    <path d=\"M 1134.957949 349.551562 \nL 1145.013816 349.551562 \nL 1145.013816 349.551562 \nL 1134.957949 349.551562 \nz\n\" clip-path=\"url(#p4c9605b024)\" style=\"fill: #ff0000; opacity: 0.5; stroke: #ffffff; stroke-linejoin: miter\"/>\n   </g>\n   <g id=\"patch_112\">\n    <path d=\"M 1145.013816 349.551562 \nL 1155.069683 349.551562 \nL 1155.069683 349.551562 \nL 1145.013816 349.551562 \nz\n\" clip-path=\"url(#p4c9605b024)\" style=\"fill: #ff0000; opacity: 0.5; stroke: #ffffff; stroke-linejoin: miter\"/>\n   </g>\n   <g id=\"patch_113\">\n    <path d=\"M 1155.069683 349.551562 \nL 1165.12555 349.551562 \nL 1165.12555 349.551562 \nL 1155.069683 349.551562 \nz\n\" clip-path=\"url(#p4c9605b024)\" style=\"fill: #ff0000; opacity: 0.5; stroke: #ffffff; stroke-linejoin: miter\"/>\n   </g>\n   <g id=\"patch_114\">\n    <path d=\"M 1165.12555 349.551562 \nL 1175.181417 349.551562 \nL 1175.181417 349.551562 \nL 1165.12555 349.551562 \nz\n\" clip-path=\"url(#p4c9605b024)\" style=\"fill: #ff0000; opacity: 0.5; stroke: #ffffff; stroke-linejoin: miter\"/>\n   </g>\n   <g id=\"patch_115\">\n    <path d=\"M 1175.181417 349.551562 \nL 1185.237283 349.551562 \nL 1185.237283 349.551562 \nL 1175.181417 349.551562 \nz\n\" clip-path=\"url(#p4c9605b024)\" style=\"fill: #ff0000; opacity: 0.5; stroke: #ffffff; stroke-linejoin: miter\"/>\n   </g>\n   <g id=\"patch_116\">\n    <path d=\"M 1185.237283 349.551562 \nL 1195.29315 349.551562 \nL 1195.29315 349.551562 \nL 1185.237283 349.551562 \nz\n\" clip-path=\"url(#p4c9605b024)\" style=\"fill: #ff0000; opacity: 0.5; stroke: #ffffff; stroke-linejoin: miter\"/>\n   </g>\n   <g id=\"patch_117\">\n    <path d=\"M 1195.29315 349.551562 \nL 1205.349017 349.551562 \nL 1205.349017 349.551562 \nL 1195.29315 349.551562 \nz\n\" clip-path=\"url(#p4c9605b024)\" style=\"fill: #ff0000; opacity: 0.5; stroke: #ffffff; stroke-linejoin: miter\"/>\n   </g>\n   <g id=\"patch_118\">\n    <path d=\"M 1205.349017 349.551562 \nL 1215.404884 349.551562 \nL 1215.404884 349.551562 \nL 1205.349017 349.551562 \nz\n\" clip-path=\"url(#p4c9605b024)\" style=\"fill: #ff0000; opacity: 0.5; stroke: #ffffff; stroke-linejoin: miter\"/>\n   </g>\n   <g id=\"patch_119\">\n    <path d=\"M 1215.404884 349.551562 \nL 1225.460751 349.551562 \nL 1225.460751 349.551562 \nL 1215.404884 349.551562 \nz\n\" clip-path=\"url(#p4c9605b024)\" style=\"fill: #ff0000; opacity: 0.5; stroke: #ffffff; stroke-linejoin: miter\"/>\n   </g>\n   <g id=\"patch_120\">\n    <path d=\"M 1225.460751 349.551562 \nL 1235.516617 349.551562 \nL 1235.516617 349.551562 \nL 1225.460751 349.551562 \nz\n\" clip-path=\"url(#p4c9605b024)\" style=\"fill: #ff0000; opacity: 0.5; stroke: #ffffff; stroke-linejoin: miter\"/>\n   </g>\n   <g id=\"patch_121\">\n    <path d=\"M 1235.516617 349.551562 \nL 1245.572484 349.551562 \nL 1245.572484 349.551562 \nL 1235.516617 349.551562 \nz\n\" clip-path=\"url(#p4c9605b024)\" style=\"fill: #ff0000; opacity: 0.5; stroke: #ffffff; stroke-linejoin: miter\"/>\n   </g>\n   <g id=\"patch_122\">\n    <path d=\"M 1245.572484 349.551562 \nL 1255.628351 349.551562 \nL 1255.628351 349.551562 \nL 1245.572484 349.551562 \nz\n\" clip-path=\"url(#p4c9605b024)\" style=\"fill: #ff0000; opacity: 0.5; stroke: #ffffff; stroke-linejoin: miter\"/>\n   </g>\n   <g id=\"patch_123\">\n    <path d=\"M 1255.628351 349.551562 \nL 1265.684218 349.551562 \nL 1265.684218 349.551562 \nL 1255.628351 349.551562 \nz\n\" clip-path=\"url(#p4c9605b024)\" style=\"fill: #ff0000; opacity: 0.5; stroke: #ffffff; stroke-linejoin: miter\"/>\n   </g>\n   <g id=\"patch_124\">\n    <path d=\"M 1265.684218 349.551562 \nL 1275.740085 349.551562 \nL 1275.740085 349.551562 \nL 1265.684218 349.551562 \nz\n\" clip-path=\"url(#p4c9605b024)\" style=\"fill: #ff0000; opacity: 0.5; stroke: #ffffff; stroke-linejoin: miter\"/>\n   </g>\n   <g id=\"patch_125\">\n    <path d=\"M 1275.740085 349.551562 \nL 1285.795951 349.551562 \nL 1285.795951 349.551562 \nL 1275.740085 349.551562 \nz\n\" clip-path=\"url(#p4c9605b024)\" style=\"fill: #ff0000; opacity: 0.5; stroke: #ffffff; stroke-linejoin: miter\"/>\n   </g>\n   <g id=\"patch_126\">\n    <path d=\"M 1285.795951 349.551562 \nL 1295.851818 349.551562 \nL 1295.851818 349.551562 \nL 1285.795951 349.551562 \nz\n\" clip-path=\"url(#p4c9605b024)\" style=\"fill: #ff0000; opacity: 0.5; stroke: #ffffff; stroke-linejoin: miter\"/>\n   </g>\n   <g id=\"patch_127\">\n    <path d=\"M 1295.851818 349.551562 \nL 1305.907685 349.551562 \nL 1305.907685 349.551562 \nL 1295.851818 349.551562 \nz\n\" clip-path=\"url(#p4c9605b024)\" style=\"fill: #ff0000; opacity: 0.5; stroke: #ffffff; stroke-linejoin: miter\"/>\n   </g>\n   <g id=\"patch_128\">\n    <path d=\"M 1305.907685 349.551562 \nL 1315.963552 349.551562 \nL 1315.963552 349.551562 \nL 1305.907685 349.551562 \nz\n\" clip-path=\"url(#p4c9605b024)\" style=\"fill: #ff0000; opacity: 0.5; stroke: #ffffff; stroke-linejoin: miter\"/>\n   </g>\n   <g id=\"patch_129\">\n    <path d=\"M 1315.963552 349.551562 \nL 1326.019419 349.551562 \nL 1326.019419 349.551562 \nL 1315.963552 349.551562 \nz\n\" clip-path=\"url(#p4c9605b024)\" style=\"fill: #ff0000; opacity: 0.5; stroke: #ffffff; stroke-linejoin: miter\"/>\n   </g>\n   <g id=\"patch_130\">\n    <path d=\"M 1326.019419 349.551562 \nL 1336.075285 349.551562 \nL 1336.075285 349.551562 \nL 1326.019419 349.551562 \nz\n\" clip-path=\"url(#p4c9605b024)\" style=\"fill: #ff0000; opacity: 0.5; stroke: #ffffff; stroke-linejoin: miter\"/>\n   </g>\n   <g id=\"patch_131\">\n    <path d=\"M 1336.075285 349.551562 \nL 1346.131152 349.551562 \nL 1346.131152 349.551562 \nL 1336.075285 349.551562 \nz\n\" clip-path=\"url(#p4c9605b024)\" style=\"fill: #ff0000; opacity: 0.5; stroke: #ffffff; stroke-linejoin: miter\"/>\n   </g>\n   <g id=\"patch_132\">\n    <path d=\"M 1346.131152 349.551562 \nL 1356.187019 349.551562 \nL 1356.187019 349.551562 \nL 1346.131152 349.551562 \nz\n\" clip-path=\"url(#p4c9605b024)\" style=\"fill: #ff0000; opacity: 0.5; stroke: #ffffff; stroke-linejoin: miter\"/>\n   </g>\n   <g id=\"patch_133\">\n    <path d=\"M 1356.187019 349.551562 \nL 1366.242886 349.551562 \nL 1366.242886 349.551562 \nL 1356.187019 349.551562 \nz\n\" clip-path=\"url(#p4c9605b024)\" style=\"fill: #ff0000; opacity: 0.5; stroke: #ffffff; stroke-linejoin: miter\"/>\n   </g>\n   <g id=\"patch_134\">\n    <path d=\"M 1366.242886 349.551562 \nL 1376.298753 349.551562 \nL 1376.298753 349.551562 \nL 1366.242886 349.551562 \nz\n\" clip-path=\"url(#p4c9605b024)\" style=\"fill: #ff0000; opacity: 0.5; stroke: #ffffff; stroke-linejoin: miter\"/>\n   </g>\n   <g id=\"patch_135\">\n    <path d=\"M 1376.298753 349.551562 \nL 1386.354619 349.551562 \nL 1386.354619 349.551562 \nL 1376.298753 349.551562 \nz\n\" clip-path=\"url(#p4c9605b024)\" style=\"fill: #ff0000; opacity: 0.5; stroke: #ffffff; stroke-linejoin: miter\"/>\n   </g>\n   <g id=\"patch_136\">\n    <path d=\"M 1386.354619 349.551562 \nL 1396.410486 349.551562 \nL 1396.410486 349.551562 \nL 1386.354619 349.551562 \nz\n\" clip-path=\"url(#p4c9605b024)\" style=\"fill: #ff0000; opacity: 0.5; stroke: #ffffff; stroke-linejoin: miter\"/>\n   </g>\n   <g id=\"patch_137\">\n    <path d=\"M 1396.410486 349.551562 \nL 1406.466353 349.551562 \nL 1406.466353 349.551562 \nL 1396.410486 349.551562 \nz\n\" clip-path=\"url(#p4c9605b024)\" style=\"fill: #ff0000; opacity: 0.5; stroke: #ffffff; stroke-linejoin: miter\"/>\n   </g>\n   <g id=\"patch_138\">\n    <path d=\"M 1406.466353 349.551562 \nL 1416.52222 349.551562 \nL 1416.52222 349.551562 \nL 1406.466353 349.551562 \nz\n\" clip-path=\"url(#p4c9605b024)\" style=\"fill: #ff0000; opacity: 0.5; stroke: #ffffff; stroke-linejoin: miter\"/>\n   </g>\n   <g id=\"patch_139\">\n    <path d=\"M 1416.52222 349.551562 \nL 1426.578087 349.551562 \nL 1426.578087 349.551562 \nL 1416.52222 349.551562 \nz\n\" clip-path=\"url(#p4c9605b024)\" style=\"fill: #ff0000; opacity: 0.5; stroke: #ffffff; stroke-linejoin: miter\"/>\n   </g>\n   <g id=\"patch_140\">\n    <path d=\"M 1426.578087 349.551562 \nL 1436.633953 349.551562 \nL 1436.633953 349.551562 \nL 1426.578087 349.551562 \nz\n\" clip-path=\"url(#p4c9605b024)\" style=\"fill: #ff0000; opacity: 0.5; stroke: #ffffff; stroke-linejoin: miter\"/>\n   </g>\n   <g id=\"patch_141\">\n    <path d=\"M 1436.633953 349.551562 \nL 1446.68982 349.551562 \nL 1446.68982 349.551562 \nL 1436.633953 349.551562 \nz\n\" clip-path=\"url(#p4c9605b024)\" style=\"fill: #ff0000; opacity: 0.5; stroke: #ffffff; stroke-linejoin: miter\"/>\n   </g>\n   <g id=\"patch_142\">\n    <path d=\"M 1446.68982 349.551562 \nL 1456.745687 349.551562 \nL 1456.745687 349.551562 \nL 1446.68982 349.551562 \nz\n\" clip-path=\"url(#p4c9605b024)\" style=\"fill: #ff0000; opacity: 0.5; stroke: #ffffff; stroke-linejoin: miter\"/>\n   </g>\n   <g id=\"patch_143\">\n    <path d=\"M 1456.745687 349.551562 \nL 1466.801554 349.551562 \nL 1466.801554 349.551562 \nL 1456.745687 349.551562 \nz\n\" clip-path=\"url(#p4c9605b024)\" style=\"fill: #ff0000; opacity: 0.5; stroke: #ffffff; stroke-linejoin: miter\"/>\n   </g>\n   <g id=\"patch_144\">\n    <path d=\"M 1466.801554 349.551562 \nL 1476.857421 349.551562 \nL 1476.857421 349.551562 \nL 1466.801554 349.551562 \nz\n\" clip-path=\"url(#p4c9605b024)\" style=\"fill: #ff0000; opacity: 0.5; stroke: #ffffff; stroke-linejoin: miter\"/>\n   </g>\n   <g id=\"patch_145\">\n    <path d=\"M 1476.857421 349.551562 \nL 1486.913287 349.551562 \nL 1486.913287 349.551562 \nL 1476.857421 349.551562 \nz\n\" clip-path=\"url(#p4c9605b024)\" style=\"fill: #ff0000; opacity: 0.5; stroke: #ffffff; stroke-linejoin: miter\"/>\n   </g>\n   <g id=\"patch_146\">\n    <path d=\"M 1486.913287 349.551562 \nL 1496.969154 349.551562 \nL 1496.969154 349.551562 \nL 1486.913287 349.551562 \nz\n\" clip-path=\"url(#p4c9605b024)\" style=\"fill: #ff0000; opacity: 0.5; stroke: #ffffff; stroke-linejoin: miter\"/>\n   </g>\n   <g id=\"patch_147\">\n    <path d=\"M 1496.969154 349.551562 \nL 1507.025021 349.551562 \nL 1507.025021 349.551562 \nL 1496.969154 349.551562 \nz\n\" clip-path=\"url(#p4c9605b024)\" style=\"fill: #ff0000; opacity: 0.5; stroke: #ffffff; stroke-linejoin: miter\"/>\n   </g>\n   <g id=\"patch_148\">\n    <path d=\"M 1507.025021 349.551562 \nL 1517.080888 349.551562 \nL 1517.080888 349.551562 \nL 1507.025021 349.551562 \nz\n\" clip-path=\"url(#p4c9605b024)\" style=\"fill: #ff0000; opacity: 0.5; stroke: #ffffff; stroke-linejoin: miter\"/>\n   </g>\n   <g id=\"patch_149\">\n    <path d=\"M 1517.080888 349.551562 \nL 1527.136755 349.551562 \nL 1527.136755 349.551562 \nL 1517.080888 349.551562 \nz\n\" clip-path=\"url(#p4c9605b024)\" style=\"fill: #ff0000; opacity: 0.5; stroke: #ffffff; stroke-linejoin: miter\"/>\n   </g>\n   <g id=\"patch_150\">\n    <path d=\"M 1527.136755 349.551562 \nL 1537.192621 349.551562 \nL 1537.192621 349.551562 \nL 1527.136755 349.551562 \nz\n\" clip-path=\"url(#p4c9605b024)\" style=\"fill: #ff0000; opacity: 0.5; stroke: #ffffff; stroke-linejoin: miter\"/>\n   </g>\n   <g id=\"patch_151\">\n    <path d=\"M 1537.192621 349.551562 \nL 1547.248488 349.551562 \nL 1547.248488 349.551562 \nL 1537.192621 349.551562 \nz\n\" clip-path=\"url(#p4c9605b024)\" style=\"fill: #ff0000; opacity: 0.5; stroke: #ffffff; stroke-linejoin: miter\"/>\n   </g>\n   <g id=\"patch_152\">\n    <path d=\"M 1547.248488 349.551562 \nL 1557.304355 349.551562 \nL 1557.304355 349.551562 \nL 1547.248488 349.551562 \nz\n\" clip-path=\"url(#p4c9605b024)\" style=\"fill: #ff0000; opacity: 0.5; stroke: #ffffff; stroke-linejoin: miter\"/>\n   </g>\n   <g id=\"patch_153\">\n    <path d=\"M 1557.304355 349.551562 \nL 1567.360222 349.551562 \nL 1567.360222 349.551562 \nL 1557.304355 349.551562 \nz\n\" clip-path=\"url(#p4c9605b024)\" style=\"fill: #ff0000; opacity: 0.5; stroke: #ffffff; stroke-linejoin: miter\"/>\n   </g>\n   <g id=\"patch_154\">\n    <path d=\"M 1567.360222 349.551562 \nL 1577.416089 349.551562 \nL 1577.416089 349.551562 \nL 1567.360222 349.551562 \nz\n\" clip-path=\"url(#p4c9605b024)\" style=\"fill: #ff0000; opacity: 0.5; stroke: #ffffff; stroke-linejoin: miter\"/>\n   </g>\n   <g id=\"patch_155\">\n    <path d=\"M 1577.416089 349.551562 \nL 1587.471955 349.551562 \nL 1587.471955 349.551562 \nL 1577.416089 349.551562 \nz\n\" clip-path=\"url(#p4c9605b024)\" style=\"fill: #ff0000; opacity: 0.5; stroke: #ffffff; stroke-linejoin: miter\"/>\n   </g>\n   <g id=\"patch_156\">\n    <path d=\"M 1587.471955 349.551562 \nL 1597.527822 349.551562 \nL 1597.527822 349.551562 \nL 1587.471955 349.551562 \nz\n\" clip-path=\"url(#p4c9605b024)\" style=\"fill: #ff0000; opacity: 0.5; stroke: #ffffff; stroke-linejoin: miter\"/>\n   </g>\n   <g id=\"patch_157\">\n    <path d=\"M 1597.527822 349.551562 \nL 1607.583689 349.551562 \nL 1607.583689 349.551562 \nL 1597.527822 349.551562 \nz\n\" clip-path=\"url(#p4c9605b024)\" style=\"fill: #ff0000; opacity: 0.5; stroke: #ffffff; stroke-linejoin: miter\"/>\n   </g>\n   <g id=\"patch_158\">\n    <path d=\"M 1607.583689 349.551562 \nL 1617.639556 349.551562 \nL 1617.639556 349.551562 \nL 1607.583689 349.551562 \nz\n\" clip-path=\"url(#p4c9605b024)\" style=\"fill: #ff0000; opacity: 0.5; stroke: #ffffff; stroke-linejoin: miter\"/>\n   </g>\n   <g id=\"patch_159\">\n    <path d=\"M 1617.639556 349.551562 \nL 1627.695423 349.551562 \nL 1627.695423 349.551562 \nL 1617.639556 349.551562 \nz\n\" clip-path=\"url(#p4c9605b024)\" style=\"fill: #ff0000; opacity: 0.5; stroke: #ffffff; stroke-linejoin: miter\"/>\n   </g>\n   <g id=\"patch_160\">\n    <path d=\"M 1627.695423 349.551562 \nL 1637.751289 349.551562 \nL 1637.751289 349.551562 \nL 1627.695423 349.551562 \nz\n\" clip-path=\"url(#p4c9605b024)\" style=\"fill: #ff0000; opacity: 0.5; stroke: #ffffff; stroke-linejoin: miter\"/>\n   </g>\n   <g id=\"patch_161\">\n    <path d=\"M 1637.751289 349.551562 \nL 1647.807156 349.551562 \nL 1647.807156 349.551562 \nL 1637.751289 349.551562 \nz\n\" clip-path=\"url(#p4c9605b024)\" style=\"fill: #ff0000; opacity: 0.5; stroke: #ffffff; stroke-linejoin: miter\"/>\n   </g>\n   <g id=\"patch_162\">\n    <path d=\"M 1647.807156 349.551562 \nL 1657.863023 349.551562 \nL 1657.863023 349.551562 \nL 1647.807156 349.551562 \nz\n\" clip-path=\"url(#p4c9605b024)\" style=\"fill: #ff0000; opacity: 0.5; stroke: #ffffff; stroke-linejoin: miter\"/>\n   </g>\n   <g id=\"patch_163\">\n    <path d=\"M 1657.863023 349.551562 \nL 1667.91889 349.551562 \nL 1667.91889 349.551562 \nL 1657.863023 349.551562 \nz\n\" clip-path=\"url(#p4c9605b024)\" style=\"fill: #ff0000; opacity: 0.5; stroke: #ffffff; stroke-linejoin: miter\"/>\n   </g>\n   <g id=\"patch_164\">\n    <path d=\"M 1667.91889 349.551562 \nL 1677.974757 349.551562 \nL 1677.974757 349.551562 \nL 1667.91889 349.551562 \nz\n\" clip-path=\"url(#p4c9605b024)\" style=\"fill: #ff0000; opacity: 0.5; stroke: #ffffff; stroke-linejoin: miter\"/>\n   </g>\n   <g id=\"patch_165\">\n    <path d=\"M 1677.974757 349.551562 \nL 1688.030623 349.551562 \nL 1688.030623 349.551562 \nL 1677.974757 349.551562 \nz\n\" clip-path=\"url(#p4c9605b024)\" style=\"fill: #ff0000; opacity: 0.5; stroke: #ffffff; stroke-linejoin: miter\"/>\n   </g>\n   <g id=\"patch_166\">\n    <path d=\"M 1688.030623 349.551562 \nL 1698.08649 349.551562 \nL 1698.08649 349.551562 \nL 1688.030623 349.551562 \nz\n\" clip-path=\"url(#p4c9605b024)\" style=\"fill: #ff0000; opacity: 0.5; stroke: #ffffff; stroke-linejoin: miter\"/>\n   </g>\n   <g id=\"patch_167\">\n    <path d=\"M 1698.08649 349.551562 \nL 1708.142357 349.551562 \nL 1708.142357 349.551562 \nL 1698.08649 349.551562 \nz\n\" clip-path=\"url(#p4c9605b024)\" style=\"fill: #ff0000; opacity: 0.5; stroke: #ffffff; stroke-linejoin: miter\"/>\n   </g>\n   <g id=\"patch_168\">\n    <path d=\"M 1708.142357 349.551562 \nL 1718.198224 349.551562 \nL 1718.198224 349.551562 \nL 1708.142357 349.551562 \nz\n\" clip-path=\"url(#p4c9605b024)\" style=\"fill: #ff0000; opacity: 0.5; stroke: #ffffff; stroke-linejoin: miter\"/>\n   </g>\n   <g id=\"patch_169\">\n    <path d=\"M 1718.198224 349.551562 \nL 1728.254091 349.551562 \nL 1728.254091 349.551562 \nL 1718.198224 349.551562 \nz\n\" clip-path=\"url(#p4c9605b024)\" style=\"fill: #ff0000; opacity: 0.5; stroke: #ffffff; stroke-linejoin: miter\"/>\n   </g>\n   <g id=\"patch_170\">\n    <path d=\"M 1728.254091 349.551562 \nL 1738.309957 349.551562 \nL 1738.309957 349.551562 \nL 1728.254091 349.551562 \nz\n\" clip-path=\"url(#p4c9605b024)\" style=\"fill: #ff0000; opacity: 0.5; stroke: #ffffff; stroke-linejoin: miter\"/>\n   </g>\n   <g id=\"patch_171\">\n    <path d=\"M 1738.309957 349.551562 \nL 1748.365824 349.551562 \nL 1748.365824 349.551562 \nL 1738.309957 349.551562 \nz\n\" clip-path=\"url(#p4c9605b024)\" style=\"fill: #ff0000; opacity: 0.5; stroke: #ffffff; stroke-linejoin: miter\"/>\n   </g>\n   <g id=\"patch_172\">\n    <path d=\"M 1748.365824 349.551562 \nL 1758.421691 349.551562 \nL 1758.421691 349.551562 \nL 1748.365824 349.551562 \nz\n\" clip-path=\"url(#p4c9605b024)\" style=\"fill: #ff0000; opacity: 0.5; stroke: #ffffff; stroke-linejoin: miter\"/>\n   </g>\n   <g id=\"patch_173\">\n    <path d=\"M 1758.421691 349.551562 \nL 1768.477558 349.551562 \nL 1768.477558 349.551562 \nL 1758.421691 349.551562 \nz\n\" clip-path=\"url(#p4c9605b024)\" style=\"fill: #ff0000; opacity: 0.5; stroke: #ffffff; stroke-linejoin: miter\"/>\n   </g>\n   <g id=\"patch_174\">\n    <path d=\"M 1768.477558 349.551562 \nL 1778.533425 349.551562 \nL 1778.533425 349.551562 \nL 1768.477558 349.551562 \nz\n\" clip-path=\"url(#p4c9605b024)\" style=\"fill: #ff0000; opacity: 0.5; stroke: #ffffff; stroke-linejoin: miter\"/>\n   </g>\n   <g id=\"patch_175\">\n    <path d=\"M 1778.533425 349.551562 \nL 1788.589291 349.551562 \nL 1788.589291 349.551562 \nL 1778.533425 349.551562 \nz\n\" clip-path=\"url(#p4c9605b024)\" style=\"fill: #ff0000; opacity: 0.5; stroke: #ffffff; stroke-linejoin: miter\"/>\n   </g>\n   <g id=\"patch_176\">\n    <path d=\"M 1788.589291 349.551562 \nL 1798.645158 349.551562 \nL 1798.645158 349.551562 \nL 1788.589291 349.551562 \nz\n\" clip-path=\"url(#p4c9605b024)\" style=\"fill: #ff0000; opacity: 0.5; stroke: #ffffff; stroke-linejoin: miter\"/>\n   </g>\n   <g id=\"patch_177\">\n    <path d=\"M 1798.645158 349.551562 \nL 1808.701025 349.551562 \nL 1808.701025 349.551562 \nL 1798.645158 349.551562 \nz\n\" clip-path=\"url(#p4c9605b024)\" style=\"fill: #ff0000; opacity: 0.5; stroke: #ffffff; stroke-linejoin: miter\"/>\n   </g>\n   <g id=\"patch_178\">\n    <path d=\"M 1808.701025 349.551562 \nL 1818.756892 349.551562 \nL 1818.756892 349.551562 \nL 1808.701025 349.551562 \nz\n\" clip-path=\"url(#p4c9605b024)\" style=\"fill: #ff0000; opacity: 0.5; stroke: #ffffff; stroke-linejoin: miter\"/>\n   </g>\n   <g id=\"patch_179\">\n    <path d=\"M 1818.756892 349.551562 \nL 1828.812759 349.551562 \nL 1828.812759 349.551562 \nL 1818.756892 349.551562 \nz\n\" clip-path=\"url(#p4c9605b024)\" style=\"fill: #ff0000; opacity: 0.5; stroke: #ffffff; stroke-linejoin: miter\"/>\n   </g>\n   <g id=\"patch_180\">\n    <path d=\"M 1828.812759 349.551562 \nL 1838.868625 349.551562 \nL 1838.868625 349.551562 \nL 1828.812759 349.551562 \nz\n\" clip-path=\"url(#p4c9605b024)\" style=\"fill: #ff0000; opacity: 0.5; stroke: #ffffff; stroke-linejoin: miter\"/>\n   </g>\n   <g id=\"patch_181\">\n    <path d=\"M 1838.868625 349.551562 \nL 1848.924492 349.551562 \nL 1848.924492 349.551562 \nL 1838.868625 349.551562 \nz\n\" clip-path=\"url(#p4c9605b024)\" style=\"fill: #ff0000; opacity: 0.5; stroke: #ffffff; stroke-linejoin: miter\"/>\n   </g>\n   <g id=\"patch_182\">\n    <path d=\"M 1848.924492 349.551562 \nL 1858.980359 349.551562 \nL 1858.980359 349.551562 \nL 1848.924492 349.551562 \nz\n\" clip-path=\"url(#p4c9605b024)\" style=\"fill: #ff0000; opacity: 0.5; stroke: #ffffff; stroke-linejoin: miter\"/>\n   </g>\n   <g id=\"patch_183\">\n    <path d=\"M 1858.980359 349.551562 \nL 1869.036226 349.551562 \nL 1869.036226 349.551562 \nL 1858.980359 349.551562 \nz\n\" clip-path=\"url(#p4c9605b024)\" style=\"fill: #ff0000; opacity: 0.5; stroke: #ffffff; stroke-linejoin: miter\"/>\n   </g>\n   <g id=\"patch_184\">\n    <path d=\"M 1869.036226 349.551562 \nL 1879.092093 349.551562 \nL 1879.092093 349.551562 \nL 1869.036226 349.551562 \nz\n\" clip-path=\"url(#p4c9605b024)\" style=\"fill: #ff0000; opacity: 0.5; stroke: #ffffff; stroke-linejoin: miter\"/>\n   </g>\n   <g id=\"patch_185\">\n    <path d=\"M 1879.092093 349.551562 \nL 1889.147959 349.551562 \nL 1889.147959 349.551562 \nL 1879.092093 349.551562 \nz\n\" clip-path=\"url(#p4c9605b024)\" style=\"fill: #ff0000; opacity: 0.5; stroke: #ffffff; stroke-linejoin: miter\"/>\n   </g>\n   <g id=\"patch_186\">\n    <path d=\"M 1889.147959 349.551562 \nL 1899.203826 349.551562 \nL 1899.203826 349.551562 \nL 1889.147959 349.551562 \nz\n\" clip-path=\"url(#p4c9605b024)\" style=\"fill: #ff0000; opacity: 0.5; stroke: #ffffff; stroke-linejoin: miter\"/>\n   </g>\n   <g id=\"patch_187\">\n    <path d=\"M 1899.203826 349.551562 \nL 1909.259693 349.551562 \nL 1909.259693 349.551562 \nL 1899.203826 349.551562 \nz\n\" clip-path=\"url(#p4c9605b024)\" style=\"fill: #ff0000; opacity: 0.5; stroke: #ffffff; stroke-linejoin: miter\"/>\n   </g>\n   <g id=\"patch_188\">\n    <path d=\"M 1909.259693 349.551562 \nL 1919.31556 349.551562 \nL 1919.31556 349.551562 \nL 1909.259693 349.551562 \nz\n\" clip-path=\"url(#p4c9605b024)\" style=\"fill: #ff0000; opacity: 0.5; stroke: #ffffff; stroke-linejoin: miter\"/>\n   </g>\n   <g id=\"patch_189\">\n    <path d=\"M 1919.31556 349.551562 \nL 1929.371427 349.551562 \nL 1929.371427 349.551562 \nL 1919.31556 349.551562 \nz\n\" clip-path=\"url(#p4c9605b024)\" style=\"fill: #ff0000; opacity: 0.5; stroke: #ffffff; stroke-linejoin: miter\"/>\n   </g>\n   <g id=\"patch_190\">\n    <path d=\"M 1929.371427 349.551562 \nL 1939.427293 349.551562 \nL 1939.427293 349.551562 \nL 1929.371427 349.551562 \nz\n\" clip-path=\"url(#p4c9605b024)\" style=\"fill: #ff0000; opacity: 0.5; stroke: #ffffff; stroke-linejoin: miter\"/>\n   </g>\n   <g id=\"patch_191\">\n    <path d=\"M 1939.427293 349.551562 \nL 1949.48316 349.551562 \nL 1949.48316 349.551562 \nL 1939.427293 349.551562 \nz\n\" clip-path=\"url(#p4c9605b024)\" style=\"fill: #ff0000; opacity: 0.5; stroke: #ffffff; stroke-linejoin: miter\"/>\n   </g>\n   <g id=\"patch_192\">\n    <path d=\"M 1949.48316 349.551562 \nL 1959.539027 349.551562 \nL 1959.539027 349.551562 \nL 1949.48316 349.551562 \nz\n\" clip-path=\"url(#p4c9605b024)\" style=\"fill: #ff0000; opacity: 0.5; stroke: #ffffff; stroke-linejoin: miter\"/>\n   </g>\n   <g id=\"patch_193\">\n    <path d=\"M 1959.539027 349.551562 \nL 1969.594894 349.551562 \nL 1969.594894 349.551562 \nL 1959.539027 349.551562 \nz\n\" clip-path=\"url(#p4c9605b024)\" style=\"fill: #ff0000; opacity: 0.5; stroke: #ffffff; stroke-linejoin: miter\"/>\n   </g>\n   <g id=\"patch_194\">\n    <path d=\"M 1969.594894 349.551562 \nL 1979.650761 349.551562 \nL 1979.650761 349.551562 \nL 1969.594894 349.551562 \nz\n\" clip-path=\"url(#p4c9605b024)\" style=\"fill: #ff0000; opacity: 0.5; stroke: #ffffff; stroke-linejoin: miter\"/>\n   </g>\n   <g id=\"patch_195\">\n    <path d=\"M 1979.650761 349.551562 \nL 1989.706627 349.551562 \nL 1989.706627 349.551562 \nL 1979.650761 349.551562 \nz\n\" clip-path=\"url(#p4c9605b024)\" style=\"fill: #ff0000; opacity: 0.5; stroke: #ffffff; stroke-linejoin: miter\"/>\n   </g>\n   <g id=\"patch_196\">\n    <path d=\"M 1989.706627 349.551562 \nL 1999.762494 349.551562 \nL 1999.762494 349.551562 \nL 1989.706627 349.551562 \nz\n\" clip-path=\"url(#p4c9605b024)\" style=\"fill: #ff0000; opacity: 0.5; stroke: #ffffff; stroke-linejoin: miter\"/>\n   </g>\n   <g id=\"patch_197\">\n    <path d=\"M 1999.762494 349.551562 \nL 2009.818361 349.551562 \nL 2009.818361 349.551562 \nL 1999.762494 349.551562 \nz\n\" clip-path=\"url(#p4c9605b024)\" style=\"fill: #ff0000; opacity: 0.5; stroke: #ffffff; stroke-linejoin: miter\"/>\n   </g>\n   <g id=\"patch_198\">\n    <path d=\"M 2009.818361 349.551562 \nL 2019.874228 349.551562 \nL 2019.874228 349.551562 \nL 2009.818361 349.551562 \nz\n\" clip-path=\"url(#p4c9605b024)\" style=\"fill: #ff0000; opacity: 0.5; stroke: #ffffff; stroke-linejoin: miter\"/>\n   </g>\n   <g id=\"patch_199\">\n    <path d=\"M 2019.874228 349.551562 \nL 2029.930095 349.551562 \nL 2029.930095 349.551562 \nL 2019.874228 349.551562 \nz\n\" clip-path=\"url(#p4c9605b024)\" style=\"fill: #ff0000; opacity: 0.5; stroke: #ffffff; stroke-linejoin: miter\"/>\n   </g>\n   <g id=\"patch_200\">\n    <path d=\"M 2029.930095 349.551562 \nL 2039.985961 349.551562 \nL 2039.985961 349.551562 \nL 2029.930095 349.551562 \nz\n\" clip-path=\"url(#p4c9605b024)\" style=\"fill: #ff0000; opacity: 0.5; stroke: #ffffff; stroke-linejoin: miter\"/>\n   </g>\n   <g id=\"patch_201\">\n    <path d=\"M 2039.985961 349.551562 \nL 2050.041828 349.551562 \nL 2050.041828 349.551562 \nL 2039.985961 349.551562 \nz\n\" clip-path=\"url(#p4c9605b024)\" style=\"fill: #ff0000; opacity: 0.5; stroke: #ffffff; stroke-linejoin: miter\"/>\n   </g>\n   <g id=\"patch_202\">\n    <path d=\"M 2050.041828 349.551562 \nL 2060.097695 349.551562 \nL 2060.097695 349.551562 \nL 2050.041828 349.551562 \nz\n\" clip-path=\"url(#p4c9605b024)\" style=\"fill: #ff0000; opacity: 0.5; stroke: #ffffff; stroke-linejoin: miter\"/>\n   </g>\n   <g id=\"patch_203\">\n    <path d=\"M 2060.097695 349.551562 \nL 2070.153562 349.551562 \nL 2070.153562 349.551562 \nL 2060.097695 349.551562 \nz\n\" clip-path=\"url(#p4c9605b024)\" style=\"fill: #ff0000; opacity: 0.5; stroke: #ffffff; stroke-linejoin: miter\"/>\n   </g>\n   <g id=\"patch_204\">\n    <path d=\"M 2070.153562 349.551562 \nL 2080.209429 349.551562 \nL 2080.209429 349.551562 \nL 2070.153562 349.551562 \nz\n\" clip-path=\"url(#p4c9605b024)\" style=\"fill: #ff0000; opacity: 0.5; stroke: #ffffff; stroke-linejoin: miter\"/>\n   </g>\n   <g id=\"patch_205\">\n    <path d=\"M 2080.209429 349.551562 \nL 2090.265295 349.551562 \nL 2090.265295 349.551562 \nL 2080.209429 349.551562 \nz\n\" clip-path=\"url(#p4c9605b024)\" style=\"fill: #ff0000; opacity: 0.5; stroke: #ffffff; stroke-linejoin: miter\"/>\n   </g>\n   <g id=\"patch_206\">\n    <path d=\"M 2090.265295 349.551562 \nL 2100.321162 349.551562 \nL 2100.321162 349.551562 \nL 2090.265295 349.551562 \nz\n\" clip-path=\"url(#p4c9605b024)\" style=\"fill: #ff0000; opacity: 0.5; stroke: #ffffff; stroke-linejoin: miter\"/>\n   </g>\n   <g id=\"patch_207\">\n    <path d=\"M 2100.321162 349.551562 \nL 2110.377029 349.551562 \nL 2110.377029 349.551562 \nL 2100.321162 349.551562 \nz\n\" clip-path=\"url(#p4c9605b024)\" style=\"fill: #ff0000; opacity: 0.5; stroke: #ffffff; stroke-linejoin: miter\"/>\n   </g>\n   <g id=\"patch_208\">\n    <path d=\"M 2110.377029 349.551562 \nL 2120.432896 349.551562 \nL 2120.432896 349.551562 \nL 2110.377029 349.551562 \nz\n\" clip-path=\"url(#p4c9605b024)\" style=\"fill: #ff0000; opacity: 0.5; stroke: #ffffff; stroke-linejoin: miter\"/>\n   </g>\n   <g id=\"patch_209\">\n    <path d=\"M 2120.432896 349.551562 \nL 2130.488763 349.551562 \nL 2130.488763 349.551562 \nL 2120.432896 349.551562 \nz\n\" clip-path=\"url(#p4c9605b024)\" style=\"fill: #ff0000; opacity: 0.5; stroke: #ffffff; stroke-linejoin: miter\"/>\n   </g>\n   <g id=\"patch_210\">\n    <path d=\"M 2130.488763 349.551562 \nL 2140.544629 349.551562 \nL 2140.544629 349.551562 \nL 2130.488763 349.551562 \nz\n\" clip-path=\"url(#p4c9605b024)\" style=\"fill: #ff0000; opacity: 0.5; stroke: #ffffff; stroke-linejoin: miter\"/>\n   </g>\n   <g id=\"patch_211\">\n    <path d=\"M 2140.544629 349.551562 \nL 2150.600496 349.551562 \nL 2150.600496 349.551562 \nL 2140.544629 349.551562 \nz\n\" clip-path=\"url(#p4c9605b024)\" style=\"fill: #ff0000; opacity: 0.5; stroke: #ffffff; stroke-linejoin: miter\"/>\n   </g>\n   <g id=\"patch_212\">\n    <path d=\"M 2150.600496 349.551562 \nL 2160.656363 349.551562 \nL 2160.656363 349.551562 \nL 2150.600496 349.551562 \nz\n\" clip-path=\"url(#p4c9605b024)\" style=\"fill: #ff0000; opacity: 0.5; stroke: #ffffff; stroke-linejoin: miter\"/>\n   </g>\n   <g id=\"patch_213\">\n    <path d=\"M 2160.656363 349.551562 \nL 2170.71223 349.551562 \nL 2170.71223 349.551562 \nL 2160.656363 349.551562 \nz\n\" clip-path=\"url(#p4c9605b024)\" style=\"fill: #ff0000; opacity: 0.5; stroke: #ffffff; stroke-linejoin: miter\"/>\n   </g>\n   <g id=\"patch_214\">\n    <path d=\"M 2170.71223 349.551562 \nL 2180.768097 349.551562 \nL 2180.768097 349.551562 \nL 2170.71223 349.551562 \nz\n\" clip-path=\"url(#p4c9605b024)\" style=\"fill: #ff0000; opacity: 0.5; stroke: #ffffff; stroke-linejoin: miter\"/>\n   </g>\n   <g id=\"patch_215\">\n    <path d=\"M 2180.768097 349.551562 \nL 2190.823963 349.551562 \nL 2190.823963 349.551562 \nL 2180.768097 349.551562 \nz\n\" clip-path=\"url(#p4c9605b024)\" style=\"fill: #ff0000; opacity: 0.5; stroke: #ffffff; stroke-linejoin: miter\"/>\n   </g>\n   <g id=\"patch_216\">\n    <path d=\"M 2190.823963 349.551562 \nL 2200.87983 349.551562 \nL 2200.87983 349.551562 \nL 2190.823963 349.551562 \nz\n\" clip-path=\"url(#p4c9605b024)\" style=\"fill: #ff0000; opacity: 0.5; stroke: #ffffff; stroke-linejoin: miter\"/>\n   </g>\n   <g id=\"patch_217\">\n    <path d=\"M 2200.87983 349.551562 \nL 2210.935697 349.551562 \nL 2210.935697 349.551562 \nL 2200.87983 349.551562 \nz\n\" clip-path=\"url(#p4c9605b024)\" style=\"fill: #ff0000; opacity: 0.5; stroke: #ffffff; stroke-linejoin: miter\"/>\n   </g>\n   <g id=\"patch_218\">\n    <path d=\"M 2210.935697 349.551562 \nL 2220.991564 349.551562 \nL 2220.991564 349.551562 \nL 2210.935697 349.551562 \nz\n\" clip-path=\"url(#p4c9605b024)\" style=\"fill: #ff0000; opacity: 0.5; stroke: #ffffff; stroke-linejoin: miter\"/>\n   </g>\n   <g id=\"patch_219\">\n    <path d=\"M 2220.991564 349.551562 \nL 2231.047431 349.551562 \nL 2231.047431 349.551562 \nL 2220.991564 349.551562 \nz\n\" clip-path=\"url(#p4c9605b024)\" style=\"fill: #ff0000; opacity: 0.5; stroke: #ffffff; stroke-linejoin: miter\"/>\n   </g>\n   <g id=\"patch_220\">\n    <path d=\"M 2231.047431 349.551562 \nL 2241.103297 349.551562 \nL 2241.103297 349.551562 \nL 2231.047431 349.551562 \nz\n\" clip-path=\"url(#p4c9605b024)\" style=\"fill: #ff0000; opacity: 0.5; stroke: #ffffff; stroke-linejoin: miter\"/>\n   </g>\n   <g id=\"patch_221\">\n    <path d=\"M 2241.103297 349.551562 \nL 2251.159164 349.551562 \nL 2251.159164 349.551562 \nL 2241.103297 349.551562 \nz\n\" clip-path=\"url(#p4c9605b024)\" style=\"fill: #ff0000; opacity: 0.5; stroke: #ffffff; stroke-linejoin: miter\"/>\n   </g>\n   <g id=\"patch_222\">\n    <path d=\"M 2251.159164 349.551562 \nL 2261.215031 349.551562 \nL 2261.215031 349.551562 \nL 2251.159164 349.551562 \nz\n\" clip-path=\"url(#p4c9605b024)\" style=\"fill: #ff0000; opacity: 0.5; stroke: #ffffff; stroke-linejoin: miter\"/>\n   </g>\n   <g id=\"patch_223\">\n    <path d=\"M 2261.215031 349.551562 \nL 2271.270898 349.551562 \nL 2271.270898 349.551562 \nL 2261.215031 349.551562 \nz\n\" clip-path=\"url(#p4c9605b024)\" style=\"fill: #ff0000; opacity: 0.5; stroke: #ffffff; stroke-linejoin: miter\"/>\n   </g>\n   <g id=\"patch_224\">\n    <path d=\"M 2271.270898 349.551562 \nL 2281.326765 349.551562 \nL 2281.326765 349.551562 \nL 2271.270898 349.551562 \nz\n\" clip-path=\"url(#p4c9605b024)\" style=\"fill: #ff0000; opacity: 0.5; stroke: #ffffff; stroke-linejoin: miter\"/>\n   </g>\n   <g id=\"patch_225\">\n    <path d=\"M 2281.326765 349.551562 \nL 2291.382631 349.551562 \nL 2291.382631 349.551562 \nL 2281.326765 349.551562 \nz\n\" clip-path=\"url(#p4c9605b024)\" style=\"fill: #ff0000; opacity: 0.5; stroke: #ffffff; stroke-linejoin: miter\"/>\n   </g>\n   <g id=\"patch_226\">\n    <path d=\"M 2291.382631 349.551562 \nL 2301.438498 349.551562 \nL 2301.438498 349.551562 \nL 2291.382631 349.551562 \nz\n\" clip-path=\"url(#p4c9605b024)\" style=\"fill: #ff0000; opacity: 0.5; stroke: #ffffff; stroke-linejoin: miter\"/>\n   </g>\n   <g id=\"patch_227\">\n    <path d=\"M 2301.438498 349.551562 \nL 2311.494365 349.551562 \nL 2311.494365 349.551562 \nL 2301.438498 349.551562 \nz\n\" clip-path=\"url(#p4c9605b024)\" style=\"fill: #ff0000; opacity: 0.5; stroke: #ffffff; stroke-linejoin: miter\"/>\n   </g>\n   <g id=\"patch_228\">\n    <path d=\"M 2311.494365 349.551562 \nL 2321.550232 349.551562 \nL 2321.550232 349.551562 \nL 2311.494365 349.551562 \nz\n\" clip-path=\"url(#p4c9605b024)\" style=\"fill: #ff0000; opacity: 0.5; stroke: #ffffff; stroke-linejoin: miter\"/>\n   </g>\n   <g id=\"patch_229\">\n    <path d=\"M 2321.550232 349.551562 \nL 2331.606099 349.551562 \nL 2331.606099 349.551562 \nL 2321.550232 349.551562 \nz\n\" clip-path=\"url(#p4c9605b024)\" style=\"fill: #ff0000; opacity: 0.5; stroke: #ffffff; stroke-linejoin: miter\"/>\n   </g>\n   <g id=\"patch_230\">\n    <path d=\"M 2331.606099 349.551562 \nL 2341.661965 349.551562 \nL 2341.661965 349.551562 \nL 2331.606099 349.551562 \nz\n\" clip-path=\"url(#p4c9605b024)\" style=\"fill: #ff0000; opacity: 0.5; stroke: #ffffff; stroke-linejoin: miter\"/>\n   </g>\n   <g id=\"patch_231\">\n    <path d=\"M 2341.661965 349.551562 \nL 2351.717832 349.551562 \nL 2351.717832 349.551562 \nL 2341.661965 349.551562 \nz\n\" clip-path=\"url(#p4c9605b024)\" style=\"fill: #ff0000; opacity: 0.5; stroke: #ffffff; stroke-linejoin: miter\"/>\n   </g>\n   <g id=\"patch_232\">\n    <path d=\"M 2351.717832 349.551562 \nL 2361.773699 349.551562 \nL 2361.773699 349.551562 \nL 2351.717832 349.551562 \nz\n\" clip-path=\"url(#p4c9605b024)\" style=\"fill: #ff0000; opacity: 0.5; stroke: #ffffff; stroke-linejoin: miter\"/>\n   </g>\n   <g id=\"patch_233\">\n    <path d=\"M 2361.773699 349.551562 \nL 2371.829566 349.551562 \nL 2371.829566 349.551562 \nL 2361.773699 349.551562 \nz\n\" clip-path=\"url(#p4c9605b024)\" style=\"fill: #ff0000; opacity: 0.5; stroke: #ffffff; stroke-linejoin: miter\"/>\n   </g>\n   <g id=\"patch_234\">\n    <path d=\"M 2371.829566 349.551562 \nL 2381.885433 349.551562 \nL 2381.885433 349.551562 \nL 2371.829566 349.551562 \nz\n\" clip-path=\"url(#p4c9605b024)\" style=\"fill: #ff0000; opacity: 0.5; stroke: #ffffff; stroke-linejoin: miter\"/>\n   </g>\n   <g id=\"patch_235\">\n    <path d=\"M 2381.885433 349.551562 \nL 2391.941299 349.551562 \nL 2391.941299 349.551562 \nL 2381.885433 349.551562 \nz\n\" clip-path=\"url(#p4c9605b024)\" style=\"fill: #ff0000; opacity: 0.5; stroke: #ffffff; stroke-linejoin: miter\"/>\n   </g>\n   <g id=\"patch_236\">\n    <path d=\"M 2391.941299 349.551562 \nL 2401.997166 349.551562 \nL 2401.997166 349.551562 \nL 2391.941299 349.551562 \nz\n\" clip-path=\"url(#p4c9605b024)\" style=\"fill: #ff0000; opacity: 0.5; stroke: #ffffff; stroke-linejoin: miter\"/>\n   </g>\n   <g id=\"patch_237\">\n    <path d=\"M 2401.997166 349.551562 \nL 2412.053033 349.551562 \nL 2412.053033 349.551562 \nL 2401.997166 349.551562 \nz\n\" clip-path=\"url(#p4c9605b024)\" style=\"fill: #ff0000; opacity: 0.5; stroke: #ffffff; stroke-linejoin: miter\"/>\n   </g>\n   <g id=\"patch_238\">\n    <path d=\"M 2412.053033 349.551562 \nL 2422.1089 349.551562 \nL 2422.1089 349.551562 \nL 2412.053033 349.551562 \nz\n\" clip-path=\"url(#p4c9605b024)\" style=\"fill: #ff0000; opacity: 0.5; stroke: #ffffff; stroke-linejoin: miter\"/>\n   </g>\n   <g id=\"patch_239\">\n    <path d=\"M 2422.1089 349.551562 \nL 2432.164767 349.551562 \nL 2432.164767 349.551562 \nL 2422.1089 349.551562 \nz\n\" clip-path=\"url(#p4c9605b024)\" style=\"fill: #ff0000; opacity: 0.5; stroke: #ffffff; stroke-linejoin: miter\"/>\n   </g>\n   <g id=\"patch_240\">\n    <path d=\"M 2432.164767 349.551562 \nL 2442.220633 349.551562 \nL 2442.220633 349.551562 \nL 2432.164767 349.551562 \nz\n\" clip-path=\"url(#p4c9605b024)\" style=\"fill: #ff0000; opacity: 0.5; stroke: #ffffff; stroke-linejoin: miter\"/>\n   </g>\n   <g id=\"patch_241\">\n    <path d=\"M 2442.220633 349.551562 \nL 2452.2765 349.551562 \nL 2452.2765 349.551562 \nL 2442.220633 349.551562 \nz\n\" clip-path=\"url(#p4c9605b024)\" style=\"fill: #ff0000; opacity: 0.5; stroke: #ffffff; stroke-linejoin: miter\"/>\n   </g>\n   <g id=\"patch_242\">\n    <path d=\"M 2452.2765 349.551562 \nL 2462.332367 349.551562 \nL 2462.332367 349.551562 \nL 2452.2765 349.551562 \nz\n\" clip-path=\"url(#p4c9605b024)\" style=\"fill: #ff0000; opacity: 0.5; stroke: #ffffff; stroke-linejoin: miter\"/>\n   </g>\n   <g id=\"patch_243\">\n    <path d=\"M 2462.332367 349.551562 \nL 2472.388234 349.551562 \nL 2472.388234 349.551562 \nL 2462.332367 349.551562 \nz\n\" clip-path=\"url(#p4c9605b024)\" style=\"fill: #ff0000; opacity: 0.5; stroke: #ffffff; stroke-linejoin: miter\"/>\n   </g>\n   <g id=\"patch_244\">\n    <path d=\"M 2472.388234 349.551562 \nL 2482.444101 349.551562 \nL 2482.444101 349.551562 \nL 2472.388234 349.551562 \nz\n\" clip-path=\"url(#p4c9605b024)\" style=\"fill: #ff0000; opacity: 0.5; stroke: #ffffff; stroke-linejoin: miter\"/>\n   </g>\n   <g id=\"patch_245\">\n    <path d=\"M 2482.444101 349.551562 \nL 2492.499967 349.551562 \nL 2492.499967 349.551562 \nL 2482.444101 349.551562 \nz\n\" clip-path=\"url(#p4c9605b024)\" style=\"fill: #ff0000; opacity: 0.5; stroke: #ffffff; stroke-linejoin: miter\"/>\n   </g>\n   <g id=\"patch_246\">\n    <path d=\"M 2492.499967 349.551562 \nL 2502.555834 349.551562 \nL 2502.555834 349.551562 \nL 2492.499967 349.551562 \nz\n\" clip-path=\"url(#p4c9605b024)\" style=\"fill: #ff0000; opacity: 0.5; stroke: #ffffff; stroke-linejoin: miter\"/>\n   </g>\n   <g id=\"patch_247\">\n    <path d=\"M 2502.555834 349.551562 \nL 2512.611701 349.551562 \nL 2512.611701 349.551562 \nL 2502.555834 349.551562 \nz\n\" clip-path=\"url(#p4c9605b024)\" style=\"fill: #ff0000; opacity: 0.5; stroke: #ffffff; stroke-linejoin: miter\"/>\n   </g>\n   <g id=\"patch_248\">\n    <path d=\"M 2512.611701 349.551562 \nL 2522.667568 349.551562 \nL 2522.667568 349.551562 \nL 2512.611701 349.551562 \nz\n\" clip-path=\"url(#p4c9605b024)\" style=\"fill: #ff0000; opacity: 0.5; stroke: #ffffff; stroke-linejoin: miter\"/>\n   </g>\n   <g id=\"patch_249\">\n    <path d=\"M 2522.667568 349.551562 \nL 2532.723435 349.551562 \nL 2532.723435 349.551562 \nL 2522.667568 349.551562 \nz\n\" clip-path=\"url(#p4c9605b024)\" style=\"fill: #ff0000; opacity: 0.5; stroke: #ffffff; stroke-linejoin: miter\"/>\n   </g>\n   <g id=\"patch_250\">\n    <path d=\"M 2532.723435 349.551562 \nL 2542.779301 349.551562 \nL 2542.779301 349.551562 \nL 2532.723435 349.551562 \nz\n\" clip-path=\"url(#p4c9605b024)\" style=\"fill: #ff0000; opacity: 0.5; stroke: #ffffff; stroke-linejoin: miter\"/>\n   </g>\n   <g id=\"patch_251\">\n    <path d=\"M 2542.779301 349.551562 \nL 2552.835168 349.551562 \nL 2552.835168 349.551562 \nL 2542.779301 349.551562 \nz\n\" clip-path=\"url(#p4c9605b024)\" style=\"fill: #ff0000; opacity: 0.5; stroke: #ffffff; stroke-linejoin: miter\"/>\n   </g>\n   <g id=\"patch_252\">\n    <path d=\"M 2552.835168 349.551562 \nL 2562.891035 349.551562 \nL 2562.891035 349.551562 \nL 2552.835168 349.551562 \nz\n\" clip-path=\"url(#p4c9605b024)\" style=\"fill: #ff0000; opacity: 0.5; stroke: #ffffff; stroke-linejoin: miter\"/>\n   </g>\n   <g id=\"patch_253\">\n    <path d=\"M 2562.891035 349.551562 \nL 2572.946902 349.551562 \nL 2572.946902 349.551562 \nL 2562.891035 349.551562 \nz\n\" clip-path=\"url(#p4c9605b024)\" style=\"fill: #ff0000; opacity: 0.5; stroke: #ffffff; stroke-linejoin: miter\"/>\n   </g>\n   <g id=\"patch_254\">\n    <path d=\"M 2572.946902 349.551562 \nL 2583.002769 349.551562 \nL 2583.002769 349.551562 \nL 2572.946902 349.551562 \nz\n\" clip-path=\"url(#p4c9605b024)\" style=\"fill: #ff0000; opacity: 0.5; stroke: #ffffff; stroke-linejoin: miter\"/>\n   </g>\n   <g id=\"patch_255\">\n    <path d=\"M 2583.002769 349.551562 \nL 2593.058635 349.551562 \nL 2593.058635 349.551562 \nL 2583.002769 349.551562 \nz\n\" clip-path=\"url(#p4c9605b024)\" style=\"fill: #ff0000; opacity: 0.5; stroke: #ffffff; stroke-linejoin: miter\"/>\n   </g>\n   <g id=\"patch_256\">\n    <path d=\"M 2593.058635 349.551562 \nL 2603.114502 349.551562 \nL 2603.114502 349.551562 \nL 2593.058635 349.551562 \nz\n\" clip-path=\"url(#p4c9605b024)\" style=\"fill: #ff0000; opacity: 0.5; stroke: #ffffff; stroke-linejoin: miter\"/>\n   </g>\n   <g id=\"patch_257\">\n    <path d=\"M 2603.114502 349.551562 \nL 2613.170369 349.551562 \nL 2613.170369 349.551562 \nL 2603.114502 349.551562 \nz\n\" clip-path=\"url(#p4c9605b024)\" style=\"fill: #ff0000; opacity: 0.5; stroke: #ffffff; stroke-linejoin: miter\"/>\n   </g>\n   <g id=\"patch_258\">\n    <path d=\"M 2613.170369 349.551562 \nL 2623.226236 349.551562 \nL 2623.226236 349.551562 \nL 2613.170369 349.551562 \nz\n\" clip-path=\"url(#p4c9605b024)\" style=\"fill: #ff0000; opacity: 0.5; stroke: #ffffff; stroke-linejoin: miter\"/>\n   </g>\n   <g id=\"patch_259\">\n    <path d=\"M 2623.226236 349.551562 \nL 2633.282103 349.551562 \nL 2633.282103 349.551562 \nL 2623.226236 349.551562 \nz\n\" clip-path=\"url(#p4c9605b024)\" style=\"fill: #ff0000; opacity: 0.5; stroke: #ffffff; stroke-linejoin: miter\"/>\n   </g>\n   <g id=\"patch_260\">\n    <path d=\"M 2633.282103 349.551562 \nL 2643.337969 349.551562 \nL 2643.337969 349.551562 \nL 2633.282103 349.551562 \nz\n\" clip-path=\"url(#p4c9605b024)\" style=\"fill: #ff0000; opacity: 0.5; stroke: #ffffff; stroke-linejoin: miter\"/>\n   </g>\n   <g id=\"patch_261\">\n    <path d=\"M 2643.337969 349.551562 \nL 2653.393836 349.551562 \nL 2653.393836 349.551562 \nL 2643.337969 349.551562 \nz\n\" clip-path=\"url(#p4c9605b024)\" style=\"fill: #ff0000; opacity: 0.5; stroke: #ffffff; stroke-linejoin: miter\"/>\n   </g>\n   <g id=\"patch_262\">\n    <path d=\"M 2653.393836 349.551562 \nL 2663.449703 349.551562 \nL 2663.449703 349.551562 \nL 2653.393836 349.551562 \nz\n\" clip-path=\"url(#p4c9605b024)\" style=\"fill: #ff0000; opacity: 0.5; stroke: #ffffff; stroke-linejoin: miter\"/>\n   </g>\n   <g id=\"patch_263\">\n    <path d=\"M 2663.449703 349.551562 \nL 2673.50557 349.551562 \nL 2673.50557 349.551562 \nL 2663.449703 349.551562 \nz\n\" clip-path=\"url(#p4c9605b024)\" style=\"fill: #ff0000; opacity: 0.5; stroke: #ffffff; stroke-linejoin: miter\"/>\n   </g>\n   <g id=\"patch_264\">\n    <path d=\"M 2673.50557 349.551562 \nL 2683.561437 349.551562 \nL 2683.561437 349.551562 \nL 2673.50557 349.551562 \nz\n\" clip-path=\"url(#p4c9605b024)\" style=\"fill: #ff0000; opacity: 0.5; stroke: #ffffff; stroke-linejoin: miter\"/>\n   </g>\n   <g id=\"patch_265\">\n    <path d=\"M 2683.561437 349.551562 \nL 2693.617303 349.551562 \nL 2693.617303 349.551562 \nL 2683.561437 349.551562 \nz\n\" clip-path=\"url(#p4c9605b024)\" style=\"fill: #ff0000; opacity: 0.5; stroke: #ffffff; stroke-linejoin: miter\"/>\n   </g>\n   <g id=\"patch_266\">\n    <path d=\"M 2693.617303 349.551562 \nL 2703.67317 349.551562 \nL 2703.67317 349.551562 \nL 2693.617303 349.551562 \nz\n\" clip-path=\"url(#p4c9605b024)\" style=\"fill: #ff0000; opacity: 0.5; stroke: #ffffff; stroke-linejoin: miter\"/>\n   </g>\n   <g id=\"patch_267\">\n    <path d=\"M 2703.67317 349.551562 \nL 2713.729037 349.551562 \nL 2713.729037 349.551562 \nL 2703.67317 349.551562 \nz\n\" clip-path=\"url(#p4c9605b024)\" style=\"fill: #ff0000; opacity: 0.5; stroke: #ffffff; stroke-linejoin: miter\"/>\n   </g>\n   <g id=\"patch_268\">\n    <path d=\"M 2713.729037 349.551562 \nL 2723.784904 349.551562 \nL 2723.784904 349.551562 \nL 2713.729037 349.551562 \nz\n\" clip-path=\"url(#p4c9605b024)\" style=\"fill: #ff0000; opacity: 0.5; stroke: #ffffff; stroke-linejoin: miter\"/>\n   </g>\n   <g id=\"patch_269\">\n    <path d=\"M 2723.784904 349.551562 \nL 2733.840771 349.551562 \nL 2733.840771 349.551562 \nL 2723.784904 349.551562 \nz\n\" clip-path=\"url(#p4c9605b024)\" style=\"fill: #ff0000; opacity: 0.5; stroke: #ffffff; stroke-linejoin: miter\"/>\n   </g>\n   <g id=\"patch_270\">\n    <path d=\"M 2733.840771 349.551562 \nL 2743.896637 349.551562 \nL 2743.896637 349.551562 \nL 2733.840771 349.551562 \nz\n\" clip-path=\"url(#p4c9605b024)\" style=\"fill: #ff0000; opacity: 0.5; stroke: #ffffff; stroke-linejoin: miter\"/>\n   </g>\n   <g id=\"patch_271\">\n    <path d=\"M 2743.896637 349.551562 \nL 2753.952504 349.551562 \nL 2753.952504 349.551562 \nL 2743.896637 349.551562 \nz\n\" clip-path=\"url(#p4c9605b024)\" style=\"fill: #ff0000; opacity: 0.5; stroke: #ffffff; stroke-linejoin: miter\"/>\n   </g>\n   <g id=\"patch_272\">\n    <path d=\"M 2753.952504 349.551562 \nL 2764.008371 349.551562 \nL 2764.008371 349.551562 \nL 2753.952504 349.551562 \nz\n\" clip-path=\"url(#p4c9605b024)\" style=\"fill: #ff0000; opacity: 0.5; stroke: #ffffff; stroke-linejoin: miter\"/>\n   </g>\n   <g id=\"patch_273\">\n    <path d=\"M 2764.008371 349.551562 \nL 2774.064238 349.551562 \nL 2774.064238 349.551562 \nL 2764.008371 349.551562 \nz\n\" clip-path=\"url(#p4c9605b024)\" style=\"fill: #ff0000; opacity: 0.5; stroke: #ffffff; stroke-linejoin: miter\"/>\n   </g>\n   <g id=\"patch_274\">\n    <path d=\"M 2774.064238 349.551562 \nL 2784.120105 349.551562 \nL 2784.120105 349.551562 \nL 2774.064238 349.551562 \nz\n\" clip-path=\"url(#p4c9605b024)\" style=\"fill: #ff0000; opacity: 0.5; stroke: #ffffff; stroke-linejoin: miter\"/>\n   </g>\n   <g id=\"patch_275\">\n    <path d=\"M 2784.120105 349.551562 \nL 2794.175971 349.551562 \nL 2794.175971 349.551562 \nL 2784.120105 349.551562 \nz\n\" clip-path=\"url(#p4c9605b024)\" style=\"fill: #ff0000; opacity: 0.5; stroke: #ffffff; stroke-linejoin: miter\"/>\n   </g>\n   <g id=\"patch_276\">\n    <path d=\"M 2794.175971 349.551562 \nL 2804.231838 349.551562 \nL 2804.231838 349.551562 \nL 2794.175971 349.551562 \nz\n\" clip-path=\"url(#p4c9605b024)\" style=\"fill: #ff0000; opacity: 0.5; stroke: #ffffff; stroke-linejoin: miter\"/>\n   </g>\n   <g id=\"patch_277\">\n    <path d=\"M 2804.231838 349.551562 \nL 2814.287705 349.551562 \nL 2814.287705 349.551562 \nL 2804.231838 349.551562 \nz\n\" clip-path=\"url(#p4c9605b024)\" style=\"fill: #ff0000; opacity: 0.5; stroke: #ffffff; stroke-linejoin: miter\"/>\n   </g>\n   <g id=\"patch_278\">\n    <path d=\"M 2814.287705 349.551562 \nL 2824.343572 349.551562 \nL 2824.343572 349.551562 \nL 2814.287705 349.551562 \nz\n\" clip-path=\"url(#p4c9605b024)\" style=\"fill: #ff0000; opacity: 0.5; stroke: #ffffff; stroke-linejoin: miter\"/>\n   </g>\n   <g id=\"patch_279\">\n    <path d=\"M 2824.343572 349.551562 \nL 2834.399439 349.551562 \nL 2834.399439 349.551562 \nL 2824.343572 349.551562 \nz\n\" clip-path=\"url(#p4c9605b024)\" style=\"fill: #ff0000; opacity: 0.5; stroke: #ffffff; stroke-linejoin: miter\"/>\n   </g>\n   <g id=\"patch_280\">\n    <path d=\"M 2834.399439 349.551562 \nL 2844.455305 349.551562 \nL 2844.455305 349.551562 \nL 2834.399439 349.551562 \nz\n\" clip-path=\"url(#p4c9605b024)\" style=\"fill: #ff0000; opacity: 0.5; stroke: #ffffff; stroke-linejoin: miter\"/>\n   </g>\n   <g id=\"patch_281\">\n    <path d=\"M 2844.455305 349.551562 \nL 2854.511172 349.551562 \nL 2854.511172 349.551562 \nL 2844.455305 349.551562 \nz\n\" clip-path=\"url(#p4c9605b024)\" style=\"fill: #ff0000; opacity: 0.5; stroke: #ffffff; stroke-linejoin: miter\"/>\n   </g>\n   <g id=\"patch_282\">\n    <path d=\"M 2854.511172 349.551562 \nL 2864.567039 349.551562 \nL 2864.567039 349.551562 \nL 2854.511172 349.551562 \nz\n\" clip-path=\"url(#p4c9605b024)\" style=\"fill: #ff0000; opacity: 0.5; stroke: #ffffff; stroke-linejoin: miter\"/>\n   </g>\n   <g id=\"patch_283\">\n    <path d=\"M 2864.567039 349.551562 \nL 2874.622906 349.551562 \nL 2874.622906 349.551562 \nL 2864.567039 349.551562 \nz\n\" clip-path=\"url(#p4c9605b024)\" style=\"fill: #ff0000; opacity: 0.5; stroke: #ffffff; stroke-linejoin: miter\"/>\n   </g>\n   <g id=\"patch_284\">\n    <path d=\"M 2874.622906 349.551562 \nL 2884.678773 349.551562 \nL 2884.678773 349.551562 \nL 2874.622906 349.551562 \nz\n\" clip-path=\"url(#p4c9605b024)\" style=\"fill: #ff0000; opacity: 0.5; stroke: #ffffff; stroke-linejoin: miter\"/>\n   </g>\n   <g id=\"patch_285\">\n    <path d=\"M 2884.678773 349.551562 \nL 2894.734639 349.551562 \nL 2894.734639 349.551562 \nL 2884.678773 349.551562 \nz\n\" clip-path=\"url(#p4c9605b024)\" style=\"fill: #ff0000; opacity: 0.5; stroke: #ffffff; stroke-linejoin: miter\"/>\n   </g>\n   <g id=\"patch_286\">\n    <path d=\"M 2894.734639 349.551562 \nL 2904.790506 349.551562 \nL 2904.790506 349.551562 \nL 2894.734639 349.551562 \nz\n\" clip-path=\"url(#p4c9605b024)\" style=\"fill: #ff0000; opacity: 0.5; stroke: #ffffff; stroke-linejoin: miter\"/>\n   </g>\n   <g id=\"patch_287\">\n    <path d=\"M 2904.790506 349.551562 \nL 2914.846373 349.551562 \nL 2914.846373 349.551562 \nL 2904.790506 349.551562 \nz\n\" clip-path=\"url(#p4c9605b024)\" style=\"fill: #ff0000; opacity: 0.5; stroke: #ffffff; stroke-linejoin: miter\"/>\n   </g>\n   <g id=\"patch_288\">\n    <path d=\"M 2914.846373 349.551562 \nL 2924.90224 349.551562 \nL 2924.90224 349.551562 \nL 2914.846373 349.551562 \nz\n\" clip-path=\"url(#p4c9605b024)\" style=\"fill: #ff0000; opacity: 0.5; stroke: #ffffff; stroke-linejoin: miter\"/>\n   </g>\n   <g id=\"patch_289\">\n    <path d=\"M 2924.90224 349.551562 \nL 2934.958107 349.551562 \nL 2934.958107 349.551562 \nL 2924.90224 349.551562 \nz\n\" clip-path=\"url(#p4c9605b024)\" style=\"fill: #ff0000; opacity: 0.5; stroke: #ffffff; stroke-linejoin: miter\"/>\n   </g>\n   <g id=\"patch_290\">\n    <path d=\"M 2934.958107 349.551562 \nL 2945.013973 349.551562 \nL 2945.013973 349.551562 \nL 2934.958107 349.551562 \nz\n\" clip-path=\"url(#p4c9605b024)\" style=\"fill: #ff0000; opacity: 0.5; stroke: #ffffff; stroke-linejoin: miter\"/>\n   </g>\n   <g id=\"patch_291\">\n    <path d=\"M 2945.013973 349.551562 \nL 2955.06984 349.551562 \nL 2955.06984 349.551562 \nL 2945.013973 349.551562 \nz\n\" clip-path=\"url(#p4c9605b024)\" style=\"fill: #ff0000; opacity: 0.5; stroke: #ffffff; stroke-linejoin: miter\"/>\n   </g>\n   <g id=\"patch_292\">\n    <path d=\"M 2955.06984 349.551562 \nL 2965.125707 349.551562 \nL 2965.125707 349.551562 \nL 2955.06984 349.551562 \nz\n\" clip-path=\"url(#p4c9605b024)\" style=\"fill: #ff0000; opacity: 0.5; stroke: #ffffff; stroke-linejoin: miter\"/>\n   </g>\n   <g id=\"patch_293\">\n    <path d=\"M 2965.125707 349.551562 \nL 2975.181574 349.551562 \nL 2975.181574 349.551562 \nL 2965.125707 349.551562 \nz\n\" clip-path=\"url(#p4c9605b024)\" style=\"fill: #ff0000; opacity: 0.5; stroke: #ffffff; stroke-linejoin: miter\"/>\n   </g>\n   <g id=\"patch_294\">\n    <path d=\"M 2975.181574 349.551562 \nL 2985.237441 349.551562 \nL 2985.237441 349.551562 \nL 2975.181574 349.551562 \nz\n\" clip-path=\"url(#p4c9605b024)\" style=\"fill: #ff0000; opacity: 0.5; stroke: #ffffff; stroke-linejoin: miter\"/>\n   </g>\n   <g id=\"patch_295\">\n    <path d=\"M 2985.237441 349.551562 \nL 2995.293307 349.551562 \nL 2995.293307 349.551562 \nL 2985.237441 349.551562 \nz\n\" clip-path=\"url(#p4c9605b024)\" style=\"fill: #ff0000; opacity: 0.5; stroke: #ffffff; stroke-linejoin: miter\"/>\n   </g>\n   <g id=\"patch_296\">\n    <path d=\"M 2995.293307 349.551562 \nL 3005.349174 349.551562 \nL 3005.349174 349.551562 \nL 2995.293307 349.551562 \nz\n\" clip-path=\"url(#p4c9605b024)\" style=\"fill: #ff0000; opacity: 0.5; stroke: #ffffff; stroke-linejoin: miter\"/>\n   </g>\n   <g id=\"patch_297\">\n    <path d=\"M 3005.349174 349.551562 \nL 3015.405041 349.551562 \nL 3015.405041 349.551562 \nL 3005.349174 349.551562 \nz\n\" clip-path=\"url(#p4c9605b024)\" style=\"fill: #ff0000; opacity: 0.5; stroke: #ffffff; stroke-linejoin: miter\"/>\n   </g>\n   <g id=\"patch_298\">\n    <path d=\"M 3015.405041 349.551562 \nL 3025.460908 349.551562 \nL 3025.460908 349.551562 \nL 3015.405041 349.551562 \nz\n\" clip-path=\"url(#p4c9605b024)\" style=\"fill: #ff0000; opacity: 0.5; stroke: #ffffff; stroke-linejoin: miter\"/>\n   </g>\n   <g id=\"patch_299\">\n    <path d=\"M 3025.460908 349.551562 \nL 3035.516775 349.551562 \nL 3035.516775 349.551562 \nL 3025.460908 349.551562 \nz\n\" clip-path=\"url(#p4c9605b024)\" style=\"fill: #ff0000; opacity: 0.5; stroke: #ffffff; stroke-linejoin: miter\"/>\n   </g>\n   <g id=\"patch_300\">\n    <path d=\"M 3035.516775 349.551562 \nL 3045.572641 349.551562 \nL 3045.572641 349.551562 \nL 3035.516775 349.551562 \nz\n\" clip-path=\"url(#p4c9605b024)\" style=\"fill: #ff0000; opacity: 0.5; stroke: #ffffff; stroke-linejoin: miter\"/>\n   </g>\n   <g id=\"patch_301\">\n    <path d=\"M 3045.572641 349.551562 \nL 3055.628508 349.551562 \nL 3055.628508 349.551562 \nL 3045.572641 349.551562 \nz\n\" clip-path=\"url(#p4c9605b024)\" style=\"fill: #ff0000; opacity: 0.5; stroke: #ffffff; stroke-linejoin: miter\"/>\n   </g>\n   <g id=\"patch_302\">\n    <path d=\"M 3055.628508 349.551562 \nL 3065.684375 349.551562 \nL 3065.684375 349.538048 \nL 3055.628508 349.538048 \nz\n\" clip-path=\"url(#p4c9605b024)\" style=\"fill: #ff0000; opacity: 0.5; stroke: #ffffff; stroke-linejoin: miter\"/>\n   </g>\n   <g id=\"line2d_13\">\n    <path d=\"M 40.759246 349.547678 \nL 56.000905 326.698495 \nL 71.242565 278.035936 \nL 86.484224 81.456966 \nL 101.725884 45.916716 \nL 116.967543 137.489971 \nL 132.209202 238.824337 \nL 147.450862 283.943301 \nL 162.692521 316.90382 \nL 177.93418 330.578167 \nL 193.17584 340.522892 \nL 208.417499 346.037955 \nL 223.659159 347.546814 \nL 238.900818 348.755726 \nL 254.142477 349.303937 \nL 299.867456 349.530205 \nL 391.317412 349.551562 \nL 629.80625 349.551562 \nL 629.80625 349.551562 \n\" clip-path=\"url(#p4c9605b024)\" style=\"fill: none; stroke: #ff0000; stroke-width: 2; stroke-linecap: round\"/>\n   </g>\n   <g id=\"patch_303\">\n    <path d=\"M 52.484375 349.551562 \nL 52.484375 23.391562 \n\" style=\"fill: none; stroke: #262626; stroke-width: 0.8; stroke-linejoin: miter; stroke-linecap: square\"/>\n   </g>\n   <g id=\"patch_304\">\n    <path d=\"M 610.484375 349.551562 \nL 610.484375 23.391562 \n\" style=\"fill: none; stroke: #262626; stroke-width: 0.8; stroke-linejoin: miter; stroke-linecap: square\"/>\n   </g>\n   <g id=\"patch_305\">\n    <path d=\"M 52.484375 349.551562 \nL 610.484375 349.551562 \n\" style=\"fill: none; stroke: #262626; stroke-width: 0.8; stroke-linejoin: miter; stroke-linecap: square\"/>\n   </g>\n   <g id=\"patch_306\">\n    <path d=\"M 52.484375 23.391562 \nL 610.484375 23.391562 \n\" style=\"fill: none; stroke: #262626; stroke-width: 0.8; stroke-linejoin: miter; stroke-linecap: square\"/>\n   </g>\n   <g id=\"text_15\">\n    <!-- Distribution of Average Daily Rate (ADR) - Skewness -->\n    <g style=\"fill: #262626\" transform=\"translate(156.982031 17.391562)scale(0.14 -0.14)\">\n     <defs>\n      <path id=\"Arial-BoldMT-62\" d=\"M 422 0 \nL 422 4581 \nL 1300 4581 \nL 1300 2931 \nQ 1706 3394 2263 3394 \nQ 2869 3394 3266 2955 \nQ 3663 2516 3663 1694 \nQ 3663 844 3258 384 \nQ 2853 -75 2275 -75 \nQ 1991 -75 1714 67 \nQ 1438 209 1238 488 \nL 1238 0 \nL 422 0 \nz\nM 1294 1731 \nQ 1294 1216 1456 969 \nQ 1684 619 2063 619 \nQ 2353 619 2558 867 \nQ 2763 1116 2763 1650 \nQ 2763 2219 2556 2470 \nQ 2350 2722 2028 2722 \nQ 1713 2722 1503 2476 \nQ 1294 2231 1294 1731 \nz\n\" transform=\"scale(0.015625)\"/>\n      <path id=\"Arial-BoldMT-75\" d=\"M 2644 0 \nL 2644 497 \nQ 2463 231 2167 78 \nQ 1872 -75 1544 -75 \nQ 1209 -75 943 72 \nQ 678 219 559 484 \nQ 441 750 441 1219 \nL 441 3319 \nL 1319 3319 \nL 1319 1794 \nQ 1319 1094 1367 936 \nQ 1416 778 1544 686 \nQ 1672 594 1869 594 \nQ 2094 594 2272 717 \nQ 2450 841 2515 1023 \nQ 2581 1206 2581 1919 \nL 2581 3319 \nL 3459 3319 \nL 3459 0 \nL 2644 0 \nz\n\" transform=\"scale(0.015625)\"/>\n      <path id=\"Arial-BoldMT-6f\" d=\"M 256 1706 \nQ 256 2144 472 2553 \nQ 688 2963 1083 3178 \nQ 1478 3394 1966 3394 \nQ 2719 3394 3200 2905 \nQ 3681 2416 3681 1669 \nQ 3681 916 3195 420 \nQ 2709 -75 1972 -75 \nQ 1516 -75 1102 131 \nQ 688 338 472 736 \nQ 256 1134 256 1706 \nz\nM 1156 1659 \nQ 1156 1166 1390 903 \nQ 1625 641 1969 641 \nQ 2313 641 2545 903 \nQ 2778 1166 2778 1666 \nQ 2778 2153 2545 2415 \nQ 2313 2678 1969 2678 \nQ 1625 2678 1390 2415 \nQ 1156 2153 1156 1659 \nz\n\" transform=\"scale(0.015625)\"/>\n      <path id=\"Arial-BoldMT-66\" d=\"M 75 3319 \nL 563 3319 \nL 563 3569 \nQ 563 3988 652 4194 \nQ 741 4400 980 4529 \nQ 1219 4659 1584 4659 \nQ 1959 4659 2319 4547 \nL 2200 3934 \nQ 1991 3984 1797 3984 \nQ 1606 3984 1523 3895 \nQ 1441 3806 1441 3553 \nL 1441 3319 \nL 2097 3319 \nL 2097 2628 \nL 1441 2628 \nL 1441 0 \nL 563 0 \nL 563 2628 \nL 75 2628 \nL 75 3319 \nz\n\" transform=\"scale(0.015625)\"/>\n      <path id=\"Arial-BoldMT-2d\" d=\"M 359 1222 \nL 359 2100 \nL 2084 2100 \nL 2084 1222 \nL 359 1222 \nz\n\" transform=\"scale(0.015625)\"/>\n      <path id=\"Arial-BoldMT-53\" d=\"M 231 1491 \nL 1131 1578 \nQ 1213 1125 1461 912 \nQ 1709 700 2131 700 \nQ 2578 700 2804 889 \nQ 3031 1078 3031 1331 \nQ 3031 1494 2936 1608 \nQ 2841 1722 2603 1806 \nQ 2441 1863 1863 2006 \nQ 1119 2191 819 2459 \nQ 397 2838 397 3381 \nQ 397 3731 595 4036 \nQ 794 4341 1167 4500 \nQ 1541 4659 2069 4659 \nQ 2931 4659 3367 4281 \nQ 3803 3903 3825 3272 \nL 2900 3231 \nQ 2841 3584 2645 3739 \nQ 2450 3894 2059 3894 \nQ 1656 3894 1428 3728 \nQ 1281 3622 1281 3444 \nQ 1281 3281 1419 3166 \nQ 1594 3019 2269 2859 \nQ 2944 2700 3267 2529 \nQ 3591 2359 3773 2064 \nQ 3956 1769 3956 1334 \nQ 3956 941 3737 597 \nQ 3519 253 3119 86 \nQ 2719 -81 2122 -81 \nQ 1253 -81 787 320 \nQ 322 722 231 1491 \nz\n\" transform=\"scale(0.015625)\"/>\n      <path id=\"Arial-BoldMT-6b\" d=\"M 428 0 \nL 428 4581 \nL 1306 4581 \nL 1306 2150 \nL 2334 3319 \nL 3416 3319 \nL 2281 2106 \nL 3497 0 \nL 2550 0 \nL 1716 1491 \nL 1306 1063 \nL 1306 0 \nL 428 0 \nz\n\" transform=\"scale(0.015625)\"/>\n      <path id=\"Arial-BoldMT-77\" d=\"M 1078 0 \nL 28 3319 \nL 881 3319 \nL 1503 1144 \nL 2075 3319 \nL 2922 3319 \nL 3475 1144 \nL 4109 3319 \nL 4975 3319 \nL 3909 0 \nL 3066 0 \nL 2494 2134 \nL 1931 0 \nL 1078 0 \nz\n\" transform=\"scale(0.015625)\"/>\n     </defs>\n     <use xlink:href=\"#Arial-BoldMT-44\"/>\n     <use xlink:href=\"#Arial-BoldMT-69\" x=\"72.216797\"/>\n     <use xlink:href=\"#Arial-BoldMT-73\" x=\"100\"/>\n     <use xlink:href=\"#Arial-BoldMT-74\" x=\"155.615234\"/>\n     <use xlink:href=\"#Arial-BoldMT-72\" x=\"188.916016\"/>\n     <use xlink:href=\"#Arial-BoldMT-69\" x=\"227.832031\"/>\n     <use xlink:href=\"#Arial-BoldMT-62\" x=\"255.615234\"/>\n     <use xlink:href=\"#Arial-BoldMT-75\" x=\"316.699219\"/>\n     <use xlink:href=\"#Arial-BoldMT-74\" x=\"377.783203\"/>\n     <use xlink:href=\"#Arial-BoldMT-69\" x=\"411.083984\"/>\n     <use xlink:href=\"#Arial-BoldMT-6f\" x=\"438.867188\"/>\n     <use xlink:href=\"#Arial-BoldMT-6e\" x=\"499.951172\"/>\n     <use xlink:href=\"#Arial-BoldMT-20\" x=\"561.035156\"/>\n     <use xlink:href=\"#Arial-BoldMT-6f\" x=\"588.818359\"/>\n     <use xlink:href=\"#Arial-BoldMT-66\" x=\"649.902344\"/>\n     <use xlink:href=\"#Arial-BoldMT-20\" x=\"683.203125\"/>\n     <use xlink:href=\"#Arial-BoldMT-41\" x=\"707.236328\"/>\n     <use xlink:href=\"#Arial-BoldMT-76\" x=\"775.703125\"/>\n     <use xlink:href=\"#Arial-BoldMT-65\" x=\"831.318359\"/>\n     <use xlink:href=\"#Arial-BoldMT-72\" x=\"886.933594\"/>\n     <use xlink:href=\"#Arial-BoldMT-61\" x=\"925.849609\"/>\n     <use xlink:href=\"#Arial-BoldMT-67\" x=\"981.464844\"/>\n     <use xlink:href=\"#Arial-BoldMT-65\" x=\"1042.548828\"/>\n     <use xlink:href=\"#Arial-BoldMT-20\" x=\"1098.164062\"/>\n     <use xlink:href=\"#Arial-BoldMT-44\" x=\"1125.947266\"/>\n     <use xlink:href=\"#Arial-BoldMT-61\" x=\"1198.164062\"/>\n     <use xlink:href=\"#Arial-BoldMT-69\" x=\"1253.779297\"/>\n     <use xlink:href=\"#Arial-BoldMT-6c\" x=\"1281.5625\"/>\n     <use xlink:href=\"#Arial-BoldMT-79\" x=\"1309.345703\"/>\n     <use xlink:href=\"#Arial-BoldMT-20\" x=\"1364.960938\"/>\n     <use xlink:href=\"#Arial-BoldMT-52\" x=\"1392.744141\"/>\n     <use xlink:href=\"#Arial-BoldMT-61\" x=\"1464.960938\"/>\n     <use xlink:href=\"#Arial-BoldMT-74\" x=\"1520.576172\"/>\n     <use xlink:href=\"#Arial-BoldMT-65\" x=\"1553.876953\"/>\n     <use xlink:href=\"#Arial-BoldMT-20\" x=\"1609.492188\"/>\n     <use xlink:href=\"#Arial-BoldMT-28\" x=\"1637.275391\"/>\n     <use xlink:href=\"#Arial-BoldMT-41\" x=\"1670.576172\"/>\n     <use xlink:href=\"#Arial-BoldMT-44\" x=\"1742.792969\"/>\n     <use xlink:href=\"#Arial-BoldMT-52\" x=\"1815.009766\"/>\n     <use xlink:href=\"#Arial-BoldMT-29\" x=\"1887.226562\"/>\n     <use xlink:href=\"#Arial-BoldMT-20\" x=\"1920.527344\"/>\n     <use xlink:href=\"#Arial-BoldMT-2d\" x=\"1948.310547\"/>\n     <use xlink:href=\"#Arial-BoldMT-20\" x=\"1981.611328\"/>\n     <use xlink:href=\"#Arial-BoldMT-53\" x=\"2009.394531\"/>\n     <use xlink:href=\"#Arial-BoldMT-6b\" x=\"2076.09375\"/>\n     <use xlink:href=\"#Arial-BoldMT-65\" x=\"2131.708984\"/>\n     <use xlink:href=\"#Arial-BoldMT-77\" x=\"2187.324219\"/>\n     <use xlink:href=\"#Arial-BoldMT-6e\" x=\"2265.107422\"/>\n     <use xlink:href=\"#Arial-BoldMT-65\" x=\"2326.191406\"/>\n     <use xlink:href=\"#Arial-BoldMT-73\" x=\"2381.806641\"/>\n     <use xlink:href=\"#Arial-BoldMT-73\" x=\"2437.421875\"/>\n    </g>\n   </g>\n  </g>\n </g>\n <defs>\n  <clipPath id=\"p4c9605b024\">\n   <rect x=\"52.484375\" y=\"23.391562\" width=\"558\" height=\"326.16\"/>\n  </clipPath>\n </defs>\n</svg>\n",
            "text/plain": [
              "<Figure size 720x432 with 1 Axes>"
            ]
          },
          "metadata": {},
          "output_type": "display_data"
        }
      ],
      "source": [
        "plt.figure(figsize=(10,6))\n",
        "sns.set_style('ticks')\n",
        "ax = sns.distplot(df['adr'],bins = 300,color = 'r',kde_kws= {'lw': 2},hist_kws= {'alpha' : 0.5})\n",
        "ax.set_title('Distribution of Average Daily Rate (ADR) - Skewness',fontsize = 14, weight='bold')\n",
        "ax.set_xlabel(\"Average Daily Rate (ADR)\",weight = 'bold')\n",
        "ax.set_ylabel(\"Density\",weight = 'bold')\n",
        "ax.set_xlim(0, 1000);"
      ]
    },
    {
      "cell_type": "markdown",
      "metadata": {
        "id": "RViJw-Lk91JK"
      },
      "source": [
        "## 1.4 Data Preparation"
      ]
    },
    {
      "cell_type": "markdown",
      "metadata": {
        "id": "K3QtPSsH-2WI"
      },
      "source": [
        "### 1.4.1 Handling Missing Values"
      ]
    },
    {
      "cell_type": "code",
      "execution_count": 19,
      "metadata": {
        "colab": {
          "base_uri": "https://localhost:8080/"
        },
        "id": "ISTWUvSJ96gY",
        "outputId": "3f5d6ca3-28e3-435b-f123-a93b435560f4"
      },
      "outputs": [
        {
          "data": {
            "text/plain": [
              "hotel                                  0\n",
              "is_canceled                            0\n",
              "lead_time                              0\n",
              "arrival_date_year                      0\n",
              "arrival_date_month                     0\n",
              "arrival_date_week_number               0\n",
              "arrival_date_day_of_month              0\n",
              "stays_in_weekend_nights                0\n",
              "stays_in_week_nights                   0\n",
              "adults                                 0\n",
              "children                               4\n",
              "babies                                 0\n",
              "meal                                   0\n",
              "country                              488\n",
              "market_segment                         0\n",
              "distribution_channel                   0\n",
              "is_repeated_guest                      0\n",
              "previous_cancellations                 0\n",
              "previous_bookings_not_canceled         0\n",
              "reserved_room_type                     0\n",
              "assigned_room_type                     0\n",
              "booking_changes                        0\n",
              "deposit_type                           0\n",
              "agent                              16340\n",
              "company                           112593\n",
              "days_in_waiting_list                   0\n",
              "customer_type                          0\n",
              "adr                                    0\n",
              "required_car_parking_spaces            0\n",
              "total_of_special_requests              0\n",
              "reservation_status                     0\n",
              "reservation_status_date                0\n",
              "dtype: int64"
            ]
          },
          "execution_count": 19,
          "metadata": {},
          "output_type": "execute_result"
        }
      ],
      "source": [
        "df.isnull().sum()"
      ]
    },
    {
      "cell_type": "code",
      "execution_count": 20,
      "metadata": {
        "colab": {
          "base_uri": "https://localhost:8080/"
        },
        "id": "HwOMvU2J--vY",
        "outputId": "6dd8f67a-3f27-4355-bac9-92d4e7c96ddb"
      },
      "outputs": [
        {
          "name": "stdout",
          "output_type": "stream",
          "text": [
            "children : 0.0% Missing values\n",
            "country : 0.0041% Missing values\n",
            "agent : 0.1369% Missing values\n",
            "company : 0.9431% Missing values\n"
          ]
        }
      ],
      "source": [
        "feature_nan = [feature for feature in df.columns if df[feature].isnull().sum()>1]\n",
        "for feature in feature_nan:\n",
        "    print('{} : {}% Missing values'.format(feature,np.around(df[feature].isnull().mean(),4)))"
      ]
    },
    {
      "cell_type": "markdown",
      "metadata": {
        "id": "XKgfnST3_0gI"
      },
      "source": [
        "From the above Analysis, it shows percentage of missing values in feature.\n",
        "\n",
        "\n",
        "- \"Company\" feature has almost 94% missing values. Therefore, we do not have enough values to fill the rows or Impute the company column by mean, median etc. Hence we can drop the \"Company\" feature.\n",
        "- \"Agent\" feature has 13.69% missing values. \"Agent\" feature is travel agency Id and these values are unique and we cannot impute Id by mean, median or mode. Since, missing values are 13% of all data we can't drop them. Therefore, missing data for \"Agent\" can be filled by 0.\n",
        "-\"Country\" feature has 0.4% missing values. Since missing data of \"Country\" is less than 1%, we can will impute with most frequent value (Mode).\n",
        "- \"Children\" feature has only 4 missing values and we can fill these missing values by 0 considering guests have no children."
      ]
    },
    {
      "cell_type": "code",
      "execution_count": 21,
      "metadata": {
        "id": "6J9D2Qzn--2e"
      },
      "outputs": [],
      "source": [
        "#Dropping the \"Company\" feature\n",
        "df.drop(columns = ['company'],inplace= True)"
      ]
    },
    {
      "cell_type": "code",
      "execution_count": 22,
      "metadata": {
        "id": "lVu0JRoIAfLa"
      },
      "outputs": [],
      "source": [
        "#Filling missing values by 0 for \"Agent\" feature\n",
        "df['agent']= df['agent'].fillna(0)"
      ]
    },
    {
      "cell_type": "code",
      "execution_count": 23,
      "metadata": {
        "id": "UjxGP1N0AfSB"
      },
      "outputs": [],
      "source": [
        "#Imputing missing values of \"Country\" feature\n",
        "df['country'].fillna(df['country'].mode()[0], inplace=True)"
      ]
    },
    {
      "cell_type": "code",
      "execution_count": 24,
      "metadata": {
        "id": "9BcZgs1BAkPm"
      },
      "outputs": [],
      "source": [
        "#Filling missing values by 0 for \"Children\" feature \n",
        "df['children']= df['children'].fillna(0)"
      ]
    },
    {
      "cell_type": "markdown",
      "metadata": {
        "id": "rirpU0lKA2mX"
      },
      "source": [
        "All missing values in the data set are handled succcessfully"
      ]
    },
    {
      "cell_type": "code",
      "execution_count": 25,
      "metadata": {
        "id": "3BmeRpo_AkYm"
      },
      "outputs": [],
      "source": [
        "df1 = df.copy()"
      ]
    },
    {
      "cell_type": "markdown",
      "metadata": {
        "id": "3ZzUZZpnBdh-"
      },
      "source": [
        "### 1.4.2 Feature Encoding (Encoding Categorical Variables)"
      ]
    },
    {
      "cell_type": "code",
      "execution_count": 26,
      "metadata": {
        "colab": {
          "base_uri": "https://localhost:8080/"
        },
        "id": "CqJMrqjxBhNf",
        "outputId": "b2862436-9193-4e9f-ebfa-38420f7d0591"
      },
      "outputs": [
        {
          "name": "stdout",
          "output_type": "stream",
          "text": [
            "Number of Categorical Features are :  12\n"
          ]
        }
      ],
      "source": [
        "cat_feature = [feature for feature in df1.columns if df1[feature].dtype == 'object']\n",
        "print(\"Number of Categorical Features are : \",len(cat_feature))"
      ]
    },
    {
      "cell_type": "code",
      "execution_count": 27,
      "metadata": {
        "colab": {
          "base_uri": "https://localhost:8080/"
        },
        "id": "F4Y1Qk94B1NW",
        "outputId": "037d6b96-7bae-45d4-cf58-20ffb941d7c6"
      },
      "outputs": [
        {
          "name": "stdout",
          "output_type": "stream",
          "text": [
            "['hotel', 'arrival_date_month', 'meal', 'country', 'market_segment', 'distribution_channel', 'reserved_room_type', 'assigned_room_type', 'deposit_type', 'customer_type', 'reservation_status', 'reservation_status_date']\n"
          ]
        }
      ],
      "source": [
        "print(cat_feature)"
      ]
    },
    {
      "cell_type": "code",
      "execution_count": 28,
      "metadata": {
        "colab": {
          "base_uri": "https://localhost:8080/",
          "height": 259
        },
        "id": "9l9FdV1MB1Ug",
        "outputId": "9917684e-4a60-4524-a04b-451a49a0448a"
      },
      "outputs": [
        {
          "data": {
            "text/html": [
              "<div>\n",
              "<style scoped>\n",
              "    .dataframe tbody tr th:only-of-type {\n",
              "        vertical-align: middle;\n",
              "    }\n",
              "\n",
              "    .dataframe tbody tr th {\n",
              "        vertical-align: top;\n",
              "    }\n",
              "\n",
              "    .dataframe thead th {\n",
              "        text-align: right;\n",
              "    }\n",
              "</style>\n",
              "<table border=\"1\" class=\"dataframe\">\n",
              "  <thead>\n",
              "    <tr style=\"text-align: right;\">\n",
              "      <th></th>\n",
              "      <th>hotel</th>\n",
              "      <th>arrival_date_month</th>\n",
              "      <th>meal</th>\n",
              "      <th>country</th>\n",
              "      <th>market_segment</th>\n",
              "      <th>distribution_channel</th>\n",
              "      <th>reserved_room_type</th>\n",
              "      <th>assigned_room_type</th>\n",
              "      <th>deposit_type</th>\n",
              "      <th>customer_type</th>\n",
              "      <th>reservation_status</th>\n",
              "      <th>reservation_status_date</th>\n",
              "    </tr>\n",
              "  </thead>\n",
              "  <tbody>\n",
              "    <tr>\n",
              "      <th>0</th>\n",
              "      <td>Resort Hotel</td>\n",
              "      <td>July</td>\n",
              "      <td>BB</td>\n",
              "      <td>PRT</td>\n",
              "      <td>Direct</td>\n",
              "      <td>Direct</td>\n",
              "      <td>C</td>\n",
              "      <td>C</td>\n",
              "      <td>No Deposit</td>\n",
              "      <td>Transient</td>\n",
              "      <td>Check-Out</td>\n",
              "      <td>01/07/2015</td>\n",
              "    </tr>\n",
              "    <tr>\n",
              "      <th>1</th>\n",
              "      <td>Resort Hotel</td>\n",
              "      <td>July</td>\n",
              "      <td>BB</td>\n",
              "      <td>PRT</td>\n",
              "      <td>Direct</td>\n",
              "      <td>Direct</td>\n",
              "      <td>C</td>\n",
              "      <td>C</td>\n",
              "      <td>No Deposit</td>\n",
              "      <td>Transient</td>\n",
              "      <td>Check-Out</td>\n",
              "      <td>01/07/2015</td>\n",
              "    </tr>\n",
              "    <tr>\n",
              "      <th>2</th>\n",
              "      <td>Resort Hotel</td>\n",
              "      <td>July</td>\n",
              "      <td>BB</td>\n",
              "      <td>GBR</td>\n",
              "      <td>Direct</td>\n",
              "      <td>Direct</td>\n",
              "      <td>A</td>\n",
              "      <td>C</td>\n",
              "      <td>No Deposit</td>\n",
              "      <td>Transient</td>\n",
              "      <td>Check-Out</td>\n",
              "      <td>02/07/2015</td>\n",
              "    </tr>\n",
              "  </tbody>\n",
              "</table>\n",
              "</div>"
            ],
            "text/plain": [
              "          hotel arrival_date_month meal country market_segment  \\\n",
              "0  Resort Hotel               July   BB     PRT         Direct   \n",
              "1  Resort Hotel               July   BB     PRT         Direct   \n",
              "2  Resort Hotel               July   BB     GBR         Direct   \n",
              "\n",
              "  distribution_channel reserved_room_type assigned_room_type deposit_type  \\\n",
              "0               Direct                  C                  C   No Deposit   \n",
              "1               Direct                  C                  C   No Deposit   \n",
              "2               Direct                  A                  C   No Deposit   \n",
              "\n",
              "  customer_type reservation_status reservation_status_date  \n",
              "0     Transient          Check-Out              01/07/2015  \n",
              "1     Transient          Check-Out              01/07/2015  \n",
              "2     Transient          Check-Out              02/07/2015  "
            ]
          },
          "execution_count": 28,
          "metadata": {},
          "output_type": "execute_result"
        }
      ],
      "source": [
        "df1[cat_feature][:3]"
      ]
    },
    {
      "cell_type": "markdown",
      "metadata": {
        "id": "n28UGH0PCSGz"
      },
      "source": [
        "Let us check how many unique (Distinct) labels exists in each categorical features"
      ]
    },
    {
      "cell_type": "code",
      "execution_count": 29,
      "metadata": {
        "colab": {
          "base_uri": "https://localhost:8080/"
        },
        "id": "vK0HT4OICTAb",
        "outputId": "e5cce50e-bccb-4cc3-c43d-ff97832fbca6"
      },
      "outputs": [
        {
          "name": "stdout",
          "output_type": "stream",
          "text": [
            "hotel : 2 labels \n",
            "arrival_date_month : 12 labels \n",
            "meal : 5 labels \n",
            "country : 177 labels \n",
            "market_segment : 8 labels \n",
            "distribution_channel : 5 labels \n",
            "reserved_room_type : 10 labels \n",
            "assigned_room_type : 12 labels \n",
            "deposit_type : 3 labels \n",
            "customer_type : 4 labels \n",
            "reservation_status : 3 labels \n",
            "reservation_status_date : 926 labels \n"
          ]
        }
      ],
      "source": [
        "for feature in cat_feature:\n",
        "    print(\"{} : {} labels \".format(feature,len(df1[feature].unique())))"
      ]
    },
    {
      "cell_type": "code",
      "execution_count": 30,
      "metadata": {
        "id": "NMrSI8mHCfau"
      },
      "outputs": [],
      "source": [
        "#Custom mapping\n",
        "df1['hotel'] = df1['hotel'].map({'Resort Hotel':0, 'City Hotel':1})\n",
        "df1['arrival_date_month'] = df1['arrival_date_month'].map({'January':1, 'February': 2, 'March':3, 'April':4, 'May':5, 'June':6, 'July':7,\n",
        "                                                            'August':8, 'September':9, 'October':10, 'November':11, 'December':12})"
      ]
    },
    {
      "cell_type": "code",
      "execution_count": 31,
      "metadata": {
        "id": "5W2W0fPLCfeM"
      },
      "outputs": [],
      "source": [
        "#Replacing \"Undefined\" with \"SC\" as mentioned in data set description\n",
        "df1[\"meal\"].replace(\"Undefined\", \"SC\", inplace=True)"
      ]
    },
    {
      "cell_type": "code",
      "execution_count": 32,
      "metadata": {
        "id": "l3ai9_4RCfjJ"
      },
      "outputs": [],
      "source": [
        "#Applying label encoding for categorical features\n",
        "from sklearn.preprocessing import LabelEncoder\n",
        "le = LabelEncoder()\n",
        "\n",
        "df1['meal'] = le.fit_transform(df1['meal'])\n",
        "df1['deposit_type'] = le.fit_transform(df1['deposit_type'])\n",
        "df1['customer_type'] = le.fit_transform(df1['customer_type'])\n",
        "df1['market_segment'] = le.fit_transform(df1['market_segment'])\n",
        "df1['distribution_channel'] = le.fit_transform(df1['distribution_channel'])\n",
        "df1['reserved_room_type'] = le.fit_transform(df1['reserved_room_type'])\n",
        "df1['assigned_room_type']= le.fit_transform(df1['assigned_room_type'])\n",
        "df1['reservation_status'] = le.fit_transform(df1['reservation_status'])\n",
        "df1['reservation_status_date'] = le.fit_transform(df1['reservation_status_date'])\n",
        "df1['country'] = le.fit_transform(df1['country'])"
      ]
    },
    {
      "cell_type": "markdown",
      "metadata": {
        "id": "yJdaoigzuclk"
      },
      "source": [
        "## 1.5 Modeling - Regression"
      ]
    },
    {
      "cell_type": "code",
      "execution_count": 33,
      "metadata": {
        "colab": {
          "base_uri": "https://localhost:8080/",
          "height": 207
        },
        "id": "RZUnJEl9lBD4",
        "outputId": "bf6b9ebe-b9e3-4fbd-da4a-29cf3af12a5f"
      },
      "outputs": [
        {
          "data": {
            "text/html": [
              "<div>\n",
              "<style scoped>\n",
              "    .dataframe tbody tr th:only-of-type {\n",
              "        vertical-align: middle;\n",
              "    }\n",
              "\n",
              "    .dataframe tbody tr th {\n",
              "        vertical-align: top;\n",
              "    }\n",
              "\n",
              "    .dataframe thead th {\n",
              "        text-align: right;\n",
              "    }\n",
              "</style>\n",
              "<table border=\"1\" class=\"dataframe\">\n",
              "  <thead>\n",
              "    <tr style=\"text-align: right;\">\n",
              "      <th></th>\n",
              "      <th>hotel</th>\n",
              "      <th>is_canceled</th>\n",
              "      <th>lead_time</th>\n",
              "      <th>arrival_date_year</th>\n",
              "      <th>arrival_date_month</th>\n",
              "      <th>arrival_date_week_number</th>\n",
              "      <th>arrival_date_day_of_month</th>\n",
              "      <th>stays_in_weekend_nights</th>\n",
              "      <th>stays_in_week_nights</th>\n",
              "      <th>adults</th>\n",
              "      <th>children</th>\n",
              "      <th>babies</th>\n",
              "      <th>meal</th>\n",
              "      <th>country</th>\n",
              "      <th>market_segment</th>\n",
              "      <th>distribution_channel</th>\n",
              "      <th>is_repeated_guest</th>\n",
              "      <th>previous_cancellations</th>\n",
              "      <th>previous_bookings_not_canceled</th>\n",
              "      <th>reserved_room_type</th>\n",
              "      <th>assigned_room_type</th>\n",
              "      <th>booking_changes</th>\n",
              "      <th>deposit_type</th>\n",
              "      <th>agent</th>\n",
              "      <th>days_in_waiting_list</th>\n",
              "      <th>customer_type</th>\n",
              "      <th>adr</th>\n",
              "      <th>required_car_parking_spaces</th>\n",
              "      <th>total_of_special_requests</th>\n",
              "      <th>reservation_status</th>\n",
              "      <th>reservation_status_date</th>\n",
              "    </tr>\n",
              "  </thead>\n",
              "  <tbody>\n",
              "    <tr>\n",
              "      <th>0</th>\n",
              "      <td>0</td>\n",
              "      <td>0</td>\n",
              "      <td>342</td>\n",
              "      <td>2015</td>\n",
              "      <td>7</td>\n",
              "      <td>27</td>\n",
              "      <td>1</td>\n",
              "      <td>0</td>\n",
              "      <td>0</td>\n",
              "      <td>2</td>\n",
              "      <td>0.0</td>\n",
              "      <td>0</td>\n",
              "      <td>0</td>\n",
              "      <td>135</td>\n",
              "      <td>3</td>\n",
              "      <td>1</td>\n",
              "      <td>0</td>\n",
              "      <td>0</td>\n",
              "      <td>0</td>\n",
              "      <td>2</td>\n",
              "      <td>2</td>\n",
              "      <td>3</td>\n",
              "      <td>0</td>\n",
              "      <td>0.0</td>\n",
              "      <td>0</td>\n",
              "      <td>2</td>\n",
              "      <td>0.0</td>\n",
              "      <td>0</td>\n",
              "      <td>0</td>\n",
              "      <td>1</td>\n",
              "      <td>15</td>\n",
              "    </tr>\n",
              "    <tr>\n",
              "      <th>1</th>\n",
              "      <td>0</td>\n",
              "      <td>0</td>\n",
              "      <td>737</td>\n",
              "      <td>2015</td>\n",
              "      <td>7</td>\n",
              "      <td>27</td>\n",
              "      <td>1</td>\n",
              "      <td>0</td>\n",
              "      <td>0</td>\n",
              "      <td>2</td>\n",
              "      <td>0.0</td>\n",
              "      <td>0</td>\n",
              "      <td>0</td>\n",
              "      <td>135</td>\n",
              "      <td>3</td>\n",
              "      <td>1</td>\n",
              "      <td>0</td>\n",
              "      <td>0</td>\n",
              "      <td>0</td>\n",
              "      <td>2</td>\n",
              "      <td>2</td>\n",
              "      <td>4</td>\n",
              "      <td>0</td>\n",
              "      <td>0.0</td>\n",
              "      <td>0</td>\n",
              "      <td>2</td>\n",
              "      <td>0.0</td>\n",
              "      <td>0</td>\n",
              "      <td>0</td>\n",
              "      <td>1</td>\n",
              "      <td>15</td>\n",
              "    </tr>\n",
              "    <tr>\n",
              "      <th>2</th>\n",
              "      <td>0</td>\n",
              "      <td>0</td>\n",
              "      <td>7</td>\n",
              "      <td>2015</td>\n",
              "      <td>7</td>\n",
              "      <td>27</td>\n",
              "      <td>1</td>\n",
              "      <td>0</td>\n",
              "      <td>1</td>\n",
              "      <td>1</td>\n",
              "      <td>0.0</td>\n",
              "      <td>0</td>\n",
              "      <td>0</td>\n",
              "      <td>59</td>\n",
              "      <td>3</td>\n",
              "      <td>1</td>\n",
              "      <td>0</td>\n",
              "      <td>0</td>\n",
              "      <td>0</td>\n",
              "      <td>0</td>\n",
              "      <td>2</td>\n",
              "      <td>0</td>\n",
              "      <td>0</td>\n",
              "      <td>0.0</td>\n",
              "      <td>0</td>\n",
              "      <td>2</td>\n",
              "      <td>75.0</td>\n",
              "      <td>0</td>\n",
              "      <td>0</td>\n",
              "      <td>1</td>\n",
              "      <td>46</td>\n",
              "    </tr>\n",
              "  </tbody>\n",
              "</table>\n",
              "</div>"
            ],
            "text/plain": [
              "   hotel  is_canceled  lead_time  arrival_date_year  arrival_date_month  \\\n",
              "0      0            0        342               2015                   7   \n",
              "1      0            0        737               2015                   7   \n",
              "2      0            0          7               2015                   7   \n",
              "\n",
              "   arrival_date_week_number  arrival_date_day_of_month  \\\n",
              "0                        27                          1   \n",
              "1                        27                          1   \n",
              "2                        27                          1   \n",
              "\n",
              "   stays_in_weekend_nights  stays_in_week_nights  adults  children  babies  \\\n",
              "0                        0                     0       2       0.0       0   \n",
              "1                        0                     0       2       0.0       0   \n",
              "2                        0                     1       1       0.0       0   \n",
              "\n",
              "   meal  country  market_segment  distribution_channel  is_repeated_guest  \\\n",
              "0     0      135               3                     1                  0   \n",
              "1     0      135               3                     1                  0   \n",
              "2     0       59               3                     1                  0   \n",
              "\n",
              "   previous_cancellations  previous_bookings_not_canceled  reserved_room_type  \\\n",
              "0                       0                               0                   2   \n",
              "1                       0                               0                   2   \n",
              "2                       0                               0                   0   \n",
              "\n",
              "   assigned_room_type  booking_changes  deposit_type  agent  \\\n",
              "0                   2                3             0    0.0   \n",
              "1                   2                4             0    0.0   \n",
              "2                   2                0             0    0.0   \n",
              "\n",
              "   days_in_waiting_list  customer_type   adr  required_car_parking_spaces  \\\n",
              "0                     0              2   0.0                            0   \n",
              "1                     0              2   0.0                            0   \n",
              "2                     0              2  75.0                            0   \n",
              "\n",
              "   total_of_special_requests  reservation_status  reservation_status_date  \n",
              "0                          0                   1                       15  \n",
              "1                          0                   1                       15  \n",
              "2                          0                   1                       46  "
            ]
          },
          "execution_count": 33,
          "metadata": {},
          "output_type": "execute_result"
        }
      ],
      "source": [
        "df1.head(3)"
      ]
    },
    {
      "cell_type": "code",
      "execution_count": 34,
      "metadata": {
        "colab": {
          "base_uri": "https://localhost:8080/"
        },
        "id": "t3oQ4zy7t7m2",
        "outputId": "890f858a-f4b7-4160-f7e9-b12c5e76eedb"
      },
      "outputs": [
        {
          "data": {
            "text/plain": [
              "(119390, 31)"
            ]
          },
          "execution_count": 34,
          "metadata": {},
          "output_type": "execute_result"
        }
      ],
      "source": [
        "df1.shape"
      ]
    },
    {
      "cell_type": "code",
      "execution_count": 35,
      "metadata": {
        "id": "f85a5VdQuZMN"
      },
      "outputs": [],
      "source": [
        "# Create a copy of the cleaned data set to use specifically for this regression problem\n",
        "clean_data_reg = df1.copy()"
      ]
    },
    {
      "cell_type": "code",
      "execution_count": 36,
      "metadata": {
        "colab": {
          "base_uri": "https://localhost:8080/"
        },
        "id": "CaxXGSjZvn9R",
        "outputId": "a26bec4c-d1d3-49eb-f9b1-00e5b220aa72"
      },
      "outputs": [
        {
          "data": {
            "text/plain": [
              "adr                               1.000000\n",
              "reserved_room_type                0.392060\n",
              "children                          0.324853\n",
              "assigned_room_type                0.258134\n",
              "market_segment                    0.232763\n",
              "adults                            0.230641\n",
              "arrival_date_year                 0.197580\n",
              "total_of_special_requests         0.172185\n",
              "hotel                             0.096719\n",
              "distribution_channel              0.092396\n",
              "arrival_date_month                0.079315\n",
              "arrival_date_week_number          0.075791\n",
              "stays_in_week_nights              0.065237\n",
              "meal                              0.062491\n",
              "required_car_parking_spaces       0.056628\n",
              "stays_in_weekend_nights           0.049342\n",
              "is_canceled                       0.047557\n",
              "arrival_date_day_of_month         0.030245\n",
              "babies                            0.029186\n",
              "booking_changes                   0.019618\n",
              "agent                             0.016707\n",
              "reservation_status_date           0.013156\n",
              "days_in_waiting_list             -0.040756\n",
              "reservation_status               -0.050520\n",
              "lead_time                        -0.063077\n",
              "previous_cancellations           -0.065646\n",
              "previous_bookings_not_canceled   -0.072144\n",
              "customer_type                    -0.077155\n",
              "deposit_type                     -0.089838\n",
              "country                          -0.117085\n",
              "is_repeated_guest                -0.134314\n",
              "Name: adr, dtype: float64"
            ]
          },
          "execution_count": 36,
          "metadata": {},
          "output_type": "execute_result"
        }
      ],
      "source": [
        "clean_data_reg.corr()[\"adr\"].sort_values(ascending = False)"
      ]
    },
    {
      "cell_type": "code",
      "execution_count": 37,
      "metadata": {
        "id": "n1IrXII1wHmp"
      },
      "outputs": [],
      "source": [
        "# Drop \"assigned_room_type\", \"booking_changes\", \"is_canceled\", \"reservation_status\", and \"reservation_status_date\"\n",
        "clean_data_reg.drop(['assigned_room_type', 'booking_changes', 'is_canceled', 'reservation_status',\n",
        "                     'reservation_status_date'], axis = 1, inplace = True)"
      ]
    },
    {
      "cell_type": "code",
      "execution_count": 38,
      "metadata": {
        "colab": {
          "base_uri": "https://localhost:8080/"
        },
        "id": "o70iu-HSw77Y",
        "outputId": "e93f5cbb-dbf5-4d5a-b4db-c230f6f71fe0"
      },
      "outputs": [
        {
          "data": {
            "text/plain": [
              "(119390, 26)"
            ]
          },
          "execution_count": 38,
          "metadata": {},
          "output_type": "execute_result"
        }
      ],
      "source": [
        "clean_data_reg.shape"
      ]
    },
    {
      "cell_type": "code",
      "execution_count": 39,
      "metadata": {
        "id": "bCfFsRy_w-NU"
      },
      "outputs": [],
      "source": [
        "clean_df_reg = clean_data_reg.copy()"
      ]
    },
    {
      "cell_type": "code",
      "execution_count": 40,
      "metadata": {
        "id": "CdiGvuZwxFtK"
      },
      "outputs": [],
      "source": [
        "from sklearn.model_selection import train_test_split\n",
        "\n",
        "# target feature as \"y\" and the other features as \"x\"\n",
        "x = clean_df_reg.drop('adr', axis=1)\n",
        "y = clean_df_reg['adr']\n",
        "\n",
        "X_train, X_test, y_train, y_test = train_test_split(x, y, test_size=0.25, random_state= 95)"
      ]
    },
    {
      "cell_type": "code",
      "execution_count": 41,
      "metadata": {
        "id": "9349Mvsx3xfH"
      },
      "outputs": [],
      "source": [
        "#Import the scikit-learn functions and classes necessary to perform cross-validation\n",
        "from sklearn.pipeline import make_pipeline\n",
        "from sklearn import preprocessing\n",
        "from sklearn.model_selection import GridSearchCV\n",
        "\n",
        "# Import the scikit-learn class used to train an Elastic-Net model\n",
        "from sklearn.linear_model import ElasticNet\n",
        "\n",
        "# Create a pipeline specifying all of the operations to perform when training the model\n",
        "# In this case, the pipepline consists of z-score standardization and fitting of an Elastic-Net model\n",
        "pipeline_en = make_pipeline(preprocessing.StandardScaler(), ElasticNet(fit_intercept = True))\n",
        "\n",
        "# Specify the hyperparameters and their corresponding values that are to be used in GridSearch\n",
        "hyperparameters_en = { 'elasticnet__alpha' : [0.1, 0.3, 0.5, 0.7, 0.9, 1],\n",
        "                  'elasticnet__l1_ratio': [0.1, 0.3, 0.5, 0.7, 0.9, 1]}\n",
        "\n",
        "# Initialize the GridSearch cross-validation object, specifying 10 folds for 10-fold cross-validation and\n",
        "# \"r2\" and \"neg_mean_squared_error\" as the evaluation metrics for cross-validation scoring\n",
        "elastic_net = GridSearchCV(pipeline_en, hyperparameters_en, cv = 10, scoring = ['r2', 'neg_mean_squared_error'],\n",
        "                            refit = 'r2', verbose = 0, n_jobs = -1)\n",
        "\n",
        "# Train and cross-validate the random forest regression model and ignore the function output\n",
        "_ = elastic_net.fit(X_train, y_train)"
      ]
    },
    {
      "cell_type": "code",
      "execution_count": 42,
      "metadata": {
        "colab": {
          "base_uri": "https://localhost:8080/"
        },
        "id": "0TjfG3k04Vgj",
        "outputId": "d656c880-47ec-4838-fee6-2b0f00ec353e"
      },
      "outputs": [
        {
          "name": "stdout",
          "output_type": "stream",
          "text": [
            "Elastic Net Regression Accuracy Score (Train) : 0.3409358006477746\n",
            "Elastic Net Regression Accuracy Score (Test) : 0.38314890722234496\n"
          ]
        }
      ],
      "source": [
        "print(\"Elastic Net Regression Accuracy Score (Train) :\", elastic_net.score(X_train,y_train))\n",
        "print(\"Elastic Net Regression Accuracy Score (Test) :\",elastic_net.score(X_test,y_test))"
      ]
    },
    {
      "cell_type": "code",
      "execution_count": 43,
      "metadata": {
        "id": "LdO2R0rX4hRo"
      },
      "outputs": [],
      "source": [
        "# Import the scikit-learn class used to train a random forest regression model\n",
        "from sklearn.ensemble import RandomForestRegressor\n",
        "\n",
        "# Create a pipeline specifying all of the operations to perform when training the model\n",
        "# In this case, the pipepline consists of z-score standardization and fitting of a random forest regressor\n",
        "pipeline_rf = make_pipeline(preprocessing.StandardScaler(),\n",
        "                            RandomForestRegressor(n_estimators=100, random_state = 42))\n",
        "\n",
        "# Specify the hyperparameters and their corresponding values that are to be used in GridSearch\n",
        "hyperparameters_rf = {'randomforestregressor__max_features' : ['auto', 'sqrt', 'log2'],\n",
        "                      'randomforestregressor__max_depth': [None, 5]}\n",
        "\n",
        "# Initialize the GridSearch cross-validation object, specifying 10 folds for 10-fold cross-validation and\n",
        "# \"r2\" and \"neg_mean_squared_error\" as the evaluation metrics for cross-validation scoring\n",
        "random_forest = GridSearchCV(pipeline_rf, hyperparameters_rf, cv = 10, scoring = ['r2', 'neg_mean_squared_error'],\n",
        "                            refit = 'r2', verbose = 0, n_jobs = -1)\n",
        "\n",
        "# Train and cross-validate the random forest regression model and ignore the function output\n",
        "_ = random_forest.fit(X_train, y_train)"
      ]
    },
    {
      "cell_type": "code",
      "execution_count": 44,
      "metadata": {
        "colab": {
          "base_uri": "https://localhost:8080/"
        },
        "id": "1DEZSVla4yPY",
        "outputId": "9612d2e7-ca90-4ca3-b8d6-2decc04f78b8"
      },
      "outputs": [
        {
          "name": "stdout",
          "output_type": "stream",
          "text": [
            "Random Forest Regressor Accuracy Score (Train) : 0.9680667656456161\n",
            "Random Forest Regressor Accuracy Score (Test) : 0.8915016143900129\n"
          ]
        }
      ],
      "source": [
        "print(\"Random Forest Regressor Accuracy Score (Train) :\", random_forest.score(X_train,y_train))\n",
        "print(\"Random Forest Regressor Accuracy Score (Test) :\",random_forest.score(X_test,y_test))"
      ]
    },
    {
      "cell_type": "code",
      "execution_count": 45,
      "metadata": {
        "colab": {
          "base_uri": "https://localhost:8080/"
        },
        "id": "Cr3KEujM7qZA",
        "outputId": "8f50c6e2-9f7e-4f12-f63a-1eb7696379f4"
      },
      "outputs": [
        {
          "name": "stdout",
          "output_type": "stream",
          "text": [
            "Elastic-Net R^2 (train): 0.364\n",
            "Elastic-Net R^2 (test): 0.383 \n",
            "\n",
            "Elastic-Net NMSE (train): -1739.455\n",
            "Elastic-Net NMSE (test): -1422.991 \n",
            "\n",
            "Random forest R^2 (train): 0.835\n",
            "Random forest R^2 (test): 0.892 \n",
            "\n",
            "Random forest NMSE (train): -579.177\n",
            "Random forest NMSE (test): -250.291\n"
          ]
        }
      ],
      "source": [
        "# Import the scikit-learn functions used to calculate the R^2 and NMSE on the test set\n",
        "from sklearn.metrics import r2_score, mean_squared_error\n",
        "\n",
        "# Use the best Elastic-Net model to make predictions on the test set\n",
        "y_test_pred_en = elastic_net.predict(X_test)\n",
        "\n",
        "# Display the R^2 and NMSE on the train and test sets for the Elastic-Net model\n",
        "print('Elastic-Net R^2 (train):', round(elastic_net.cv_results_['mean_test_r2'][elastic_net.best_index_], 3))\n",
        "print('Elastic-Net R^2 (test):', round(r2_score(y_test, y_test_pred_en), 3), '\\n')\n",
        "print('Elastic-Net NMSE (train):', round(elastic_net.cv_results_['mean_test_neg_mean_squared_error'][elastic_net.best_index_], 3))\n",
        "print('Elastic-Net NMSE (test):', round(mean_squared_error(y_test, y_test_pred_en) * -1, 3), '\\n')\n",
        "\n",
        "# Use the best random forest model to make predictions on the test set\n",
        "y_test_pred_rf = random_forest.predict(X_test)\n",
        "\n",
        "# Display the R^2 and NMSE on the train and test sets for the random forest model\n",
        "print('Random forest R^2 (train):', round(random_forest.cv_results_['mean_test_r2'][random_forest.best_index_], 3))\n",
        "print('Random forest R^2 (test):', round(r2_score(y_test, y_test_pred_rf), 3), '\\n')\n",
        "print('Random forest NMSE (train):', round(random_forest.cv_results_['mean_test_neg_mean_squared_error'][random_forest.best_index_], 3))\n",
        "print('Random forest NMSE (test):', round(mean_squared_error(y_test, y_test_pred_rf) * -1, 3))"
      ]
    },
    {
      "cell_type": "code",
      "execution_count": 46,
      "metadata": {
        "colab": {
          "base_uri": "https://localhost:8080/"
        },
        "id": "tp7b1jMqOfSg",
        "outputId": "a085949b-f72e-4a11-9f30-d28a739f0592"
      },
      "outputs": [
        {
          "data": {
            "text/plain": [
              "XGBRegressor(base_score=0.5, booster='gbtree', callbacks=None,\n",
              "             colsample_bylevel=1, colsample_bynode=1, colsample_bytree=1,\n",
              "             early_stopping_rounds=None, enable_categorical=False,\n",
              "             eval_metric=None, gamma=0, gpu_id=-1, grow_policy='depthwise',\n",
              "             importance_type=None, interaction_constraints='',\n",
              "             learning_rate=0.300000012, max_bin=256, max_cat_to_onehot=4,\n",
              "             max_delta_step=0, max_depth=6, max_leaves=0, min_child_weight=1,\n",
              "             missing=nan, monotone_constraints='()', n_estimators=100, n_jobs=0,\n",
              "             num_parallel_tree=1, predictor='auto', random_state=42,\n",
              "             reg_alpha=0, reg_lambda=1, ...)"
            ]
          },
          "execution_count": 46,
          "metadata": {},
          "output_type": "execute_result"
        }
      ],
      "source": [
        "from xgboost.sklearn import XGBRegressor\n",
        "\n",
        "xgb_reg = XGBRegressor(objective = 'reg:squarederror',random_state= 42)\n",
        "xgb_reg.fit(X_train,y_train)"
      ]
    },
    {
      "cell_type": "code",
      "execution_count": 47,
      "metadata": {
        "colab": {
          "base_uri": "https://localhost:8080/"
        },
        "id": "MzCQ9pT8r0RU",
        "outputId": "d8298a5f-5a70-451d-eac7-af0a4ccb8ada"
      },
      "outputs": [
        {
          "data": {
            "text/plain": [
              "0.9027583519749954"
            ]
          },
          "execution_count": 47,
          "metadata": {},
          "output_type": "execute_result"
        }
      ],
      "source": [
        "xgb_reg.score(X_train,y_train)"
      ]
    },
    {
      "cell_type": "code",
      "execution_count": 48,
      "metadata": {
        "colab": {
          "base_uri": "https://localhost:8080/"
        },
        "id": "OwY3jKuKr-YU",
        "outputId": "c4b2ca61-289a-41cd-8bb3-7e8a2116c3ff"
      },
      "outputs": [
        {
          "data": {
            "text/plain": [
              "0.8844623096197612"
            ]
          },
          "execution_count": 48,
          "metadata": {},
          "output_type": "execute_result"
        }
      ],
      "source": [
        "xgb_reg.score(X_test,y_test)"
      ]
    },
    {
      "cell_type": "code",
      "execution_count": 49,
      "metadata": {
        "id": "CM3CkX4yNJij"
      },
      "outputs": [],
      "source": [
        "xgb1 = XGBRegressor()\n",
        "parameters = {\n",
        "              'objective':['reg:linear','reg:squarederror'],\n",
        "              'learning_rate': [.03, .05, .07], #so called `eta` value\n",
        "              'max_depth': [5, 6, 7],\n",
        "              'min_child_weight': [4],\n",
        "              'subsample': [0.7],\n",
        "              'colsample_bytree': [0.7],\n",
        "              'n_estimators': [100,200]}\n",
        "\n",
        "xgb_grid = GridSearchCV(xgb1,parameters,cv = 10, n_jobs = -1, verbose=True)"
      ]
    },
    {
      "cell_type": "code",
      "execution_count": 50,
      "metadata": {
        "colab": {
          "base_uri": "https://localhost:8080/"
        },
        "id": "o2noBlTHy59K",
        "outputId": "d48d8388-b5ff-4fd1-8ecc-556e4bf33555"
      },
      "outputs": [
        {
          "name": "stdout",
          "output_type": "stream",
          "text": [
            "Fitting 10 folds for each of 36 candidates, totalling 360 fits\n",
            "[16:38:25] WARNING: C:/Users/Administrator/workspace/xgboost-win64_release_1.6.0/src/objective/regression_obj.cu:203: reg:linear is now deprecated in favor of reg:squarederror.\n"
          ]
        },
        {
          "data": {
            "text/plain": [
              "GridSearchCV(cv=10,\n",
              "             estimator=XGBRegressor(base_score=None, booster=None,\n",
              "                                    callbacks=None, colsample_bylevel=None,\n",
              "                                    colsample_bynode=None,\n",
              "                                    colsample_bytree=None,\n",
              "                                    early_stopping_rounds=None,\n",
              "                                    enable_categorical=False, eval_metric=None,\n",
              "                                    gamma=None, gpu_id=None, grow_policy=None,\n",
              "                                    importance_type=None,\n",
              "                                    interaction_constraints=None,\n",
              "                                    learning_rate=None, max_bin=None,\n",
              "                                    max_ca...\n",
              "                                    monotone_constraints=None, n_estimators=100,\n",
              "                                    n_jobs=None, num_parallel_tree=None,\n",
              "                                    predictor=None, random_state=None,\n",
              "                                    reg_alpha=None, reg_lambda=None, ...),\n",
              "             n_jobs=-1,\n",
              "             param_grid={'colsample_bytree': [0.7],\n",
              "                         'learning_rate': [0.03, 0.05, 0.07],\n",
              "                         'max_depth': [5, 6, 7], 'min_child_weight': [4],\n",
              "                         'n_estimators': [100, 200],\n",
              "                         'objective': ['reg:linear', 'reg:squarederror'],\n",
              "                         'subsample': [0.7]},\n",
              "             verbose=True)"
            ]
          },
          "execution_count": 50,
          "metadata": {},
          "output_type": "execute_result"
        }
      ],
      "source": [
        "xgb_grid.fit(X_train,y_train)"
      ]
    },
    {
      "cell_type": "code",
      "execution_count": 51,
      "metadata": {
        "colab": {
          "base_uri": "https://localhost:8080/"
        },
        "id": "U7Db5oWFzGDy",
        "outputId": "e6fd7ba5-2c19-4d9c-b8a7-ea803f4f2fad"
      },
      "outputs": [
        {
          "name": "stdout",
          "output_type": "stream",
          "text": [
            "XGBOOST Regressor Accuracy Score (Train) : 0.8598538421514764\n",
            "XGBOOST Regressor Accuracy Score (Test) : 0.8877181739916994\n"
          ]
        }
      ],
      "source": [
        "print(\"XGBOOST Regressor Accuracy Score (Train) :\", xgb_grid.score(X_train,y_train))\n",
        "print(\"XGBOOST Regressor Accuracy Score (Test) :\",xgb_grid.score(X_test,y_test))"
      ]
    },
    {
      "cell_type": "code",
      "execution_count": 52,
      "metadata": {
        "colab": {
          "base_uri": "https://localhost:8080/"
        },
        "id": "t4LXM4hAOHFD",
        "outputId": "46c0acc4-0414-41ba-8c16-d7517068008c"
      },
      "outputs": [
        {
          "name": "stdout",
          "output_type": "stream",
          "text": [
            "XGBOOST Regressor Best score: 0.8332961790548472 using best parameters {'colsample_bytree': 0.7, 'learning_rate': 0.07, 'max_depth': 7, 'min_child_weight': 4, 'n_estimators': 200, 'objective': 'reg:linear', 'subsample': 0.7}\n"
          ]
        }
      ],
      "source": [
        "print('XGBOOST Regressor Best score: {} using best parameters {}'.format(xgb_grid.best_score_, xgb_grid.best_params_))"
      ]
    }
  ],
  "metadata": {
    "accelerator": "GPU",
    "colab": {
      "collapsed_sections": [],
      "name": "project_regression.ipynb",
      "provenance": []
    },
    "kernelspec": {
      "display_name": "Python 3.9.7 ('base')",
      "language": "python",
      "name": "python3"
    },
    "language_info": {
      "codemirror_mode": {
        "name": "ipython",
        "version": 3
      },
      "file_extension": ".py",
      "mimetype": "text/x-python",
      "name": "python",
      "nbconvert_exporter": "python",
      "pygments_lexer": "ipython3",
      "version": "3.9.7"
    },
    "vscode": {
      "interpreter": {
        "hash": "a46ab26e6b0650ab1e4a5d5ebf2154ccc3b76ac68921e73180d67a8dee951259"
      }
    }
  },
  "nbformat": 4,
  "nbformat_minor": 0
}
